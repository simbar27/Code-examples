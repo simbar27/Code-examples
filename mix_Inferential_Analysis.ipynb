{
  "nbformat": 4,
  "nbformat_minor": 0,
  "metadata": {
    "colab": {
      "provenance": []
    },
    "kernelspec": {
      "name": "python3",
      "display_name": "Python 3"
    },
    "language_info": {
      "name": "python"
    }
  },
  "cells": [
    {
      "cell_type": "code",
      "source": [
        "# Maksym Lesyk, 614228"
      ],
      "metadata": {
        "id": "MM_XpQUHHAeM"
      },
      "execution_count": null,
      "outputs": []
    },
    {
      "cell_type": "code",
      "execution_count": null,
      "metadata": {
        "id": "p7MTMnJvamly"
      },
      "outputs": [],
      "source": [
        "# import libraries\n",
        "import pandas as pd\n",
        "import numpy as np\n",
        "import matplotlib.pyplot as plt\n",
        "from statsmodels.formula.api import ols"
      ]
    },
    {
      "cell_type": "code",
      "source": [
        "# read datasets\n",
        "bl1=pd.read_csv(\"/content/drive/MyDrive/Datasets_MS_inf/bvd_contact_info_berlin.csv\")\n",
        "bl2=pd.read_csv('/content/drive/MyDrive/Datasets_MS_inf/bvd_fin_data_berlin.csv')\n",
        "bl3=pd.read_csv('/content/drive/MyDrive/Datasets_MS_inf/bvd_industry_info_berlin.csv')\n",
        "st1=pd.read_csv('/content/drive/MyDrive/Datasets_MS_inf/bvd_contact_info_stockholm.csv')\n",
        "st2=pd.read_csv('/content/drive/MyDrive/Datasets_MS_inf/bvd_fin_data_stockholm.csv')\n",
        "st3=pd.read_csv('/content/drive/MyDrive/Datasets_MS_inf/bvd_industry_info_stockholm.csv')"
      ],
      "metadata": {
        "colab": {
          "base_uri": "https://localhost:8080/"
        },
        "id": "5DPK5QX2a2ED",
        "outputId": "e5a28622-1d76-4cd2-ba63-7cdda39a29b5"
      },
      "execution_count": null,
      "outputs": [
        {
          "output_type": "stream",
          "name": "stderr",
          "text": [
            "/usr/local/lib/python3.8/dist-packages/IPython/core/interactiveshell.py:3326: DtypeWarning: Columns (7) have mixed types.Specify dtype option on import or set low_memory=False.\n",
            "  exec(code_obj, self.user_global_ns, self.user_ns)\n",
            "/usr/local/lib/python3.8/dist-packages/IPython/core/interactiveshell.py:3326: DtypeWarning: Columns (5,6,7) have mixed types.Specify dtype option on import or set low_memory=False.\n",
            "  exec(code_obj, self.user_global_ns, self.user_ns)\n"
          ]
        }
      ]
    },
    {
      "cell_type": "code",
      "source": [
        "# check size\n",
        "print(bl1.shape[0])\n",
        "print(bl2.shape[0])\n",
        "print(bl3.shape[0])"
      ],
      "metadata": {
        "colab": {
          "base_uri": "https://localhost:8080/"
        },
        "id": "lF7Jf00idhKl",
        "outputId": "6676e2cb-97aa-4685-ff5e-f2d1584e9944"
      },
      "execution_count": null,
      "outputs": [
        {
          "output_type": "stream",
          "name": "stdout",
          "text": [
            "226059\n",
            "798509\n",
            "658565\n"
          ]
        }
      ]
    },
    {
      "cell_type": "code",
      "source": [
        "# merge w/o financial data for now\n",
        "bl_cd1 = pd.merge(bl1, bl3, how='left', on = 'BvD ID number')\n",
        "st_cd1 = pd.merge(st1, st3, how='left', on = 'BvD ID number')"
      ],
      "metadata": {
        "id": "H29b_Jeudwj2"
      },
      "execution_count": null,
      "outputs": []
    },
    {
      "cell_type": "code",
      "source": [
        "# use NACE as industry identifier\n",
        "bl_cd1[\"Classification\"]=bl_cd1[\"NACE Rev. 2, Core code (4 digits)\"]\n",
        "st_cd1[\"Classification\"]=st_cd1[\"NACE Rev. 2, Core code (4 digits)\"]"
      ],
      "metadata": {
        "id": "Lgf1SL-mCti9"
      },
      "execution_count": null,
      "outputs": []
    },
    {
      "cell_type": "code",
      "source": [
        "# tag and subset\n",
        "bl_bc=bl_cd1[bl_cd1.Classification.astype(str).str.match(\"5630\")]\n",
        "bl_bc[\"Classification\"]=\"Bars and Clubs\"\n",
        "bl_r=bl_cd1[bl_cd1.Classification.astype(str).str.match(\"5610\")]\n",
        "bl_r[\"Classification\"]=\"Restaurants\"\n",
        "bl_h=bl_cd1[bl_cd1.Classification.astype(str).str.match(\"5510\")]\n",
        "bl_h[\"Classification\"]=\"Hotels\"\n",
        "bl = pd.concat([bl_bc, bl_r,bl_h])\n",
        "\n",
        "st_bc=st_cd1[st_cd1.Classification.astype(str).str.match(\"5630\")]\n",
        "st_bc[\"Classification\"]=\"Bars and Clubs\"\n",
        "st_r=st_cd1[st_cd1.Classification.astype(str).str.match(\"5610\")]\n",
        "st_r[\"Classification\"]=\"Restaurants\"\n",
        "st_h=st_cd1[st_cd1.Classification.astype(str).str.match(\"5510\")]\n",
        "st_h[\"Classification\"]=\"Hotels\"\n",
        "st = pd.concat([st_bc, st_r,st_h])"
      ],
      "metadata": {
        "colab": {
          "base_uri": "https://localhost:8080/"
        },
        "id": "a5-akCvMCovk",
        "outputId": "49b177a2-4417-454e-c552-c424f030e985"
      },
      "execution_count": null,
      "outputs": [
        {
          "output_type": "stream",
          "name": "stderr",
          "text": [
            "<ipython-input-186-912007f4554d>:2: SettingWithCopyWarning: \n",
            "A value is trying to be set on a copy of a slice from a DataFrame.\n",
            "Try using .loc[row_indexer,col_indexer] = value instead\n",
            "\n",
            "See the caveats in the documentation: https://pandas.pydata.org/pandas-docs/stable/user_guide/indexing.html#returning-a-view-versus-a-copy\n",
            "  bl_bc[\"Classification\"]=\"Bars and Clubs\"\n",
            "<ipython-input-186-912007f4554d>:4: SettingWithCopyWarning: \n",
            "A value is trying to be set on a copy of a slice from a DataFrame.\n",
            "Try using .loc[row_indexer,col_indexer] = value instead\n",
            "\n",
            "See the caveats in the documentation: https://pandas.pydata.org/pandas-docs/stable/user_guide/indexing.html#returning-a-view-versus-a-copy\n",
            "  bl_r[\"Classification\"]=\"Restaurants\"\n",
            "<ipython-input-186-912007f4554d>:6: SettingWithCopyWarning: \n",
            "A value is trying to be set on a copy of a slice from a DataFrame.\n",
            "Try using .loc[row_indexer,col_indexer] = value instead\n",
            "\n",
            "See the caveats in the documentation: https://pandas.pydata.org/pandas-docs/stable/user_guide/indexing.html#returning-a-view-versus-a-copy\n",
            "  bl_h[\"Classification\"]=\"Hotels\"\n",
            "<ipython-input-186-912007f4554d>:12: SettingWithCopyWarning: \n",
            "A value is trying to be set on a copy of a slice from a DataFrame.\n",
            "Try using .loc[row_indexer,col_indexer] = value instead\n",
            "\n",
            "See the caveats in the documentation: https://pandas.pydata.org/pandas-docs/stable/user_guide/indexing.html#returning-a-view-versus-a-copy\n",
            "  st_r[\"Classification\"]=\"Restaurants\"\n",
            "<ipython-input-186-912007f4554d>:14: SettingWithCopyWarning: \n",
            "A value is trying to be set on a copy of a slice from a DataFrame.\n",
            "Try using .loc[row_indexer,col_indexer] = value instead\n",
            "\n",
            "See the caveats in the documentation: https://pandas.pydata.org/pandas-docs/stable/user_guide/indexing.html#returning-a-view-versus-a-copy\n",
            "  st_h[\"Classification\"]=\"Hotels\"\n"
          ]
        }
      ]
    },
    {
      "cell_type": "code",
      "source": [
        "# we can see that there are ifferent formats\n",
        "print(np.unique(bl2[['Closing date']].values))"
      ],
      "metadata": {
        "colab": {
          "base_uri": "https://localhost:8080/"
        },
        "id": "l-RIKaMrM_c1",
        "outputId": "0ef5b27f-e3da-442e-a6f6-8c689ab926a3"
      },
      "execution_count": null,
      "outputs": [
        {
          "output_type": "stream",
          "name": "stdout",
          "text": [
            "[    1980     1981     1982 ... 20220117 20220118 20220124]\n"
          ]
        }
      ]
    },
    {
      "cell_type": "code",
      "source": [
        "# correct this\n",
        "bl2['year'] = bl2['Closing date'].astype(str).str[:4]\n",
        "st2['year'] = st2['Closing date'].astype(str).str[:4]"
      ],
      "metadata": {
        "id": "m_WymVuUOFrc"
      },
      "execution_count": null,
      "outputs": []
    },
    {
      "cell_type": "code",
      "source": [
        "# check\n",
        "print(np.unique(bl2[['year']].values))\n",
        "print(np.unique(st2[['year']].values))"
      ],
      "metadata": {
        "colab": {
          "base_uri": "https://localhost:8080/"
        },
        "id": "gU3Xb_CAPhse",
        "outputId": "93697f55-a777-41dc-984b-8ebe2f558216"
      },
      "execution_count": null,
      "outputs": [
        {
          "output_type": "stream",
          "name": "stdout",
          "text": [
            "['1980' '1981' '1982' '1983' '1984' '1985' '1986' '1987' '1988' '1989'\n",
            " '1990' '1991' '1992' '1993' '1994' '1995' '1996' '1997' '1998' '1999'\n",
            " '2000' '2001' '2002' '2003' '2004' '2005' '2006' '2007' '2008' '2009'\n",
            " '2010' '2011' '2012' '2013' '2014' '2015' '2016' '2017' '2018' '2019'\n",
            " '2020' '2021' '2022']\n",
            "['1984' '1985' '1986' '1987' '1988' '1989' '1990' '1991' '1992' '1993'\n",
            " '1994' '1995' '1996' '1997' '1998' '1999' '2000' '2001' '2002' '2003'\n",
            " '2004' '2005' '2006' '2007' '2008' '2009' '2010' '2011' '2012' '2013'\n",
            " '2014' '2015' '2016' '2017' '2018' '2019' '2020' '2021' '2022']\n"
          ]
        }
      ]
    },
    {
      "cell_type": "code",
      "source": [
        "# convert back to numbers\n",
        "bl2['year'] = bl2['year'].astype(int)\n",
        "st2['year'] = st2['year'].astype(int)"
      ],
      "metadata": {
        "id": "k7u1b3fPPynA"
      },
      "execution_count": null,
      "outputs": []
    },
    {
      "cell_type": "code",
      "source": [
        "# subset into 3 years before and after Covid\n",
        "bl2_a = bl2[bl2[\"year\"] >= 2020]\n",
        "bl2_b = bl2[(bl2['year'] < 2020) & (bl2['year'] > 2016)]\n",
        "st2_b = st2[(st2['year'] < 2020) & (st2['year'] > 2016)]\n",
        "st2_a = st2[st2[\"year\"] >= 2020]"
      ],
      "metadata": {
        "id": "sWK7m3SzQFmh"
      },
      "execution_count": null,
      "outputs": []
    },
    {
      "cell_type": "code",
      "source": [
        "# check\n",
        "print(np.unique(bl2_a[['year']].values))\n",
        "print(np.unique(bl2_b[['year']].values))\n",
        "print(np.unique(st2_a[['year']].values))\n",
        "print(np.unique(st2_b[['year']].values))"
      ],
      "metadata": {
        "colab": {
          "base_uri": "https://localhost:8080/"
        },
        "id": "3y-7-fA3VHzK",
        "outputId": "4dcf0fa2-54eb-4208-8729-885f73400327"
      },
      "execution_count": null,
      "outputs": [
        {
          "output_type": "stream",
          "name": "stdout",
          "text": [
            "[2020 2021 2022]\n",
            "[2017 2018 2019]\n",
            "[2020 2021 2022]\n",
            "[2017 2018 2019]\n"
          ]
        }
      ]
    },
    {
      "cell_type": "code",
      "source": [
        "# merge with financial data\n",
        "bl_fa = pd.merge(bl, bl2_a, how='left', on = 'BvD ID number')\n",
        "st_fa = pd.merge(st, st2_a, how='left', on = 'BvD ID number')\n",
        "bl_fb = pd.merge(bl, bl2_b, how='left', on = 'BvD ID number')\n",
        "st_fb = pd.merge(st, st2_b, how='left', on = 'BvD ID number')"
      ],
      "metadata": {
        "id": "0YPz6Fb9RKNy"
      },
      "execution_count": null,
      "outputs": []
    },
    {
      "cell_type": "code",
      "source": [
        "# check size\n",
        "print(bl_fa.shape[0])\n",
        "print(bl_fb.shape[0])\n",
        "print(st_fa.shape[0])\n",
        "print(st_fb.shape[0])"
      ],
      "metadata": {
        "colab": {
          "base_uri": "https://localhost:8080/"
        },
        "id": "lEb0M0ogfml0",
        "outputId": "58fd0a9b-7295-4afd-f06d-58a1175dfae5"
      },
      "execution_count": null,
      "outputs": [
        {
          "output_type": "stream",
          "name": "stdout",
          "text": [
            "7301\n",
            "9495\n",
            "17578\n",
            "24505\n"
          ]
        }
      ]
    },
    {
      "cell_type": "code",
      "source": [
        "# plot for difference Berlin\n",
        "fig, ax = plt.subplots()\n",
        "bl_fax=bl_fa\n",
        "bl_fbx=bl_fb\n",
        "bl_fax = bl_fax[bl_fax['Sales'].notna()]\n",
        "bl_fbx = bl_fbx[bl_fbx['Sales'].notna()]\n",
        "a_heights, a_bins = np.histogram(bl_fax['Sales'])\n",
        "b_heights, b_bins = np.histogram(bl_fbx['Sales'], bins=a_bins)\n",
        "\n",
        "width = (a_bins[1] - a_bins[0])\n",
        "\n",
        "ax.bar(a_bins[:-1], a_heights, width=width, facecolor='cornflowerblue')\n",
        "ax.bar(b_bins[:-1]+width, b_heights, width=width, facecolor='seagreen')"
      ],
      "metadata": {
        "colab": {
          "base_uri": "https://localhost:8080/",
          "height": 295
        },
        "id": "anVlQklGhOF_",
        "outputId": "a4f5b0f4-3ac9-4d6c-937d-930547b019d1"
      },
      "execution_count": null,
      "outputs": [
        {
          "output_type": "execute_result",
          "data": {
            "text/plain": [
              "<BarContainer object of 10 artists>"
            ]
          },
          "metadata": {},
          "execution_count": 228
        },
        {
          "output_type": "display_data",
          "data": {
            "text/plain": [
              "<Figure size 432x288 with 1 Axes>"
            ],
            "image/png": "[encoded data removed]"
          },
          "metadata": {
            "needs_background": "light"
          }
        }
      ]
    },
    {
      "cell_type": "code",
      "source": [
        "# plot for difference Stockholm\n",
        "fig, ax = plt.subplots()\n",
        "st_fax=st_fa\n",
        "st_fbx=st_fb\n",
        "st_fax = st_fax[st_fax['Sales'].notna()]\n",
        "st_fbx = st_fbx[st_fbx['Sales'].notna()]\n",
        "a_heights, a_bins = np.histogram(st_fax['Sales'])\n",
        "b_heights, b_bins = np.histogram(st_fbx['Sales'], bins=a_bins)\n",
        "\n",
        "width = (a_bins[1] - a_bins[0])\n",
        "\n",
        "ax.bar(a_bins[:-1], a_heights, width=width, facecolor='cornflowerblue')\n",
        "ax.bar(b_bins[:-1]+width, b_heights, width=width, facecolor='seagreen')"
      ],
      "metadata": {
        "colab": {
          "base_uri": "https://localhost:8080/",
          "height": 295
        },
        "id": "uQHP6n57lzam",
        "outputId": "eb32903a-edfb-4094-ccac-2815d2b3109f"
      },
      "execution_count": null,
      "outputs": [
        {
          "output_type": "execute_result",
          "data": {
            "text/plain": [
              "<BarContainer object of 10 artists>"
            ]
          },
          "metadata": {},
          "execution_count": 227
        },
        {
          "output_type": "display_data",
          "data": {
            "text/plain": [
              "<Figure size 432x288 with 1 Axes>"
            ],
            "image/png": "[encoded data removed]"
          },
          "metadata": {
            "needs_background": "light"
          }
        }
      ]
    },
    {
      "cell_type": "code",
      "source": [
        "# seems weird\n",
        "print(st_fbx['Sales'].mean()-st_fax['Sales'].mean())\n",
        "print(bl_fbx['Sales'].mean()-bl_fax['Sales'].mean())"
      ],
      "metadata": {
        "colab": {
          "base_uri": "https://localhost:8080/"
        },
        "id": "ej6QfwDrq3DZ",
        "outputId": "5f48f8c2-b2b9-4eae-fbcf-8e265038b3c8"
      },
      "execution_count": null,
      "outputs": [
        {
          "output_type": "stream",
          "name": "stdout",
          "text": [
            "1082905.3188010736\n",
            "-1475762.425845502\n"
          ]
        }
      ]
    },
    {
      "cell_type": "code",
      "source": [
        "# delete NAs\n",
        "st_fax = st_fax[st_fax['Total assets'].notna()]\n",
        "st_fbx = st_fbx[st_fbx['Total assets'].notna()]\n",
        "bl_fax = bl_fax[bl_fax['Total assets'].notna()]\n",
        "bl_fbx = bl_fbx[bl_fbx['Total assets'].notna()]"
      ],
      "metadata": {
        "id": "xGH8VhB4sS9R"
      },
      "execution_count": null,
      "outputs": []
    },
    {
      "cell_type": "code",
      "source": [
        "# check size\n",
        "print(st_fax.shape[0])\n",
        "print(st_fbx.shape[0])\n",
        "print(bl_fax.shape[0])\n",
        "print(bl_fbx.shape[0])"
      ],
      "metadata": {
        "colab": {
          "base_uri": "https://localhost:8080/"
        },
        "id": "-8tQk4SItNTx",
        "outputId": "50862e4b-5715-4369-ddaa-b616398c3fdc"
      },
      "execution_count": null,
      "outputs": [
        {
          "output_type": "stream",
          "name": "stdout",
          "text": [
            "7252\n",
            "14512\n",
            "109\n",
            "676\n"
          ]
        }
      ]
    },
    {
      "cell_type": "code",
      "source": [
        "# create column ratio as profitability measure\n",
        "st_fax[\"ROS\"]=st_fax['Sales']/st_fax['Total assets']\n",
        "st_fbx[\"ROS\"]=st_fbx['Sales']/st_fbx['Total assets']\n",
        "bl_fax[\"ROS\"]=bl_fax['Sales']/bl_fax['Total assets']\n",
        "bl_fbx[\"ROS\"]=bl_fbx['Sales']/bl_fbx['Total assets']"
      ],
      "metadata": {
        "colab": {
          "base_uri": "https://localhost:8080/"
        },
        "id": "m2fAZiCktqht",
        "outputId": "5ece65b8-0d1d-48f6-e3e2-5d8d534a52d1"
      },
      "execution_count": null,
      "outputs": [
        {
          "output_type": "stream",
          "name": "stderr",
          "text": [
            "<ipython-input-230-1a472043c328>:1: SettingWithCopyWarning: \n",
            "A value is trying to be set on a copy of a slice from a DataFrame.\n",
            "Try using .loc[row_indexer,col_indexer] = value instead\n",
            "\n",
            "See the caveats in the documentation: https://pandas.pydata.org/pandas-docs/stable/user_guide/indexing.html#returning-a-view-versus-a-copy\n",
            "  st_fax[\"ROS\"]=st_fax['Sales']/st_fax['Total assets']\n",
            "<ipython-input-230-1a472043c328>:2: SettingWithCopyWarning: \n",
            "A value is trying to be set on a copy of a slice from a DataFrame.\n",
            "Try using .loc[row_indexer,col_indexer] = value instead\n",
            "\n",
            "See the caveats in the documentation: https://pandas.pydata.org/pandas-docs/stable/user_guide/indexing.html#returning-a-view-versus-a-copy\n",
            "  st_fbx[\"ROS\"]=st_fbx['Sales']/st_fbx['Total assets']\n",
            "<ipython-input-230-1a472043c328>:3: SettingWithCopyWarning: \n",
            "A value is trying to be set on a copy of a slice from a DataFrame.\n",
            "Try using .loc[row_indexer,col_indexer] = value instead\n",
            "\n",
            "See the caveats in the documentation: https://pandas.pydata.org/pandas-docs/stable/user_guide/indexing.html#returning-a-view-versus-a-copy\n",
            "  bl_fax[\"ROS\"]=bl_fax['Sales']/bl_fax['Total assets']\n",
            "<ipython-input-230-1a472043c328>:4: SettingWithCopyWarning: \n",
            "A value is trying to be set on a copy of a slice from a DataFrame.\n",
            "Try using .loc[row_indexer,col_indexer] = value instead\n",
            "\n",
            "See the caveats in the documentation: https://pandas.pydata.org/pandas-docs/stable/user_guide/indexing.html#returning-a-view-versus-a-copy\n",
            "  bl_fbx[\"ROS\"]=bl_fbx['Sales']/bl_fbx['Total assets']\n"
          ]
        }
      ]
    },
    {
      "cell_type": "code",
      "source": [
        "st_fbx['ROS']=st_fbx['ROS'].replace([np.inf, -np.inf], np.nan)\n",
        "st_fax['ROS']=st_fax['ROS'].replace([np.inf, -np.inf], np.nan)"
      ],
      "metadata": {
        "colab": {
          "base_uri": "https://localhost:8080/"
        },
        "id": "-pItZlu0x0il",
        "outputId": "cb17300d-9c12-4fd9-a9f8-4cfa7a311a8c"
      },
      "execution_count": null,
      "outputs": [
        {
          "output_type": "stream",
          "name": "stderr",
          "text": [
            "<ipython-input-231-7b40fa769575>:1: SettingWithCopyWarning: \n",
            "A value is trying to be set on a copy of a slice from a DataFrame.\n",
            "Try using .loc[row_indexer,col_indexer] = value instead\n",
            "\n",
            "See the caveats in the documentation: https://pandas.pydata.org/pandas-docs/stable/user_guide/indexing.html#returning-a-view-versus-a-copy\n",
            "  st_fbx['ROS']=st_fbx['ROS'].replace([np.inf, -np.inf], np.nan)\n",
            "<ipython-input-231-7b40fa769575>:2: SettingWithCopyWarning: \n",
            "A value is trying to be set on a copy of a slice from a DataFrame.\n",
            "Try using .loc[row_indexer,col_indexer] = value instead\n",
            "\n",
            "See the caveats in the documentation: https://pandas.pydata.org/pandas-docs/stable/user_guide/indexing.html#returning-a-view-versus-a-copy\n",
            "  st_fax['ROS']=st_fax['ROS'].replace([np.inf, -np.inf], np.nan)\n"
          ]
        }
      ]
    },
    {
      "cell_type": "code",
      "source": [
        "st_fax=st_fax[st_fax['ROS'].notna()]\n",
        "st_fbx=st_fbx[st_fbx['ROS'].notna()]\n",
        "bl_fax=bl_fax[bl_fax['ROS'].notna()]\n",
        "bl_fbx=bl_fbx[bl_fbx['ROS'].notna()]"
      ],
      "metadata": {
        "id": "ZJa5373suyyS"
      },
      "execution_count": null,
      "outputs": []
    },
    {
      "cell_type": "code",
      "source": [
        "# we can see the difference between Berlin and Stockholm. Berlin's mean is twice less post-Covid, while Stockholm is almost unaffected\n",
        "print(st_fbx['ROS'].replace([np.inf, -np.inf], np.nan).mean()/st_fax['ROS'].mean())\n",
        "print(bl_fbx['ROS'].replace([np.inf, -np.inf], np.nan).mean()/bl_fax['ROS'].mean())"
      ],
      "metadata": {
        "colab": {
          "base_uri": "https://localhost:8080/"
        },
        "id": "wJnGj2altoZh",
        "outputId": "e43c7a10-e0d8-4948-9a96-a855a931a3da"
      },
      "execution_count": null,
      "outputs": [
        {
          "output_type": "stream",
          "name": "stdout",
          "text": [
            "1.260125307823903\n",
            "2.1008273450398622\n"
          ]
        }
      ]
    },
    {
      "cell_type": "code",
      "source": [
        "# aggregate by means\n",
        "st1=st_fbx.groupby(['BvD ID number'], as_index=False).agg(\n",
        "                      {'Total assets':['mean'],'ROS':['mean'],'Sales':['mean'],'NAME_NATIVE':'first','Classification':'first'})\n",
        "st2=st_fax.groupby(['BvD ID number'], as_index=False).agg(\n",
        "                      {'Total assets':['mean'],'ROS':['mean'],'Sales':['mean'],'NAME_NATIVE':'first','Classification':'first'})\n",
        "bl1=bl_fbx.groupby(['BvD ID number'], as_index=False).agg(\n",
        "                      {'Total assets':['mean'],'ROS':['mean'],'Sales':['mean'],'NAME_NATIVE':'first','Classification':'first'})\n",
        "bl2=bl_fax.groupby(['BvD ID number'], as_index=False).agg(\n",
        "                      {'Total assets':['mean'],'ROS':['mean'],'Sales':['mean'],'NAME_NATIVE':'first','Classification':'first'})"
      ],
      "metadata": {
        "id": "ZtsZAPin64Uv"
      },
      "execution_count": null,
      "outputs": []
    },
    {
      "cell_type": "code",
      "source": [
        "st1.columns = ['BvD ID number','ta_mn',\"ros_mn\",'s_mn','NAME_NATIVE','Classification']\n",
        "st2.columns = ['BvD ID number','ta_mn',\"ros_mn\",'s_mn','NAME_NATIVE','Classification']\n",
        "bl1.columns = ['BvD ID number','ta_mn',\"ros_mn\",'s_mn','NAME_NATIVE','Classification']\n",
        "bl2.columns = ['BvD ID number','ta_mn',\"ros_mn\",'s_mn','NAME_NATIVE','Classification']"
      ],
      "metadata": {
        "id": "Fw4VrySp7ZQR"
      },
      "execution_count": null,
      "outputs": []
    },
    {
      "cell_type": "code",
      "source": [
        "st1=st1.reindex(columns=sorted(st1.columns))\n",
        "st2=st2.reindex(columns=sorted(st2.columns))\n",
        "bl1=bl1.reindex(columns=sorted(bl1.columns))\n",
        "bl2=bl2.reindex(columns=sorted(bl2.columns))"
      ],
      "metadata": {
        "id": "U6dHoeT77cww"
      },
      "execution_count": null,
      "outputs": []
    },
    {
      "cell_type": "code",
      "source": [
        "# join pre- nd post-Covid datasets for both cities together\n",
        "bl = pd.concat([bl1, bl2])\n",
        "st = pd.concat([st1, st2])"
      ],
      "metadata": {
        "id": "ouk9tP-l5YtZ"
      },
      "execution_count": null,
      "outputs": []
    },
    {
      "cell_type": "code",
      "source": [
        "# for Berlin, during filtering we can see that Bars and Clubs were completely excluded. Hotels were affected more than that of Restaurants (actually\n",
        "#NACE groups together restaurants and delivery services, so this could be the case)\n",
        "model = ols(\"ros_mn ~ Classification\", data=bl)\n",
        "results = model.fit()\n",
        "print(results.summary())"
      ],
      "metadata": {
        "colab": {
          "base_uri": "https://localhost:8080/"
        },
        "id": "7cnZo0LE3vKc",
        "outputId": "a93b7132-4f32-43a0-85b3-0c02bc4c3dbd"
      },
      "execution_count": null,
      "outputs": [
        {
          "output_type": "stream",
          "name": "stdout",
          "text": [
            "                            OLS Regression Results                            \n",
            "==============================================================================\n",
            "Dep. Variable:                 ros_mn   R-squared:                       0.003\n",
            "Model:                            OLS   Adj. R-squared:                 -0.001\n",
            "Method:                 Least Squares   F-statistic:                    0.6752\n",
            "Date:                Mon, 16 Jan 2023   Prob (F-statistic):              0.510\n",
            "Time:                        14:27:18   Log-Likelihood:                -1120.3\n",
            "No. Observations:                 456   AIC:                             2247.\n",
            "Df Residuals:                     453   BIC:                             2259.\n",
            "Df Model:                           2                                         \n",
            "Covariance Type:            nonrobust                                         \n",
            "=================================================================================================\n",
            "                                    coef    std err          t      P>|t|      [0.025      0.975]\n",
            "-------------------------------------------------------------------------------------------------\n",
            "Intercept                         3.6810      0.708      5.198      0.000       2.289       5.073\n",
            "Classification[T.Hotels]         -0.7260      0.737     -0.984      0.325      -2.175       0.723\n",
            "Classification[T.Restaurants]    -0.5047      0.730     -0.691      0.490      -1.940       0.931\n",
            "==============================================================================\n",
            "Omnibus:                      233.395   Durbin-Watson:                   1.916\n",
            "Prob(Omnibus):                  0.000   Jarque-Bera (JB):             1373.600\n",
            "Skew:                           2.202   Prob(JB):                    5.33e-299\n",
            "Kurtosis:                      10.273   Cond. No.                         11.4\n",
            "==============================================================================\n",
            "\n",
            "Notes:\n",
            "[1] Standard Errors assume that the covariance matrix of the errors is correctly specified.\n"
          ]
        }
      ]
    },
    {
      "cell_type": "code",
      "source": [
        "# for Stockholm we have data only for Restaurants\n",
        "model = ols(\"ros_mn ~ Classification\", data=st)\n",
        "results = model.fit()\n",
        "print(results.summary())"
      ],
      "metadata": {
        "colab": {
          "base_uri": "https://localhost:8080/"
        },
        "id": "bCMlk8rT-btB",
        "outputId": "ebfdf15b-1ba1-4d2c-c1d3-4aed22878ff6"
      },
      "execution_count": null,
      "outputs": [
        {
          "output_type": "stream",
          "name": "stdout",
          "text": [
            "                            OLS Regression Results                            \n",
            "==============================================================================\n",
            "Dep. Variable:                 ros_mn   R-squared:                       0.003\n",
            "Model:                            OLS   Adj. R-squared:                  0.003\n",
            "Method:                 Least Squares   F-statistic:                     32.15\n",
            "Date:                Mon, 16 Jan 2023   Prob (F-statistic):           1.46e-08\n",
            "Time:                        14:27:26   Log-Likelihood:                -39557.\n",
            "No. Observations:               11120   AIC:                         7.912e+04\n",
            "Df Residuals:                   11118   BIC:                         7.913e+04\n",
            "Df Model:                           1                                         \n",
            "Covariance Type:            nonrobust                                         \n",
            "=================================================================================================\n",
            "                                    coef    std err          t      P>|t|      [0.025      0.975]\n",
            "-------------------------------------------------------------------------------------------------\n",
            "Intercept                         1.4570      0.248      5.873      0.000       0.971       1.943\n",
            "Classification[T.Restaurants]     1.4872      0.262      5.670      0.000       0.973       2.001\n",
            "==============================================================================\n",
            "Omnibus:                    29367.984   Durbin-Watson:                   2.008\n",
            "Prob(Omnibus):                  0.000   Jarque-Bera (JB):        812650358.620\n",
            "Skew:                          31.262   Prob(JB):                         0.00\n",
            "Kurtosis:                    1325.880   Cond. No.                         6.01\n",
            "==============================================================================\n",
            "\n",
            "Notes:\n",
            "[1] Standard Errors assume that the covariance matrix of the errors is correctly specified.\n"
          ]
        }
      ]
    },
    {
      "cell_type": "code",
      "source": [
        "# include Capital\n",
        "st_fax=st_fax[st_fax['Capital'].notna()]\n",
        "st_fbx=st_fbx[st_fbx['Capital'].notna()]\n",
        "bl_fax=bl_fax[bl_fax['Capital'].notna()]\n",
        "bl_fbx=bl_fbx[bl_fbx['Capital'].notna()]"
      ],
      "metadata": {
        "id": "ZXh8j-FG-t00"
      },
      "execution_count": null,
      "outputs": []
    },
    {
      "cell_type": "code",
      "source": [
        "# aggregate by means\n",
        "st1=st_fbx.groupby(['BvD ID number'], as_index=False).agg(\n",
        "                      {'Total assets':['mean'],'ROS':['mean'],'Sales':['mean'],'Capital':['mean'],'NAME_NATIVE':'first','Classification':'first'})\n",
        "st2=st_fax.groupby(['BvD ID number'], as_index=False).agg(\n",
        "                      {'Total assets':['mean'],'ROS':['mean'],'Sales':['mean'],'Capital':['mean'],'NAME_NATIVE':'first','Classification':'first'})\n",
        "bl1=bl_fbx.groupby(['BvD ID number'], as_index=False).agg(\n",
        "                      {'Total assets':['mean'],'ROS':['mean'],'Sales':['mean'],'Capital':['mean'],'NAME_NATIVE':'first','Classification':'first'})\n",
        "bl2=bl_fax.groupby(['BvD ID number'], as_index=False).agg(\n",
        "                      {'Total assets':['mean'],'ROS':['mean'],'Sales':['mean'],'Capital':['mean'],'NAME_NATIVE':'first','Classification':'first'})"
      ],
      "metadata": {
        "id": "4yV2LVkjCMmt"
      },
      "execution_count": null,
      "outputs": []
    },
    {
      "cell_type": "code",
      "source": [
        "st1.columns = ['BvD ID number','ta_mn',\"ros_mn\",'s_mn','cap_mn','NAME_NATIVE','Classification']\n",
        "st2.columns = ['BvD ID number','ta_mn',\"ros_mn\",'s_mn','cap_mn','NAME_NATIVE','Classification']\n",
        "bl1.columns = ['BvD ID number','ta_mn',\"ros_mn\",'s_mn','cap_mn','NAME_NATIVE','Classification']\n",
        "bl2.columns = ['BvD ID number','ta_mn',\"ros_mn\",'s_mn','cap_mn','NAME_NATIVE','Classification']"
      ],
      "metadata": {
        "id": "MeYpU_zbCZ0z"
      },
      "execution_count": null,
      "outputs": []
    },
    {
      "cell_type": "code",
      "source": [
        "st1=st1.reindex(columns=sorted(st1.columns))\n",
        "st2=st2.reindex(columns=sorted(st2.columns))\n",
        "bl1=bl1.reindex(columns=sorted(bl1.columns))\n",
        "bl2=bl2.reindex(columns=sorted(bl2.columns))"
      ],
      "metadata": {
        "id": "mBMYhql-ClTQ"
      },
      "execution_count": null,
      "outputs": []
    },
    {
      "cell_type": "code",
      "source": [
        "# join pre- nd post-Covid datasets for both cities together\n",
        "bl = pd.concat([bl1, bl2])\n",
        "st = pd.concat([st1, st2])"
      ],
      "metadata": {
        "id": "ZBBZKFqfCopA"
      },
      "execution_count": null,
      "outputs": []
    },
    {
      "cell_type": "code",
      "source": [
        "# a quite large influence of Capital\n",
        "model = ols(\"ros_mn ~ Classification+cap_mn\", data=st)\n",
        "results = model.fit()\n",
        "print(results.summary())"
      ],
      "metadata": {
        "colab": {
          "base_uri": "https://localhost:8080/"
        },
        "id": "mpstT3qGCrcr",
        "outputId": "25b50312-8669-4711-ac51-9c354b2d3272"
      },
      "execution_count": null,
      "outputs": [
        {
          "output_type": "stream",
          "name": "stdout",
          "text": [
            "                            OLS Regression Results                            \n",
            "==============================================================================\n",
            "Dep. Variable:                 ros_mn   R-squared:                       0.003\n",
            "Model:                            OLS   Adj. R-squared:                  0.003\n",
            "Method:                 Least Squares   F-statistic:                     16.20\n",
            "Date:                Mon, 16 Jan 2023   Prob (F-statistic):           9.40e-08\n",
            "Time:                        14:45:41   Log-Likelihood:                -39554.\n",
            "No. Observations:               11119   AIC:                         7.911e+04\n",
            "Df Residuals:                   11116   BIC:                         7.914e+04\n",
            "Df Model:                           2                                         \n",
            "Covariance Type:            nonrobust                                         \n",
            "=================================================================================================\n",
            "                                    coef    std err          t      P>|t|      [0.025      0.975]\n",
            "-------------------------------------------------------------------------------------------------\n",
            "Intercept                         1.4673      0.249      5.889      0.000       0.979       1.956\n",
            "Classification[T.Restaurants]     1.4776      0.263      5.615      0.000       0.962       1.993\n",
            "cap_mn                         -5.81e-08    1.2e-07     -0.482      0.629   -2.94e-07    1.78e-07\n",
            "==============================================================================\n",
            "Omnibus:                    29364.738   Durbin-Watson:                   2.008\n",
            "Prob(Omnibus):                  0.000   Jarque-Bera (JB):        812414262.586\n",
            "Skew:                          31.261   Prob(JB):                         0.00\n",
            "Kurtosis:                    1325.747   Cond. No.                     2.98e+06\n",
            "==============================================================================\n",
            "\n",
            "Notes:\n",
            "[1] Standard Errors assume that the covariance matrix of the errors is correctly specified.\n",
            "[2] The condition number is large, 2.98e+06. This might indicate that there are\n",
            "strong multicollinearity or other numerical problems.\n"
          ]
        }
      ]
    },
    {
      "cell_type": "code",
      "source": [
        "# same for Berlin\n",
        "model = ols(\"ros_mn ~ Classification+cap_mn\", data=bl)\n",
        "results = model.fit()\n",
        "print(results.summary())"
      ],
      "metadata": {
        "colab": {
          "base_uri": "https://localhost:8080/"
        },
        "id": "1CUXSkkyDCQ4",
        "outputId": "21c148fa-4523-4e5e-9bf7-5016d639c91c"
      },
      "execution_count": null,
      "outputs": [
        {
          "output_type": "stream",
          "name": "stdout",
          "text": [
            "                            OLS Regression Results                            \n",
            "==============================================================================\n",
            "Dep. Variable:                 ros_mn   R-squared:                       0.009\n",
            "Model:                            OLS   Adj. R-squared:                  0.002\n",
            "Method:                 Least Squares   F-statistic:                     1.325\n",
            "Date:                Mon, 16 Jan 2023   Prob (F-statistic):              0.266\n",
            "Time:                        14:46:59   Log-Likelihood:                -1087.8\n",
            "No. Observations:                 442   AIC:                             2184.\n",
            "Df Residuals:                     438   BIC:                             2200.\n",
            "Df Model:                           3                                         \n",
            "Covariance Type:            nonrobust                                         \n",
            "=================================================================================================\n",
            "                                    coef    std err          t      P>|t|      [0.025      0.975]\n",
            "-------------------------------------------------------------------------------------------------\n",
            "Intercept                         3.6819      0.712      5.171      0.000       2.283       5.081\n",
            "Classification[T.Hotels]         -0.6390      0.743     -0.861      0.390      -2.098       0.820\n",
            "Classification[T.Restaurants]    -0.4990      0.735     -0.678      0.498      -1.944       0.946\n",
            "cap_mn                        -4.513e-08   2.68e-08     -1.686      0.093   -9.77e-08    7.49e-09\n",
            "==============================================================================\n",
            "Omnibus:                      227.297   Durbin-Watson:                   1.939\n",
            "Prob(Omnibus):                  0.000   Jarque-Bera (JB):             1331.936\n",
            "Skew:                           2.210   Prob(JB):                    5.94e-290\n",
            "Kurtosis:                      10.266   Cond. No.                     4.70e+07\n",
            "==============================================================================\n",
            "\n",
            "Notes:\n",
            "[1] Standard Errors assume that the covariance matrix of the errors is correctly specified.\n",
            "[2] The condition number is large, 4.7e+07. This might indicate that there are\n",
            "strong multicollinearity or other numerical problems.\n"
          ]
        }
      ]
    }
  ]
}