{
  "nbformat": 4,
  "nbformat_minor": 0,
  "metadata": {
    "colab": {
      "provenance": []
    },
    "kernelspec": {
      "name": "python3",
      "display_name": "Python 3"
    },
    "language_info": {
      "name": "python"
    }
  },
  "cells": [
    {
      "cell_type": "code",
      "source": [
        "# install prettytable to create a table for Task 1\n",
        "!pip install PTable"
      ],
      "metadata": {
        "colab": {
          "base_uri": "https://localhost:8080/"
        },
        "id": "fz4bQ8bwpLAQ",
        "outputId": "d1f88064-6dec-48d6-dfd3-d6ef1da1fea1"
      },
      "execution_count": null,
      "outputs": [
        {
          "output_type": "stream",
          "name": "stdout",
          "text": [
            "Looking in indexes: https://pypi.org/simple, https://us-python.pkg.dev/colab-wheels/public/simple/\n",
            "Requirement already satisfied: PTable in /usr/local/lib/python3.8/dist-packages (0.9.2)\n"
          ]
        }
      ]
    },
    {
      "cell_type": "code",
      "execution_count": null,
      "metadata": {
        "id": "9oZze5HuN4dy"
      },
      "outputs": [],
      "source": [
        "# import necessary packages\n",
        "import pandas as pd\n",
        "import prettytable\n",
        "import numpy as np\n",
        "import matplotlib.pyplot as plt\n",
        "from prettytable import PrettyTable"
      ]
    },
    {
      "cell_type": "code",
      "source": [
        "# read a csv file fwonloaded from WRDS. For more details, please, see the pdf document\n",
        "df=pd.read_csv('datacsv.csv')"
      ],
      "metadata": {
        "id": "8OsZKqXIlGRn"
      },
      "execution_count": null,
      "outputs": []
    },
    {
      "cell_type": "code",
      "source": [
        "# filter out non-NA and positive values for total revenue and total assets. Use \"fic\" as an identifier for US companies\n",
        "df=df[(df[\"at\"] > 0)&(df[\"revt\"] > 0)&(df[\"fic\"] == \"USA\")]"
      ],
      "metadata": {
        "id": "ghfyCukrnhwt"
      },
      "execution_count": null,
      "outputs": []
    },
    {
      "cell_type": "code",
      "source": [
        "# Task 1 (a)"
      ],
      "metadata": {
        "id": "eqDu9TCMChqZ"
      },
      "execution_count": null,
      "outputs": []
    },
    {
      "cell_type": "code",
      "source": [
        "x1=len(df[(df[\"fyear\"] >= 1950)& (df[\"fyear\"] < 1970)].index)\n",
        "x2=len(df[(df[\"fyear\"] >= 1970)& (df[\"fyear\"] < 1980)].index)\n",
        "x3=len(df[(df[\"fyear\"] >= 1980)& (df[\"fyear\"] < 1990)].index)\n",
        "x4=len(df[(df[\"fyear\"] >= 1990)& (df[\"fyear\"] < 2000)].index)\n",
        "x5=len(df[(df[\"fyear\"] >= 2000)& (df[\"fyear\"] < 2010)].index)\n",
        "x6=len(df[(df[\"fyear\"] >= 2010)& (df[\"fyear\"] <= 2017)].index)\n",
        "x7=len(df.index)"
      ],
      "metadata": {
        "id": "59htQHDZp4NR"
      },
      "execution_count": null,
      "outputs": []
    },
    {
      "cell_type": "code",
      "source": [
        "# create a table for Task 1\n",
        "print(\"\\033[1m\" +\"Panel B\"+\"\\033[0m\"+\": Revenue approximate randomization analysis sample (firm-year revenue observations by decade)\")\n",
        "\n",
        "y = PrettyTable(border=1, header=1)\n",
        "\n",
        "y.field_names = [\"Decade\", \"N\"]\n",
        "\n",
        "y.add_row([\"1950s and 1960s\", x1])\n",
        "y.add_row([\"1970s\", x2])\n",
        "y.add_row([\"1980s\", x3])\n",
        "y.add_row([\"1990s\", x4])\n",
        "y.add_row([\"2000s\", x5])\n",
        "y.add_row([\"2010s\", x6])\n",
        "y.add_row([\"Total\", x7])\n",
        "\n",
        "print(y)"
      ],
      "metadata": {
        "colab": {
          "base_uri": "https://localhost:8080/"
        },
        "id": "dEPvILICt4lM",
        "outputId": "8cd435ed-5207-4af3-d1ed-d29159043d92"
      },
      "execution_count": null,
      "outputs": [
        {
          "output_type": "stream",
          "name": "stdout",
          "text": [
            "\u001b[1mPanel B\u001b[0m: Revenue approximate randomization analysis sample (firm-year revenue observations by decade)\n",
            "+-----------------+--------+\n",
            "|      Decade     |   N    |\n",
            "+-----------------+--------+\n",
            "| 1950s and 1960s | 34339  |\n",
            "|      1970s      | 54323  |\n",
            "|      1980s      | 68399  |\n",
            "|      1990s      | 90661  |\n",
            "|      2000s      | 81698  |\n",
            "|      2010s      | 51815  |\n",
            "|      Total      | 381235 |\n",
            "+-----------------+--------+\n"
          ]
        }
      ]
    },
    {
      "cell_type": "code",
      "source": [
        "# Task 1 (b)"
      ],
      "metadata": {
        "id": "16dIpuiXCkzO"
      },
      "execution_count": null,
      "outputs": []
    },
    {
      "cell_type": "code",
      "source": [
        "# set thresholds as prescribed in the paper\n",
        "thresholds = [100000,200000,300000,400000,500000,600000,700000,800000,900000,1000000,2000000,3000000,4000000,5000000,6000000,7000000,8000000,9000000,10000000,20000000,30000000,40000000,50000000,60000000,70000000,80000000,90000000,100000000,200000000,300000000,400000000,500000000,600000000,700000000,800000000,900000000,1000000000,2000000000,3000000000,4000000000,5000000000,6000000000,7000000000,8000000000,9000000000,10000000000,20000000000,30000000000,40000000000,50000000000,60000000000,70000000000,80000000000]"
      ],
      "metadata": {
        "id": "NL8jRdV9C-R1"
      },
      "execution_count": null,
      "outputs": []
    },
    {
      "cell_type": "code",
      "source": [
        "# create empty list\n",
        "bindata= []"
      ],
      "metadata": {
        "id": "mU61-yMzVCV3"
      },
      "execution_count": null,
      "outputs": []
    },
    {
      "cell_type": "code",
      "source": [
        "# Whereas the approach for creating Figure 2 is not described explicitly, I created two figures.\n",
        "# Use for and if loops following the assumption that revenues' deviations from all thresholds are summed across all 53 of them\n",
        "for a in df[\"revt\"]:\n",
        "  for b in thresholds:\n",
        "    if a/(b/1000000)>=1:\n",
        "      c=((a/(b/1000000))-1)*100\n",
        "    else:\n",
        "      c=-((1-(a/(b/1000000)))*100)\n",
        "    bindata.append(c)"
      ],
      "metadata": {
        "id": "vSmsadlDFfR4"
      },
      "execution_count": null,
      "outputs": []
    },
    {
      "cell_type": "code",
      "source": [
        "# create margins for bins\n",
        "np.linspace(-12.5, 12.5, 101)"
      ],
      "metadata": {
        "colab": {
          "base_uri": "https://localhost:8080/"
        },
        "id": "hCdcNHSBNf-N",
        "outputId": "cdd94f70-adf8-4625-e5dc-88eb758cb6c1"
      },
      "execution_count": null,
      "outputs": [
        {
          "output_type": "execute_result",
          "data": {
            "text/plain": [
              "array([-12.5 , -12.25, -12.  , -11.75, -11.5 , -11.25, -11.  , -10.75,\n",
              "       -10.5 , -10.25, -10.  ,  -9.75,  -9.5 ,  -9.25,  -9.  ,  -8.75,\n",
              "        -8.5 ,  -8.25,  -8.  ,  -7.75,  -7.5 ,  -7.25,  -7.  ,  -6.75,\n",
              "        -6.5 ,  -6.25,  -6.  ,  -5.75,  -5.5 ,  -5.25,  -5.  ,  -4.75,\n",
              "        -4.5 ,  -4.25,  -4.  ,  -3.75,  -3.5 ,  -3.25,  -3.  ,  -2.75,\n",
              "        -2.5 ,  -2.25,  -2.  ,  -1.75,  -1.5 ,  -1.25,  -1.  ,  -0.75,\n",
              "        -0.5 ,  -0.25,   0.  ,   0.25,   0.5 ,   0.75,   1.  ,   1.25,\n",
              "         1.5 ,   1.75,   2.  ,   2.25,   2.5 ,   2.75,   3.  ,   3.25,\n",
              "         3.5 ,   3.75,   4.  ,   4.25,   4.5 ,   4.75,   5.  ,   5.25,\n",
              "         5.5 ,   5.75,   6.  ,   6.25,   6.5 ,   6.75,   7.  ,   7.25,\n",
              "         7.5 ,   7.75,   8.  ,   8.25,   8.5 ,   8.75,   9.  ,   9.25,\n",
              "         9.5 ,   9.75,  10.  ,  10.25,  10.5 ,  10.75,  11.  ,  11.25,\n",
              "        11.5 ,  11.75,  12.  ,  12.25,  12.5 ])"
            ]
          },
          "metadata": {},
          "execution_count": 42
        }
      ]
    },
    {
      "cell_type": "code",
      "source": [
        "# drop values that do not fall within the specified bins\n",
        "histdata1=pd.cut(bindata, bins=np.linspace(-12.5, 12.5, 101)).dropna()"
      ],
      "metadata": {
        "id": "Txby76L6LqiR"
      },
      "execution_count": null,
      "outputs": []
    },
    {
      "cell_type": "code",
      "source": [
        "# count number of occurances of each bin\n",
        "xx=histdata1.value_counts()"
      ],
      "metadata": {
        "id": "tBqlfudbLVOw"
      },
      "execution_count": null,
      "outputs": []
    },
    {
      "cell_type": "code",
      "source": [
        "#create labels for the x axis\n",
        "labels1=list(range(-50,50,5))"
      ],
      "metadata": {
        "id": "LDLPuY-kqBbx"
      },
      "execution_count": null,
      "outputs": []
    },
    {
      "cell_type": "code",
      "source": [
        "# plot the graph\n",
        "jj=histdata1.value_counts().plot(kind='bar', title =\"Figure 2 Distribution of revenue around base-ten thresholds (0.25% bin width)\", figsize=(12,7),legend=False, fontsize=10)\n",
        "jj.set_xticklabels(labels1, rotation=0)\n",
        "# set the labels for the x axis\n",
        "jj.xaxis.set_major_locator(plt.LinearLocator(21))\n",
        "jj.xaxis.set_minor_locator(plt.LinearLocator(101))\n",
        "print(jj)"
      ],
      "metadata": {
        "colab": {
          "base_uri": "https://localhost:8080/",
          "height": 461
        },
        "id": "inRgwx7Rm0BQ",
        "outputId": "5f7ef782-ef4c-42d2-a07e-684a0253ff7a"
      },
      "execution_count": null,
      "outputs": [
        {
          "output_type": "stream",
          "name": "stdout",
          "text": [
            "AxesSubplot(0.125,0.125;0.775x0.755)\n"
          ]
        },
        {
          "output_type": "display_data",
          "data": {
            "text/plain": [
              "<Figure size 864x504 with 1 Axes>"
            ],
            "image/png": "[encoded data removed]"
          },
          "metadata": {
            "needs_background": "light"
          }
        }
      ]
    },
    {
      "cell_type": "code",
      "source": [
        "# Use for and if loops following the assumption that the closest to 0 revenues' deviation from all thresholds is determined and is then summed across all 53 of thresholds\n",
        "bindata=[]\n",
        "# an empty list to determine the smallest deviation for each individual observation across all thresholds\n",
        "temp=[]\n",
        "for a in df[\"revt\"]:\n",
        "  for b in thresholds:\n",
        "    if a/(b/1000000)>=1:\n",
        "      c=((a/(b/1000000))-1)*100\n",
        "    else:\n",
        "      c=-((1-(a/(b/1000000)))*100)\n",
        "    temp.append(c)\n",
        "  bindata.append(min(temp, key=abs))\n",
        "  temp=[]"
      ],
      "metadata": {
        "id": "cjsk65aR5quH"
      },
      "execution_count": null,
      "outputs": []
    },
    {
      "cell_type": "code",
      "source": [
        "# drop values that do not fall within the specified bins\n",
        "histdata1=pd.cut(bindata, bins=np.linspace(-12.5, 12.5, 101)).dropna()"
      ],
      "metadata": {
        "id": "U5kjXVxD9Ci1"
      },
      "execution_count": null,
      "outputs": []
    },
    {
      "cell_type": "code",
      "source": [
        "# count number of occurances of each bin\n",
        "xx=histdata1.value_counts()"
      ],
      "metadata": {
        "id": "ogtpvQIZ9GXN"
      },
      "execution_count": null,
      "outputs": []
    },
    {
      "cell_type": "code",
      "source": [
        "#create labels for the x axis\n",
        "labels1=list(range(-50,50,5))"
      ],
      "metadata": {
        "id": "GjTM5qQi9Klf"
      },
      "execution_count": null,
      "outputs": []
    },
    {
      "cell_type": "code",
      "source": [
        "# plot the graph\n",
        "jj=histdata1.value_counts().plot(kind='bar', title =\"Figure 2 Distribution of revenue around base-ten thresholds (0.25% bin width)\", figsize=(12,7),legend=False, fontsize=10)\n",
        "jj.set_xticklabels(labels1, rotation=0)\n",
        "# set the labels for the x axis\n",
        "jj.xaxis.set_major_locator(plt.LinearLocator(21))\n",
        "jj.xaxis.set_minor_locator(plt.LinearLocator(101))\n",
        "print(jj)"
      ],
      "metadata": {
        "colab": {
          "base_uri": "https://localhost:8080/",
          "height": 461
        },
        "outputId": "a58268b7-c9f5-4c87-8848-e0f44013d564",
        "id": "j98aRr6Z9NNi"
      },
      "execution_count": null,
      "outputs": [
        {
          "output_type": "stream",
          "name": "stdout",
          "text": [
            "AxesSubplot(0.125,0.125;0.775x0.755)\n"
          ]
        },
        {
          "output_type": "display_data",
          "data": {
            "text/plain": [
              "<Figure size 864x504 with 1 Axes>"
            ],
            "image/png": "[encoded data removed]"
          },
          "metadata": {
            "needs_background": "light"
          }
        }
      ]
    },
    {
      "cell_type": "code",
      "source": [
        "#Task 2"
      ],
      "metadata": {
        "id": "zWhwKyphC3jv"
      },
      "execution_count": null,
      "outputs": []
    },
    {
      "cell_type": "code",
      "source": [
        "# Knowing the revenue as given from the task, use the loop system for the second graph to determine the value with the least deviation from zero\n",
        "# print out the most suitable threshold and the value\n",
        "bindata=[]\n",
        "a= 78546000\n",
        "print(\"Revenue:\",a)\n",
        "for b in thresholds:\n",
        "  if a/(b)>=1:\n",
        "    c=((a/(b))-1)*100\n",
        "  else:\n",
        "    c=-((1-(a/(b)))*100)\n",
        "  bindata.append(c)\n",
        "print(\"Minimum:\",min(bindata, key=abs))\n",
        "min(bindata, key=abs)\n",
        "for b in thresholds:\n",
        "  if a/(b)>=1:\n",
        "    c=((a/(b))-1)*100\n",
        "  else:\n",
        "    c=-((1-(a/(b)))*100)\n",
        "  if c== min(bindata, key=abs):\n",
        "    print(\"Threshold:\",b)"
      ],
      "metadata": {
        "colab": {
          "base_uri": "https://localhost:8080/"
        },
        "id": "JvrV8SyK0B4P",
        "outputId": "a0e7b763-c008-4d6e-a117-3774af034510"
      },
      "execution_count": null,
      "outputs": [
        {
          "output_type": "stream",
          "name": "stdout",
          "text": [
            "Revenue: 78546000\n",
            "Minimum: -1.8175000000000052\n",
            "Threshold: 80000000\n"
          ]
        }
      ]
    },
    {
      "cell_type": "code",
      "source": [
        "# For Task 3, please, see the pdf document"
      ],
      "metadata": {
        "id": "pSe1iE8ZIFwa"
      },
      "execution_count": null,
      "outputs": []
    }
  ]
}