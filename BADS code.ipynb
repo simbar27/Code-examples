{
  "nbformat": 4,
  "nbformat_minor": 0,
  "metadata": {
    "colab": {
      "provenance": [],
      "toc_visible": true
    },
    "kernelspec": {
      "display_name": "Python 3",
      "name": "python3"
    },
    "language_info": {
      "name": "python"
    }
  },
  "cells": [
    {
      "cell_type": "markdown",
      "metadata": {
        "id": "jOQzK7V-ObfR"
      },
      "source": [
        "Maksym Lesyk"
      ]
    },
    {
      "cell_type": "markdown",
      "metadata": {
        "id": "yi9mlPuTDVf5"
      },
      "source": [
        "## Introduction\n",
        "\n",
        "The dataset consists of 14 columns with 100000 observations. The goal is to predict whether the item sold was returned or not based on the set of the features provided. We will firstly look into the data to better understand its structure, then clean it in a way that should facilitate the model accuracy (that is excluding the NAs and eliminating possible outliers). Then we will split the dataset into two subsets and train the model.\n",
        "\n",
        "Let us start by importing the datest and looking into it more closely."
      ]
    },
    {
      "cell_type": "markdown",
      "metadata": {
        "id": "ANC0QHbh8wv4"
      },
      "source": [
        "##EDA/ Data preparation"
      ]
    },
    {
      "cell_type": "markdown",
      "metadata": {
        "id": "yt2MuJ4G9O4P"
      },
      "source": [
        "First, import the dataset from the github depository and check the data on its structure."
      ]
    },
    {
      "cell_type": "code",
      "metadata": {
        "colab": {
          "base_uri": "https://localhost:8080/",
          "height": 609
        },
        "id": "EufYLf2CuGye",
        "outputId": "1793e75f-d01d-4e85-856e-aa46243870f8"
      },
      "source": [
        "import pandas as pd\n",
        "\n",
        "# the dataset was imported to the github depository for easier access\n",
        "data_url = 'https://raw.githubusercontent.com/simbar27/hello_world/master/BADS_WS2021_known.csv'\n",
        "df = pd.read_csv(data_url)\n",
        "df"
      ],
      "execution_count": null,
      "outputs": [
        {
          "output_type": "execute_result",
          "data": {
            "text/html": [
              "<div>\n",
              "<style scoped>\n",
              "    .dataframe tbody tr th:only-of-type {\n",
              "        vertical-align: middle;\n",
              "    }\n",
              "\n",
              "    .dataframe tbody tr th {\n",
              "        vertical-align: top;\n",
              "    }\n",
              "\n",
              "    .dataframe thead th {\n",
              "        text-align: right;\n",
              "    }\n",
              "</style>\n",
              "<table border=\"1\" class=\"dataframe\">\n",
              "  <thead>\n",
              "    <tr style=\"text-align: right;\">\n",
              "      <th></th>\n",
              "      <th>order_item_id</th>\n",
              "      <th>order_date</th>\n",
              "      <th>delivery_date</th>\n",
              "      <th>item_id</th>\n",
              "      <th>item_size</th>\n",
              "      <th>item_color</th>\n",
              "      <th>brand_id</th>\n",
              "      <th>item_price</th>\n",
              "      <th>user_id</th>\n",
              "      <th>user_title</th>\n",
              "      <th>user_dob</th>\n",
              "      <th>user_state</th>\n",
              "      <th>user_reg_date</th>\n",
              "      <th>return</th>\n",
              "    </tr>\n",
              "  </thead>\n",
              "  <tbody>\n",
              "    <tr>\n",
              "      <th>0</th>\n",
              "      <td>1</td>\n",
              "      <td>2016-06-22</td>\n",
              "      <td>2016-06-27</td>\n",
              "      <td>643</td>\n",
              "      <td>38</td>\n",
              "      <td>navy</td>\n",
              "      <td>30</td>\n",
              "      <td>49.90</td>\n",
              "      <td>30822</td>\n",
              "      <td>Mrs</td>\n",
              "      <td>1969-04-17</td>\n",
              "      <td>Saxony</td>\n",
              "      <td>2016-06-23</td>\n",
              "      <td>0</td>\n",
              "    </tr>\n",
              "    <tr>\n",
              "      <th>1</th>\n",
              "      <td>2</td>\n",
              "      <td>2016-06-22</td>\n",
              "      <td>NaN</td>\n",
              "      <td>337</td>\n",
              "      <td>152</td>\n",
              "      <td>grey</td>\n",
              "      <td>30</td>\n",
              "      <td>19.95</td>\n",
              "      <td>30822</td>\n",
              "      <td>Mrs</td>\n",
              "      <td>1969-04-17</td>\n",
              "      <td>Saxony</td>\n",
              "      <td>2016-06-23</td>\n",
              "      <td>0</td>\n",
              "    </tr>\n",
              "    <tr>\n",
              "      <th>2</th>\n",
              "      <td>3</td>\n",
              "      <td>2016-06-22</td>\n",
              "      <td>2016-06-27</td>\n",
              "      <td>270</td>\n",
              "      <td>xxl</td>\n",
              "      <td>grey</td>\n",
              "      <td>49</td>\n",
              "      <td>79.90</td>\n",
              "      <td>30823</td>\n",
              "      <td>Mrs</td>\n",
              "      <td>1970-04-22</td>\n",
              "      <td>Baden-Wuerttemberg</td>\n",
              "      <td>2015-03-15</td>\n",
              "      <td>1</td>\n",
              "    </tr>\n",
              "    <tr>\n",
              "      <th>3</th>\n",
              "      <td>4</td>\n",
              "      <td>2016-06-22</td>\n",
              "      <td>2016-06-27</td>\n",
              "      <td>142</td>\n",
              "      <td>xxl</td>\n",
              "      <td>grey</td>\n",
              "      <td>49</td>\n",
              "      <td>99.90</td>\n",
              "      <td>30823</td>\n",
              "      <td>Mrs</td>\n",
              "      <td>1970-04-22</td>\n",
              "      <td>Baden-Wuerttemberg</td>\n",
              "      <td>2015-03-15</td>\n",
              "      <td>0</td>\n",
              "    </tr>\n",
              "    <tr>\n",
              "      <th>4</th>\n",
              "      <td>5</td>\n",
              "      <td>2016-06-22</td>\n",
              "      <td>2016-06-27</td>\n",
              "      <td>561</td>\n",
              "      <td>xxl</td>\n",
              "      <td>grey</td>\n",
              "      <td>3</td>\n",
              "      <td>14.90</td>\n",
              "      <td>30823</td>\n",
              "      <td>Mrs</td>\n",
              "      <td>1970-04-22</td>\n",
              "      <td>Baden-Wuerttemberg</td>\n",
              "      <td>2015-03-15</td>\n",
              "      <td>1</td>\n",
              "    </tr>\n",
              "    <tr>\n",
              "      <th>...</th>\n",
              "      <td>...</td>\n",
              "      <td>...</td>\n",
              "      <td>...</td>\n",
              "      <td>...</td>\n",
              "      <td>...</td>\n",
              "      <td>...</td>\n",
              "      <td>...</td>\n",
              "      <td>...</td>\n",
              "      <td>...</td>\n",
              "      <td>...</td>\n",
              "      <td>...</td>\n",
              "      <td>...</td>\n",
              "      <td>...</td>\n",
              "      <td>...</td>\n",
              "    </tr>\n",
              "    <tr>\n",
              "      <th>99995</th>\n",
              "      <td>99996</td>\n",
              "      <td>2016-09-11</td>\n",
              "      <td>2016-09-12</td>\n",
              "      <td>156</td>\n",
              "      <td>20</td>\n",
              "      <td>blue</td>\n",
              "      <td>34</td>\n",
              "      <td>29.90</td>\n",
              "      <td>713</td>\n",
              "      <td>Mrs</td>\n",
              "      <td>1959-03-21</td>\n",
              "      <td>Rhineland-Palatinate</td>\n",
              "      <td>2015-02-17</td>\n",
              "      <td>0</td>\n",
              "    </tr>\n",
              "    <tr>\n",
              "      <th>99996</th>\n",
              "      <td>99997</td>\n",
              "      <td>2016-09-11</td>\n",
              "      <td>2016-09-12</td>\n",
              "      <td>156</td>\n",
              "      <td>20</td>\n",
              "      <td>brown</td>\n",
              "      <td>34</td>\n",
              "      <td>29.90</td>\n",
              "      <td>713</td>\n",
              "      <td>Mrs</td>\n",
              "      <td>1959-03-21</td>\n",
              "      <td>Rhineland-Palatinate</td>\n",
              "      <td>2015-02-17</td>\n",
              "      <td>0</td>\n",
              "    </tr>\n",
              "    <tr>\n",
              "      <th>99997</th>\n",
              "      <td>99998</td>\n",
              "      <td>2016-09-11</td>\n",
              "      <td>1994-12-31</td>\n",
              "      <td>1832</td>\n",
              "      <td>xxl</td>\n",
              "      <td>black</td>\n",
              "      <td>37</td>\n",
              "      <td>26.90</td>\n",
              "      <td>47794</td>\n",
              "      <td>Mr</td>\n",
              "      <td>1985-03-01</td>\n",
              "      <td>Hamburg</td>\n",
              "      <td>2016-09-10</td>\n",
              "      <td>0</td>\n",
              "    </tr>\n",
              "    <tr>\n",
              "      <th>99998</th>\n",
              "      <td>99999</td>\n",
              "      <td>2016-09-11</td>\n",
              "      <td>1994-12-31</td>\n",
              "      <td>1832</td>\n",
              "      <td>xxl</td>\n",
              "      <td>black</td>\n",
              "      <td>37</td>\n",
              "      <td>26.90</td>\n",
              "      <td>47794</td>\n",
              "      <td>Mr</td>\n",
              "      <td>1985-03-01</td>\n",
              "      <td>Hamburg</td>\n",
              "      <td>2016-09-10</td>\n",
              "      <td>0</td>\n",
              "    </tr>\n",
              "    <tr>\n",
              "      <th>99999</th>\n",
              "      <td>100000</td>\n",
              "      <td>2016-09-11</td>\n",
              "      <td>2016-10-08</td>\n",
              "      <td>1891</td>\n",
              "      <td>28</td>\n",
              "      <td>fuchsia</td>\n",
              "      <td>47</td>\n",
              "      <td>27.90</td>\n",
              "      <td>2622</td>\n",
              "      <td>Mrs</td>\n",
              "      <td>1973-10-17</td>\n",
              "      <td>Lower Saxony</td>\n",
              "      <td>2015-02-17</td>\n",
              "      <td>0</td>\n",
              "    </tr>\n",
              "  </tbody>\n",
              "</table>\n",
              "<p>100000 rows × 14 columns</p>\n",
              "</div>"
            ],
            "text/plain": [
              "       order_item_id  order_date  ... user_reg_date  return\n",
              "0                  1  2016-06-22  ...    2016-06-23       0\n",
              "1                  2  2016-06-22  ...    2016-06-23       0\n",
              "2                  3  2016-06-22  ...    2015-03-15       1\n",
              "3                  4  2016-06-22  ...    2015-03-15       0\n",
              "4                  5  2016-06-22  ...    2015-03-15       1\n",
              "...              ...         ...  ...           ...     ...\n",
              "99995          99996  2016-09-11  ...    2015-02-17       0\n",
              "99996          99997  2016-09-11  ...    2015-02-17       0\n",
              "99997          99998  2016-09-11  ...    2016-09-10       0\n",
              "99998          99999  2016-09-11  ...    2016-09-10       0\n",
              "99999         100000  2016-09-11  ...    2015-02-17       0\n",
              "\n",
              "[100000 rows x 14 columns]"
            ]
          },
          "metadata": {
            "tags": []
          },
          "execution_count": 1
        }
      ]
    },
    {
      "cell_type": "code",
      "metadata": {
        "colab": {
          "base_uri": "https://localhost:8080/",
          "height": 357
        },
        "id": "UVLZbYsaClL7",
        "outputId": "d04eb676-8887-4a38-97f8-85f734f6d55b"
      },
      "source": [
        "df.head(n=6)"
      ],
      "execution_count": null,
      "outputs": [
        {
          "output_type": "execute_result",
          "data": {
            "text/html": [
              "<div>\n",
              "<style scoped>\n",
              "    .dataframe tbody tr th:only-of-type {\n",
              "        vertical-align: middle;\n",
              "    }\n",
              "\n",
              "    .dataframe tbody tr th {\n",
              "        vertical-align: top;\n",
              "    }\n",
              "\n",
              "    .dataframe thead th {\n",
              "        text-align: right;\n",
              "    }\n",
              "</style>\n",
              "<table border=\"1\" class=\"dataframe\">\n",
              "  <thead>\n",
              "    <tr style=\"text-align: right;\">\n",
              "      <th></th>\n",
              "      <th>order_item_id</th>\n",
              "      <th>order_date</th>\n",
              "      <th>delivery_date</th>\n",
              "      <th>item_id</th>\n",
              "      <th>item_size</th>\n",
              "      <th>item_color</th>\n",
              "      <th>brand_id</th>\n",
              "      <th>item_price</th>\n",
              "      <th>user_id</th>\n",
              "      <th>user_title</th>\n",
              "      <th>user_dob</th>\n",
              "      <th>user_state</th>\n",
              "      <th>user_reg_date</th>\n",
              "      <th>return</th>\n",
              "    </tr>\n",
              "  </thead>\n",
              "  <tbody>\n",
              "    <tr>\n",
              "      <th>0</th>\n",
              "      <td>1</td>\n",
              "      <td>2016-06-22</td>\n",
              "      <td>2016-06-27</td>\n",
              "      <td>643</td>\n",
              "      <td>38</td>\n",
              "      <td>navy</td>\n",
              "      <td>30</td>\n",
              "      <td>49.90</td>\n",
              "      <td>30822</td>\n",
              "      <td>Mrs</td>\n",
              "      <td>1969-04-17</td>\n",
              "      <td>Saxony</td>\n",
              "      <td>2016-06-23</td>\n",
              "      <td>0</td>\n",
              "    </tr>\n",
              "    <tr>\n",
              "      <th>1</th>\n",
              "      <td>2</td>\n",
              "      <td>2016-06-22</td>\n",
              "      <td>NaN</td>\n",
              "      <td>337</td>\n",
              "      <td>152</td>\n",
              "      <td>grey</td>\n",
              "      <td>30</td>\n",
              "      <td>19.95</td>\n",
              "      <td>30822</td>\n",
              "      <td>Mrs</td>\n",
              "      <td>1969-04-17</td>\n",
              "      <td>Saxony</td>\n",
              "      <td>2016-06-23</td>\n",
              "      <td>0</td>\n",
              "    </tr>\n",
              "    <tr>\n",
              "      <th>2</th>\n",
              "      <td>3</td>\n",
              "      <td>2016-06-22</td>\n",
              "      <td>2016-06-27</td>\n",
              "      <td>270</td>\n",
              "      <td>xxl</td>\n",
              "      <td>grey</td>\n",
              "      <td>49</td>\n",
              "      <td>79.90</td>\n",
              "      <td>30823</td>\n",
              "      <td>Mrs</td>\n",
              "      <td>1970-04-22</td>\n",
              "      <td>Baden-Wuerttemberg</td>\n",
              "      <td>2015-03-15</td>\n",
              "      <td>1</td>\n",
              "    </tr>\n",
              "    <tr>\n",
              "      <th>3</th>\n",
              "      <td>4</td>\n",
              "      <td>2016-06-22</td>\n",
              "      <td>2016-06-27</td>\n",
              "      <td>142</td>\n",
              "      <td>xxl</td>\n",
              "      <td>grey</td>\n",
              "      <td>49</td>\n",
              "      <td>99.90</td>\n",
              "      <td>30823</td>\n",
              "      <td>Mrs</td>\n",
              "      <td>1970-04-22</td>\n",
              "      <td>Baden-Wuerttemberg</td>\n",
              "      <td>2015-03-15</td>\n",
              "      <td>0</td>\n",
              "    </tr>\n",
              "    <tr>\n",
              "      <th>4</th>\n",
              "      <td>5</td>\n",
              "      <td>2016-06-22</td>\n",
              "      <td>2016-06-27</td>\n",
              "      <td>561</td>\n",
              "      <td>xxl</td>\n",
              "      <td>grey</td>\n",
              "      <td>3</td>\n",
              "      <td>14.90</td>\n",
              "      <td>30823</td>\n",
              "      <td>Mrs</td>\n",
              "      <td>1970-04-22</td>\n",
              "      <td>Baden-Wuerttemberg</td>\n",
              "      <td>2015-03-15</td>\n",
              "      <td>1</td>\n",
              "    </tr>\n",
              "    <tr>\n",
              "      <th>5</th>\n",
              "      <td>6</td>\n",
              "      <td>2016-06-22</td>\n",
              "      <td>2016-06-27</td>\n",
              "      <td>579</td>\n",
              "      <td>xxl</td>\n",
              "      <td>grey</td>\n",
              "      <td>3</td>\n",
              "      <td>19.90</td>\n",
              "      <td>30823</td>\n",
              "      <td>Mrs</td>\n",
              "      <td>1970-04-22</td>\n",
              "      <td>Baden-Wuerttemberg</td>\n",
              "      <td>2015-03-15</td>\n",
              "      <td>1</td>\n",
              "    </tr>\n",
              "  </tbody>\n",
              "</table>\n",
              "</div>"
            ],
            "text/plain": [
              "   order_item_id  order_date  ... user_reg_date  return\n",
              "0              1  2016-06-22  ...    2016-06-23       0\n",
              "1              2  2016-06-22  ...    2016-06-23       0\n",
              "2              3  2016-06-22  ...    2015-03-15       1\n",
              "3              4  2016-06-22  ...    2015-03-15       0\n",
              "4              5  2016-06-22  ...    2015-03-15       1\n",
              "5              6  2016-06-22  ...    2015-03-15       1\n",
              "\n",
              "[6 rows x 14 columns]"
            ]
          },
          "metadata": {
            "tags": []
          },
          "execution_count": 2
        }
      ]
    },
    {
      "cell_type": "code",
      "metadata": {
        "colab": {
          "base_uri": "https://localhost:8080/",
          "height": 441
        },
        "id": "o3_TRMb3_4ql",
        "outputId": "e72372c9-5314-4f29-e47a-76b9122f49ef"
      },
      "source": [
        "df.describe(include='all')"
      ],
      "execution_count": null,
      "outputs": [
        {
          "output_type": "execute_result",
          "data": {
            "text/html": [
              "<div>\n",
              "<style scoped>\n",
              "    .dataframe tbody tr th:only-of-type {\n",
              "        vertical-align: middle;\n",
              "    }\n",
              "\n",
              "    .dataframe tbody tr th {\n",
              "        vertical-align: top;\n",
              "    }\n",
              "\n",
              "    .dataframe thead th {\n",
              "        text-align: right;\n",
              "    }\n",
              "</style>\n",
              "<table border=\"1\" class=\"dataframe\">\n",
              "  <thead>\n",
              "    <tr style=\"text-align: right;\">\n",
              "      <th></th>\n",
              "      <th>order_item_id</th>\n",
              "      <th>order_date</th>\n",
              "      <th>delivery_date</th>\n",
              "      <th>item_id</th>\n",
              "      <th>item_size</th>\n",
              "      <th>item_color</th>\n",
              "      <th>brand_id</th>\n",
              "      <th>item_price</th>\n",
              "      <th>user_id</th>\n",
              "      <th>user_title</th>\n",
              "      <th>user_dob</th>\n",
              "      <th>user_state</th>\n",
              "      <th>user_reg_date</th>\n",
              "      <th>return</th>\n",
              "    </tr>\n",
              "  </thead>\n",
              "  <tbody>\n",
              "    <tr>\n",
              "      <th>count</th>\n",
              "      <td>100000.000000</td>\n",
              "      <td>100000</td>\n",
              "      <td>90682</td>\n",
              "      <td>100000.000000</td>\n",
              "      <td>100000</td>\n",
              "      <td>100000</td>\n",
              "      <td>100000.000000</td>\n",
              "      <td>100000.000000</td>\n",
              "      <td>100000.000000</td>\n",
              "      <td>100000</td>\n",
              "      <td>91275</td>\n",
              "      <td>100000</td>\n",
              "      <td>100000</td>\n",
              "      <td>100000.000000</td>\n",
              "    </tr>\n",
              "    <tr>\n",
              "      <th>unique</th>\n",
              "      <td>NaN</td>\n",
              "      <td>82</td>\n",
              "      <td>123</td>\n",
              "      <td>NaN</td>\n",
              "      <td>102</td>\n",
              "      <td>77</td>\n",
              "      <td>NaN</td>\n",
              "      <td>NaN</td>\n",
              "      <td>NaN</td>\n",
              "      <td>5</td>\n",
              "      <td>9247</td>\n",
              "      <td>16</td>\n",
              "      <td>573</td>\n",
              "      <td>NaN</td>\n",
              "    </tr>\n",
              "    <tr>\n",
              "      <th>top</th>\n",
              "      <td>NaN</td>\n",
              "      <td>2016-06-27</td>\n",
              "      <td>2016-07-03</td>\n",
              "      <td>NaN</td>\n",
              "      <td>l</td>\n",
              "      <td>black</td>\n",
              "      <td>NaN</td>\n",
              "      <td>NaN</td>\n",
              "      <td>NaN</td>\n",
              "      <td>Mrs</td>\n",
              "      <td>1900-11-21</td>\n",
              "      <td>North Rhine-Westphalia</td>\n",
              "      <td>2015-02-17</td>\n",
              "      <td>NaN</td>\n",
              "    </tr>\n",
              "    <tr>\n",
              "      <th>freq</th>\n",
              "      <td>NaN</td>\n",
              "      <td>5577</td>\n",
              "      <td>5061</td>\n",
              "      <td>NaN</td>\n",
              "      <td>12347</td>\n",
              "      <td>18640</td>\n",
              "      <td>NaN</td>\n",
              "      <td>NaN</td>\n",
              "      <td>NaN</td>\n",
              "      <td>95429</td>\n",
              "      <td>919</td>\n",
              "      <td>22825</td>\n",
              "      <td>33966</td>\n",
              "      <td>NaN</td>\n",
              "    </tr>\n",
              "    <tr>\n",
              "      <th>mean</th>\n",
              "      <td>50000.500000</td>\n",
              "      <td>NaN</td>\n",
              "      <td>NaN</td>\n",
              "      <td>923.781820</td>\n",
              "      <td>NaN</td>\n",
              "      <td>NaN</td>\n",
              "      <td>30.149020</td>\n",
              "      <td>65.064695</td>\n",
              "      <td>27169.073960</td>\n",
              "      <td>NaN</td>\n",
              "      <td>NaN</td>\n",
              "      <td>NaN</td>\n",
              "      <td>NaN</td>\n",
              "      <td>0.458180</td>\n",
              "    </tr>\n",
              "    <tr>\n",
              "      <th>std</th>\n",
              "      <td>28867.657797</td>\n",
              "      <td>NaN</td>\n",
              "      <td>NaN</td>\n",
              "      <td>702.568822</td>\n",
              "      <td>NaN</td>\n",
              "      <td>NaN</td>\n",
              "      <td>28.180191</td>\n",
              "      <td>47.991546</td>\n",
              "      <td>14053.417669</td>\n",
              "      <td>NaN</td>\n",
              "      <td>NaN</td>\n",
              "      <td>NaN</td>\n",
              "      <td>NaN</td>\n",
              "      <td>0.498251</td>\n",
              "    </tr>\n",
              "    <tr>\n",
              "      <th>min</th>\n",
              "      <td>1.000000</td>\n",
              "      <td>NaN</td>\n",
              "      <td>NaN</td>\n",
              "      <td>1.000000</td>\n",
              "      <td>NaN</td>\n",
              "      <td>NaN</td>\n",
              "      <td>1.000000</td>\n",
              "      <td>0.000000</td>\n",
              "      <td>9.000000</td>\n",
              "      <td>NaN</td>\n",
              "      <td>NaN</td>\n",
              "      <td>NaN</td>\n",
              "      <td>NaN</td>\n",
              "      <td>0.000000</td>\n",
              "    </tr>\n",
              "    <tr>\n",
              "      <th>25%</th>\n",
              "      <td>25000.750000</td>\n",
              "      <td>NaN</td>\n",
              "      <td>NaN</td>\n",
              "      <td>214.000000</td>\n",
              "      <td>NaN</td>\n",
              "      <td>NaN</td>\n",
              "      <td>5.000000</td>\n",
              "      <td>29.900000</td>\n",
              "      <td>14937.000000</td>\n",
              "      <td>NaN</td>\n",
              "      <td>NaN</td>\n",
              "      <td>NaN</td>\n",
              "      <td>NaN</td>\n",
              "      <td>0.000000</td>\n",
              "    </tr>\n",
              "    <tr>\n",
              "      <th>50%</th>\n",
              "      <td>50000.500000</td>\n",
              "      <td>NaN</td>\n",
              "      <td>NaN</td>\n",
              "      <td>812.000000</td>\n",
              "      <td>NaN</td>\n",
              "      <td>NaN</td>\n",
              "      <td>25.000000</td>\n",
              "      <td>49.900000</td>\n",
              "      <td>31189.000000</td>\n",
              "      <td>NaN</td>\n",
              "      <td>NaN</td>\n",
              "      <td>NaN</td>\n",
              "      <td>NaN</td>\n",
              "      <td>0.000000</td>\n",
              "    </tr>\n",
              "    <tr>\n",
              "      <th>75%</th>\n",
              "      <td>75000.250000</td>\n",
              "      <td>NaN</td>\n",
              "      <td>NaN</td>\n",
              "      <td>1581.000000</td>\n",
              "      <td>NaN</td>\n",
              "      <td>NaN</td>\n",
              "      <td>44.000000</td>\n",
              "      <td>79.900000</td>\n",
              "      <td>38917.250000</td>\n",
              "      <td>NaN</td>\n",
              "      <td>NaN</td>\n",
              "      <td>NaN</td>\n",
              "      <td>NaN</td>\n",
              "      <td>1.000000</td>\n",
              "    </tr>\n",
              "    <tr>\n",
              "      <th>max</th>\n",
              "      <td>100000.000000</td>\n",
              "      <td>NaN</td>\n",
              "      <td>NaN</td>\n",
              "      <td>2241.000000</td>\n",
              "      <td>NaN</td>\n",
              "      <td>NaN</td>\n",
              "      <td>138.000000</td>\n",
              "      <td>999.000000</td>\n",
              "      <td>48241.000000</td>\n",
              "      <td>NaN</td>\n",
              "      <td>NaN</td>\n",
              "      <td>NaN</td>\n",
              "      <td>NaN</td>\n",
              "      <td>1.000000</td>\n",
              "    </tr>\n",
              "  </tbody>\n",
              "</table>\n",
              "</div>"
            ],
            "text/plain": [
              "        order_item_id  order_date  ... user_reg_date         return\n",
              "count   100000.000000      100000  ...        100000  100000.000000\n",
              "unique            NaN          82  ...           573            NaN\n",
              "top               NaN  2016-06-27  ...    2015-02-17            NaN\n",
              "freq              NaN        5577  ...         33966            NaN\n",
              "mean     50000.500000         NaN  ...           NaN       0.458180\n",
              "std      28867.657797         NaN  ...           NaN       0.498251\n",
              "min          1.000000         NaN  ...           NaN       0.000000\n",
              "25%      25000.750000         NaN  ...           NaN       0.000000\n",
              "50%      50000.500000         NaN  ...           NaN       0.000000\n",
              "75%      75000.250000         NaN  ...           NaN       1.000000\n",
              "max     100000.000000         NaN  ...           NaN       1.000000\n",
              "\n",
              "[11 rows x 14 columns]"
            ]
          },
          "metadata": {
            "tags": []
          },
          "execution_count": 3
        }
      ]
    },
    {
      "cell_type": "code",
      "metadata": {
        "colab": {
          "base_uri": "https://localhost:8080/"
        },
        "id": "qrqFy5O4LEfh",
        "outputId": "df4f0066-0e0f-441d-8b84-b146507a94b9"
      },
      "source": [
        "df.info()"
      ],
      "execution_count": null,
      "outputs": [
        {
          "output_type": "stream",
          "text": [
            "<class 'pandas.core.frame.DataFrame'>\n",
            "RangeIndex: 100000 entries, 0 to 99999\n",
            "Data columns (total 14 columns):\n",
            " #   Column         Non-Null Count   Dtype  \n",
            "---  ------         --------------   -----  \n",
            " 0   order_item_id  100000 non-null  int64  \n",
            " 1   order_date     100000 non-null  object \n",
            " 2   delivery_date  90682 non-null   object \n",
            " 3   item_id        100000 non-null  int64  \n",
            " 4   item_size      100000 non-null  object \n",
            " 5   item_color     100000 non-null  object \n",
            " 6   brand_id       100000 non-null  int64  \n",
            " 7   item_price     100000 non-null  float64\n",
            " 8   user_id        100000 non-null  int64  \n",
            " 9   user_title     100000 non-null  object \n",
            " 10  user_dob       91275 non-null   object \n",
            " 11  user_state     100000 non-null  object \n",
            " 12  user_reg_date  100000 non-null  object \n",
            " 13  return         100000 non-null  int64  \n",
            "dtypes: float64(1), int64(5), object(8)\n",
            "memory usage: 10.7+ MB\n"
          ],
          "name": "stdout"
        }
      ]
    },
    {
      "cell_type": "markdown",
      "metadata": {
        "id": "F2ni4g_98RBB"
      },
      "source": [
        "There are two columns with NAs. Also most of types are not defined. The NAs are found in the columns that are supposed to represent the dates, which is however, not clear yet.\n",
        "\n",
        "I consider the date-type objects to be inessential for usage in the model itself, nevertheless, these can be used to derive new variables that may be useful for the model.\n",
        "\n"
      ]
    },
    {
      "cell_type": "markdown",
      "metadata": {
        "id": "OMZ0V0kWagYG"
      },
      "source": [
        "### Time of delivery\n",
        "\n",
        "Let us start by computing the time it took for a good to be delivered. These will be done by finding the difference between the delivery and order dates. Also, the columns have to be converted to datetime types."
      ]
    },
    {
      "cell_type": "code",
      "metadata": {
        "colab": {
          "base_uri": "https://localhost:8080/"
        },
        "id": "p8JvkgamYRZi",
        "outputId": "f7358f2f-6678-48af-f77b-f746178c8f6b"
      },
      "source": [
        "# convert the date-like objects the actual date format\n",
        "df['order_date'] = pd.to_datetime(df['order_date'], format='%Y-%m-%d')\n",
        "df['delivery_date'] = pd.to_datetime(df['delivery_date'], format='%Y-%m-%d')\n",
        "df['user_reg_date'] = pd.to_datetime(df['user_reg_date'], format='%Y-%m-%d')\n",
        "\n",
        "# find the difference which is supposed to represent the time of delivery\n",
        "df[\"difference\"]=df[\"delivery_date\"]-df[\"order_date\"]\n",
        "df[\"difference\"]\n"
      ],
      "execution_count": null,
      "outputs": [
        {
          "output_type": "execute_result",
          "data": {
            "text/plain": [
              "0           5 days\n",
              "1              NaT\n",
              "2           5 days\n",
              "3           5 days\n",
              "4           5 days\n",
              "           ...    \n",
              "99995       1 days\n",
              "99996       1 days\n",
              "99997   -7925 days\n",
              "99998   -7925 days\n",
              "99999      27 days\n",
              "Name: difference, Length: 100000, dtype: timedelta64[ns]"
            ]
          },
          "metadata": {
            "tags": []
          },
          "execution_count": 5
        }
      ]
    },
    {
      "cell_type": "markdown",
      "metadata": {
        "id": "LV6-CE1B-YUQ"
      },
      "source": [
        "As we can see even now, there are some mistakes in the data of the dataset, as it is impossible for the difference to be a negative number. Also, there some NAs to deal with.\n",
        "\n",
        "Let us split the dataset into two subsets based on the presense of NAs. Also, the timedelta object will be converted to the integer32 type."
      ]
    },
    {
      "cell_type": "code",
      "metadata": {
        "colab": {
          "base_uri": "https://localhost:8080/",
          "height": 713
        },
        "id": "wj-NvKd2z_Cw",
        "outputId": "c7da2d8d-8f49-42f6-9c77-0bbe6d0b858c"
      },
      "source": [
        "# split the data into the part with NAs and without\n",
        "df_na = df[df['difference'].isna()]\n",
        "df = df[df['difference'].notna()]\n",
        "\n",
        "# convert the timedelta to integer\n",
        "df['difference'] = df['difference'].dt.days.astype('int32')\n",
        "df"
      ],
      "execution_count": null,
      "outputs": [
        {
          "output_type": "stream",
          "text": [
            "/usr/local/lib/python3.7/dist-packages/ipykernel_launcher.py:6: SettingWithCopyWarning: \n",
            "A value is trying to be set on a copy of a slice from a DataFrame.\n",
            "Try using .loc[row_indexer,col_indexer] = value instead\n",
            "\n",
            "See the caveats in the documentation: https://pandas.pydata.org/pandas-docs/stable/user_guide/indexing.html#returning-a-view-versus-a-copy\n",
            "  \n"
          ],
          "name": "stderr"
        },
        {
          "output_type": "execute_result",
          "data": {
            "text/html": [
              "<div>\n",
              "<style scoped>\n",
              "    .dataframe tbody tr th:only-of-type {\n",
              "        vertical-align: middle;\n",
              "    }\n",
              "\n",
              "    .dataframe tbody tr th {\n",
              "        vertical-align: top;\n",
              "    }\n",
              "\n",
              "    .dataframe thead th {\n",
              "        text-align: right;\n",
              "    }\n",
              "</style>\n",
              "<table border=\"1\" class=\"dataframe\">\n",
              "  <thead>\n",
              "    <tr style=\"text-align: right;\">\n",
              "      <th></th>\n",
              "      <th>order_item_id</th>\n",
              "      <th>order_date</th>\n",
              "      <th>delivery_date</th>\n",
              "      <th>item_id</th>\n",
              "      <th>item_size</th>\n",
              "      <th>item_color</th>\n",
              "      <th>brand_id</th>\n",
              "      <th>item_price</th>\n",
              "      <th>user_id</th>\n",
              "      <th>user_title</th>\n",
              "      <th>user_dob</th>\n",
              "      <th>user_state</th>\n",
              "      <th>user_reg_date</th>\n",
              "      <th>return</th>\n",
              "      <th>difference</th>\n",
              "    </tr>\n",
              "  </thead>\n",
              "  <tbody>\n",
              "    <tr>\n",
              "      <th>0</th>\n",
              "      <td>1</td>\n",
              "      <td>2016-06-22</td>\n",
              "      <td>2016-06-27</td>\n",
              "      <td>643</td>\n",
              "      <td>38</td>\n",
              "      <td>navy</td>\n",
              "      <td>30</td>\n",
              "      <td>49.9</td>\n",
              "      <td>30822</td>\n",
              "      <td>Mrs</td>\n",
              "      <td>1969-04-17</td>\n",
              "      <td>Saxony</td>\n",
              "      <td>2016-06-23</td>\n",
              "      <td>0</td>\n",
              "      <td>5</td>\n",
              "    </tr>\n",
              "    <tr>\n",
              "      <th>2</th>\n",
              "      <td>3</td>\n",
              "      <td>2016-06-22</td>\n",
              "      <td>2016-06-27</td>\n",
              "      <td>270</td>\n",
              "      <td>xxl</td>\n",
              "      <td>grey</td>\n",
              "      <td>49</td>\n",
              "      <td>79.9</td>\n",
              "      <td>30823</td>\n",
              "      <td>Mrs</td>\n",
              "      <td>1970-04-22</td>\n",
              "      <td>Baden-Wuerttemberg</td>\n",
              "      <td>2015-03-15</td>\n",
              "      <td>1</td>\n",
              "      <td>5</td>\n",
              "    </tr>\n",
              "    <tr>\n",
              "      <th>3</th>\n",
              "      <td>4</td>\n",
              "      <td>2016-06-22</td>\n",
              "      <td>2016-06-27</td>\n",
              "      <td>142</td>\n",
              "      <td>xxl</td>\n",
              "      <td>grey</td>\n",
              "      <td>49</td>\n",
              "      <td>99.9</td>\n",
              "      <td>30823</td>\n",
              "      <td>Mrs</td>\n",
              "      <td>1970-04-22</td>\n",
              "      <td>Baden-Wuerttemberg</td>\n",
              "      <td>2015-03-15</td>\n",
              "      <td>0</td>\n",
              "      <td>5</td>\n",
              "    </tr>\n",
              "    <tr>\n",
              "      <th>4</th>\n",
              "      <td>5</td>\n",
              "      <td>2016-06-22</td>\n",
              "      <td>2016-06-27</td>\n",
              "      <td>561</td>\n",
              "      <td>xxl</td>\n",
              "      <td>grey</td>\n",
              "      <td>3</td>\n",
              "      <td>14.9</td>\n",
              "      <td>30823</td>\n",
              "      <td>Mrs</td>\n",
              "      <td>1970-04-22</td>\n",
              "      <td>Baden-Wuerttemberg</td>\n",
              "      <td>2015-03-15</td>\n",
              "      <td>1</td>\n",
              "      <td>5</td>\n",
              "    </tr>\n",
              "    <tr>\n",
              "      <th>5</th>\n",
              "      <td>6</td>\n",
              "      <td>2016-06-22</td>\n",
              "      <td>2016-06-27</td>\n",
              "      <td>579</td>\n",
              "      <td>xxl</td>\n",
              "      <td>grey</td>\n",
              "      <td>3</td>\n",
              "      <td>19.9</td>\n",
              "      <td>30823</td>\n",
              "      <td>Mrs</td>\n",
              "      <td>1970-04-22</td>\n",
              "      <td>Baden-Wuerttemberg</td>\n",
              "      <td>2015-03-15</td>\n",
              "      <td>1</td>\n",
              "      <td>5</td>\n",
              "    </tr>\n",
              "    <tr>\n",
              "      <th>...</th>\n",
              "      <td>...</td>\n",
              "      <td>...</td>\n",
              "      <td>...</td>\n",
              "      <td>...</td>\n",
              "      <td>...</td>\n",
              "      <td>...</td>\n",
              "      <td>...</td>\n",
              "      <td>...</td>\n",
              "      <td>...</td>\n",
              "      <td>...</td>\n",
              "      <td>...</td>\n",
              "      <td>...</td>\n",
              "      <td>...</td>\n",
              "      <td>...</td>\n",
              "      <td>...</td>\n",
              "    </tr>\n",
              "    <tr>\n",
              "      <th>99995</th>\n",
              "      <td>99996</td>\n",
              "      <td>2016-09-11</td>\n",
              "      <td>2016-09-12</td>\n",
              "      <td>156</td>\n",
              "      <td>20</td>\n",
              "      <td>blue</td>\n",
              "      <td>34</td>\n",
              "      <td>29.9</td>\n",
              "      <td>713</td>\n",
              "      <td>Mrs</td>\n",
              "      <td>1959-03-21</td>\n",
              "      <td>Rhineland-Palatinate</td>\n",
              "      <td>2015-02-17</td>\n",
              "      <td>0</td>\n",
              "      <td>1</td>\n",
              "    </tr>\n",
              "    <tr>\n",
              "      <th>99996</th>\n",
              "      <td>99997</td>\n",
              "      <td>2016-09-11</td>\n",
              "      <td>2016-09-12</td>\n",
              "      <td>156</td>\n",
              "      <td>20</td>\n",
              "      <td>brown</td>\n",
              "      <td>34</td>\n",
              "      <td>29.9</td>\n",
              "      <td>713</td>\n",
              "      <td>Mrs</td>\n",
              "      <td>1959-03-21</td>\n",
              "      <td>Rhineland-Palatinate</td>\n",
              "      <td>2015-02-17</td>\n",
              "      <td>0</td>\n",
              "      <td>1</td>\n",
              "    </tr>\n",
              "    <tr>\n",
              "      <th>99997</th>\n",
              "      <td>99998</td>\n",
              "      <td>2016-09-11</td>\n",
              "      <td>1994-12-31</td>\n",
              "      <td>1832</td>\n",
              "      <td>xxl</td>\n",
              "      <td>black</td>\n",
              "      <td>37</td>\n",
              "      <td>26.9</td>\n",
              "      <td>47794</td>\n",
              "      <td>Mr</td>\n",
              "      <td>1985-03-01</td>\n",
              "      <td>Hamburg</td>\n",
              "      <td>2016-09-10</td>\n",
              "      <td>0</td>\n",
              "      <td>-7925</td>\n",
              "    </tr>\n",
              "    <tr>\n",
              "      <th>99998</th>\n",
              "      <td>99999</td>\n",
              "      <td>2016-09-11</td>\n",
              "      <td>1994-12-31</td>\n",
              "      <td>1832</td>\n",
              "      <td>xxl</td>\n",
              "      <td>black</td>\n",
              "      <td>37</td>\n",
              "      <td>26.9</td>\n",
              "      <td>47794</td>\n",
              "      <td>Mr</td>\n",
              "      <td>1985-03-01</td>\n",
              "      <td>Hamburg</td>\n",
              "      <td>2016-09-10</td>\n",
              "      <td>0</td>\n",
              "      <td>-7925</td>\n",
              "    </tr>\n",
              "    <tr>\n",
              "      <th>99999</th>\n",
              "      <td>100000</td>\n",
              "      <td>2016-09-11</td>\n",
              "      <td>2016-10-08</td>\n",
              "      <td>1891</td>\n",
              "      <td>28</td>\n",
              "      <td>fuchsia</td>\n",
              "      <td>47</td>\n",
              "      <td>27.9</td>\n",
              "      <td>2622</td>\n",
              "      <td>Mrs</td>\n",
              "      <td>1973-10-17</td>\n",
              "      <td>Lower Saxony</td>\n",
              "      <td>2015-02-17</td>\n",
              "      <td>0</td>\n",
              "      <td>27</td>\n",
              "    </tr>\n",
              "  </tbody>\n",
              "</table>\n",
              "<p>90682 rows × 15 columns</p>\n",
              "</div>"
            ],
            "text/plain": [
              "       order_item_id order_date delivery_date  ...  user_reg_date return difference\n",
              "0                  1 2016-06-22    2016-06-27  ...     2016-06-23      0          5\n",
              "2                  3 2016-06-22    2016-06-27  ...     2015-03-15      1          5\n",
              "3                  4 2016-06-22    2016-06-27  ...     2015-03-15      0          5\n",
              "4                  5 2016-06-22    2016-06-27  ...     2015-03-15      1          5\n",
              "5                  6 2016-06-22    2016-06-27  ...     2015-03-15      1          5\n",
              "...              ...        ...           ...  ...            ...    ...        ...\n",
              "99995          99996 2016-09-11    2016-09-12  ...     2015-02-17      0          1\n",
              "99996          99997 2016-09-11    2016-09-12  ...     2015-02-17      0          1\n",
              "99997          99998 2016-09-11    1994-12-31  ...     2016-09-10      0      -7925\n",
              "99998          99999 2016-09-11    1994-12-31  ...     2016-09-10      0      -7925\n",
              "99999         100000 2016-09-11    2016-10-08  ...     2015-02-17      0         27\n",
              "\n",
              "[90682 rows x 15 columns]"
            ]
          },
          "metadata": {
            "tags": []
          },
          "execution_count": 6
        }
      ]
    },
    {
      "cell_type": "markdown",
      "metadata": {
        "id": "BVwiIIty_xPU"
      },
      "source": [
        "Where the difference is negative a mean number is calculated. Also, as we can see from the boxplot below and judging by the max variable, there are no possible positive outliers that could affect the mean, as I consider the delivery of 173 days (5-6 months) to be a quite reasonable number."
      ]
    },
    {
      "cell_type": "code",
      "metadata": {
        "colab": {
          "base_uri": "https://localhost:8080/"
        },
        "id": "b88iyDZtAVDr",
        "outputId": "7a0c93ef-ee03-4c74-94aa-62b1adc81dbd"
      },
      "source": [
        "df[\"difference\"].max()"
      ],
      "execution_count": null,
      "outputs": [
        {
          "output_type": "execute_result",
          "data": {
            "text/plain": [
              "173"
            ]
          },
          "metadata": {
            "tags": []
          },
          "execution_count": 7
        }
      ]
    },
    {
      "cell_type": "code",
      "metadata": {
        "colab": {
          "base_uri": "https://localhost:8080/",
          "height": 283
        },
        "id": "grWdxYiU_7YV",
        "outputId": "372108d6-ba06-456d-e491-72b43ffb025f"
      },
      "source": [
        "import numpy as np\n",
        "import matplotlib.pyplot as plt\n",
        "import seaborn as sns\n",
        "\n",
        "df.boxplot([\"difference\"])"
      ],
      "execution_count": null,
      "outputs": [
        {
          "output_type": "execute_result",
          "data": {
            "text/plain": [
              "<matplotlib.axes._subplots.AxesSubplot at 0x7ff6ce23e450>"
            ]
          },
          "metadata": {
            "tags": []
          },
          "execution_count": 8
        },
        {
          "output_type": "display_data",
          "data": {
            "image/png": "[encoded data removed]",
            "text/plain": [
              "<Figure size 432x288 with 1 Axes>"
            ]
          },
          "metadata": {
            "tags": [],
            "needs_background": "light"
          }
        }
      ]
    },
    {
      "cell_type": "markdown",
      "metadata": {
        "id": "zGG5LR6oA_KL"
      },
      "source": [
        "The calculated mean is 7 days (a week). Which seems to be in line with what could be expected."
      ]
    },
    {
      "cell_type": "code",
      "metadata": {
        "colab": {
          "base_uri": "https://localhost:8080/"
        },
        "id": "8hLAqIy8Bfp6",
        "outputId": "0048dabb-095e-4bd7-db86-e12d0b69092c"
      },
      "source": [
        "# mean is calculated only on the basis of positive numbers\n",
        "mean_delivery = df.loc[df['difference']>0, 'difference'].mean()\n",
        "mean_delivery=int(mean_delivery)\n",
        "mean_delivery"
      ],
      "execution_count": null,
      "outputs": [
        {
          "output_type": "execute_result",
          "data": {
            "text/plain": [
              "7"
            ]
          },
          "metadata": {
            "tags": []
          },
          "execution_count": 9
        }
      ]
    },
    {
      "cell_type": "markdown",
      "metadata": {
        "id": "JiA2f75pBOBT"
      },
      "source": [
        "Let us add the NAs back and substitute them together with the negative numbers, which is once again not reasonable, with the mean."
      ]
    },
    {
      "cell_type": "code",
      "metadata": {
        "id": "myEELmzHHzeT"
      },
      "source": [
        "df=df.append(df_na)"
      ],
      "execution_count": null,
      "outputs": []
    },
    {
      "cell_type": "code",
      "metadata": {
        "id": "hIpcqXvjE6qo"
      },
      "source": [
        "# substitution of negative differences and filling of NAs\n",
        "df.loc[df['difference']<0, 'difference']=mean_delivery\n",
        "df['difference'] = df['difference'].fillna(mean_delivery)\n"
      ],
      "execution_count": null,
      "outputs": []
    },
    {
      "cell_type": "markdown",
      "metadata": {
        "id": "zBwJiftWBkVK"
      },
      "source": [
        "The boxplot for the difference in days now seems to be ok."
      ]
    },
    {
      "cell_type": "code",
      "metadata": {
        "colab": {
          "base_uri": "https://localhost:8080/",
          "height": 283
        },
        "id": "j5YTbGv86ynz",
        "outputId": "13326d88-1122-4e47-c262-33a3c9405b36"
      },
      "source": [
        "import numpy as np\n",
        "import matplotlib.pyplot as plt\n",
        "import seaborn as sns\n",
        "\n",
        "df.boxplot([\"difference\"])"
      ],
      "execution_count": null,
      "outputs": [
        {
          "output_type": "execute_result",
          "data": {
            "text/plain": [
              "<matplotlib.axes._subplots.AxesSubplot at 0x7ff6cd9a4e90>"
            ]
          },
          "metadata": {
            "tags": []
          },
          "execution_count": 12
        },
        {
          "output_type": "display_data",
          "data": {
            "image/png": "[encoded data removed]",
            "text/plain": [
              "<Figure size 432x288 with 1 Axes>"
            ]
          },
          "metadata": {
            "tags": [],
            "needs_background": "light"
          }
        }
      ]
    },
    {
      "cell_type": "markdown",
      "metadata": {
        "id": "1-VrqhjrB3aK"
      },
      "source": [
        "I will also now compute the delivery date for NAs by adding the mean delivery time to the order date."
      ]
    },
    {
      "cell_type": "code",
      "metadata": {
        "colab": {
          "base_uri": "https://localhost:8080/",
          "height": 609
        },
        "id": "h_vyJ_tA6aYk",
        "outputId": "db3e95bc-90de-4de1-bcb9-d009b6cbac4e"
      },
      "source": [
        "df_na = df[df['delivery_date'].isna()]\n",
        "df = df[df['delivery_date'].notna()]\n",
        "df_na\n",
        "\n"
      ],
      "execution_count": null,
      "outputs": [
        {
          "output_type": "execute_result",
          "data": {
            "text/html": [
              "<div>\n",
              "<style scoped>\n",
              "    .dataframe tbody tr th:only-of-type {\n",
              "        vertical-align: middle;\n",
              "    }\n",
              "\n",
              "    .dataframe tbody tr th {\n",
              "        vertical-align: top;\n",
              "    }\n",
              "\n",
              "    .dataframe thead th {\n",
              "        text-align: right;\n",
              "    }\n",
              "</style>\n",
              "<table border=\"1\" class=\"dataframe\">\n",
              "  <thead>\n",
              "    <tr style=\"text-align: right;\">\n",
              "      <th></th>\n",
              "      <th>order_item_id</th>\n",
              "      <th>order_date</th>\n",
              "      <th>delivery_date</th>\n",
              "      <th>item_id</th>\n",
              "      <th>item_size</th>\n",
              "      <th>item_color</th>\n",
              "      <th>brand_id</th>\n",
              "      <th>item_price</th>\n",
              "      <th>user_id</th>\n",
              "      <th>user_title</th>\n",
              "      <th>user_dob</th>\n",
              "      <th>user_state</th>\n",
              "      <th>user_reg_date</th>\n",
              "      <th>return</th>\n",
              "      <th>difference</th>\n",
              "    </tr>\n",
              "  </thead>\n",
              "  <tbody>\n",
              "    <tr>\n",
              "      <th>1</th>\n",
              "      <td>2</td>\n",
              "      <td>2016-06-22</td>\n",
              "      <td>NaT</td>\n",
              "      <td>337</td>\n",
              "      <td>152</td>\n",
              "      <td>grey</td>\n",
              "      <td>30</td>\n",
              "      <td>19.95</td>\n",
              "      <td>30822</td>\n",
              "      <td>Mrs</td>\n",
              "      <td>1969-04-17</td>\n",
              "      <td>Saxony</td>\n",
              "      <td>2016-06-23</td>\n",
              "      <td>0</td>\n",
              "      <td>7</td>\n",
              "    </tr>\n",
              "    <tr>\n",
              "      <th>55</th>\n",
              "      <td>56</td>\n",
              "      <td>2016-06-23</td>\n",
              "      <td>NaT</td>\n",
              "      <td>5</td>\n",
              "      <td>l</td>\n",
              "      <td>white</td>\n",
              "      <td>5</td>\n",
              "      <td>69.90</td>\n",
              "      <td>30828</td>\n",
              "      <td>Mrs</td>\n",
              "      <td>1966-05-13</td>\n",
              "      <td>Lower Saxony</td>\n",
              "      <td>2016-01-21</td>\n",
              "      <td>0</td>\n",
              "      <td>7</td>\n",
              "    </tr>\n",
              "    <tr>\n",
              "      <th>63</th>\n",
              "      <td>64</td>\n",
              "      <td>2016-06-23</td>\n",
              "      <td>NaT</td>\n",
              "      <td>211</td>\n",
              "      <td>40</td>\n",
              "      <td>turquoise</td>\n",
              "      <td>1</td>\n",
              "      <td>69.90</td>\n",
              "      <td>22948</td>\n",
              "      <td>Mrs</td>\n",
              "      <td>1957-03-11</td>\n",
              "      <td>Baden-Wuerttemberg</td>\n",
              "      <td>2015-02-17</td>\n",
              "      <td>0</td>\n",
              "      <td>7</td>\n",
              "    </tr>\n",
              "    <tr>\n",
              "      <th>64</th>\n",
              "      <td>65</td>\n",
              "      <td>2016-06-23</td>\n",
              "      <td>NaT</td>\n",
              "      <td>55</td>\n",
              "      <td>40</td>\n",
              "      <td>purple</td>\n",
              "      <td>1</td>\n",
              "      <td>89.90</td>\n",
              "      <td>22948</td>\n",
              "      <td>Mrs</td>\n",
              "      <td>1957-03-11</td>\n",
              "      <td>Baden-Wuerttemberg</td>\n",
              "      <td>2015-02-17</td>\n",
              "      <td>0</td>\n",
              "      <td>7</td>\n",
              "    </tr>\n",
              "    <tr>\n",
              "      <th>65</th>\n",
              "      <td>66</td>\n",
              "      <td>2016-06-23</td>\n",
              "      <td>NaT</td>\n",
              "      <td>74</td>\n",
              "      <td>40</td>\n",
              "      <td>pink</td>\n",
              "      <td>24</td>\n",
              "      <td>69.90</td>\n",
              "      <td>22948</td>\n",
              "      <td>Mrs</td>\n",
              "      <td>1957-03-11</td>\n",
              "      <td>Baden-Wuerttemberg</td>\n",
              "      <td>2015-02-17</td>\n",
              "      <td>0</td>\n",
              "      <td>7</td>\n",
              "    </tr>\n",
              "    <tr>\n",
              "      <th>...</th>\n",
              "      <td>...</td>\n",
              "      <td>...</td>\n",
              "      <td>...</td>\n",
              "      <td>...</td>\n",
              "      <td>...</td>\n",
              "      <td>...</td>\n",
              "      <td>...</td>\n",
              "      <td>...</td>\n",
              "      <td>...</td>\n",
              "      <td>...</td>\n",
              "      <td>...</td>\n",
              "      <td>...</td>\n",
              "      <td>...</td>\n",
              "      <td>...</td>\n",
              "      <td>...</td>\n",
              "    </tr>\n",
              "    <tr>\n",
              "      <th>99952</th>\n",
              "      <td>99953</td>\n",
              "      <td>2016-09-11</td>\n",
              "      <td>NaT</td>\n",
              "      <td>1508</td>\n",
              "      <td>42</td>\n",
              "      <td>dark denim</td>\n",
              "      <td>113</td>\n",
              "      <td>59.90</td>\n",
              "      <td>48234</td>\n",
              "      <td>Mrs</td>\n",
              "      <td>1962-10-02</td>\n",
              "      <td>Hesse</td>\n",
              "      <td>2016-09-12</td>\n",
              "      <td>0</td>\n",
              "      <td>7</td>\n",
              "    </tr>\n",
              "    <tr>\n",
              "      <th>99953</th>\n",
              "      <td>99954</td>\n",
              "      <td>2016-09-11</td>\n",
              "      <td>NaT</td>\n",
              "      <td>1498</td>\n",
              "      <td>42</td>\n",
              "      <td>green</td>\n",
              "      <td>6</td>\n",
              "      <td>59.90</td>\n",
              "      <td>48234</td>\n",
              "      <td>Mrs</td>\n",
              "      <td>1962-10-02</td>\n",
              "      <td>Hesse</td>\n",
              "      <td>2016-09-12</td>\n",
              "      <td>0</td>\n",
              "      <td>7</td>\n",
              "    </tr>\n",
              "    <tr>\n",
              "      <th>99954</th>\n",
              "      <td>99955</td>\n",
              "      <td>2016-09-11</td>\n",
              "      <td>NaT</td>\n",
              "      <td>1412</td>\n",
              "      <td>40</td>\n",
              "      <td>blue</td>\n",
              "      <td>54</td>\n",
              "      <td>119.90</td>\n",
              "      <td>48234</td>\n",
              "      <td>Mrs</td>\n",
              "      <td>1962-10-02</td>\n",
              "      <td>Hesse</td>\n",
              "      <td>2016-09-12</td>\n",
              "      <td>0</td>\n",
              "      <td>7</td>\n",
              "    </tr>\n",
              "    <tr>\n",
              "      <th>99961</th>\n",
              "      <td>99962</td>\n",
              "      <td>2016-09-11</td>\n",
              "      <td>NaT</td>\n",
              "      <td>1550</td>\n",
              "      <td>xxl</td>\n",
              "      <td>berry</td>\n",
              "      <td>117</td>\n",
              "      <td>129.90</td>\n",
              "      <td>48236</td>\n",
              "      <td>Mrs</td>\n",
              "      <td>1964-10-15</td>\n",
              "      <td>North Rhine-Westphalia</td>\n",
              "      <td>2016-09-12</td>\n",
              "      <td>0</td>\n",
              "      <td>7</td>\n",
              "    </tr>\n",
              "    <tr>\n",
              "      <th>99962</th>\n",
              "      <td>99963</td>\n",
              "      <td>2016-09-11</td>\n",
              "      <td>NaT</td>\n",
              "      <td>1712</td>\n",
              "      <td>xxl</td>\n",
              "      <td>brown</td>\n",
              "      <td>42</td>\n",
              "      <td>99.90</td>\n",
              "      <td>48236</td>\n",
              "      <td>Mrs</td>\n",
              "      <td>1964-10-15</td>\n",
              "      <td>North Rhine-Westphalia</td>\n",
              "      <td>2016-09-12</td>\n",
              "      <td>0</td>\n",
              "      <td>7</td>\n",
              "    </tr>\n",
              "  </tbody>\n",
              "</table>\n",
              "<p>9318 rows × 15 columns</p>\n",
              "</div>"
            ],
            "text/plain": [
              "       order_item_id order_date delivery_date  ...  user_reg_date return difference\n",
              "1                  2 2016-06-22           NaT  ...     2016-06-23      0          7\n",
              "55                56 2016-06-23           NaT  ...     2016-01-21      0          7\n",
              "63                64 2016-06-23           NaT  ...     2015-02-17      0          7\n",
              "64                65 2016-06-23           NaT  ...     2015-02-17      0          7\n",
              "65                66 2016-06-23           NaT  ...     2015-02-17      0          7\n",
              "...              ...        ...           ...  ...            ...    ...        ...\n",
              "99952          99953 2016-09-11           NaT  ...     2016-09-12      0          7\n",
              "99953          99954 2016-09-11           NaT  ...     2016-09-12      0          7\n",
              "99954          99955 2016-09-11           NaT  ...     2016-09-12      0          7\n",
              "99961          99962 2016-09-11           NaT  ...     2016-09-12      0          7\n",
              "99962          99963 2016-09-11           NaT  ...     2016-09-12      0          7\n",
              "\n",
              "[9318 rows x 15 columns]"
            ]
          },
          "metadata": {
            "tags": []
          },
          "execution_count": 13
        }
      ]
    },
    {
      "cell_type": "code",
      "metadata": {
        "colab": {
          "base_uri": "https://localhost:8080/",
          "height": 609
        },
        "id": "JDjVWrd_DMNz",
        "outputId": "cbed612e-d59f-4c47-e959-75a90fd36cdf"
      },
      "source": [
        "import datetime\n",
        "\n",
        "# adding the 7 days timedelta to the order date to showcase the mean delivery time, where the data was NA\n",
        "df_na[\"delivery_date\"] = pd.to_datetime(df_na['order_date']) + pd.DateOffset(days=7)\n",
        "df_na"
      ],
      "execution_count": null,
      "outputs": [
        {
          "output_type": "execute_result",
          "data": {
            "text/html": [
              "<div>\n",
              "<style scoped>\n",
              "    .dataframe tbody tr th:only-of-type {\n",
              "        vertical-align: middle;\n",
              "    }\n",
              "\n",
              "    .dataframe tbody tr th {\n",
              "        vertical-align: top;\n",
              "    }\n",
              "\n",
              "    .dataframe thead th {\n",
              "        text-align: right;\n",
              "    }\n",
              "</style>\n",
              "<table border=\"1\" class=\"dataframe\">\n",
              "  <thead>\n",
              "    <tr style=\"text-align: right;\">\n",
              "      <th></th>\n",
              "      <th>order_item_id</th>\n",
              "      <th>order_date</th>\n",
              "      <th>delivery_date</th>\n",
              "      <th>item_id</th>\n",
              "      <th>item_size</th>\n",
              "      <th>item_color</th>\n",
              "      <th>brand_id</th>\n",
              "      <th>item_price</th>\n",
              "      <th>user_id</th>\n",
              "      <th>user_title</th>\n",
              "      <th>user_dob</th>\n",
              "      <th>user_state</th>\n",
              "      <th>user_reg_date</th>\n",
              "      <th>return</th>\n",
              "      <th>difference</th>\n",
              "    </tr>\n",
              "  </thead>\n",
              "  <tbody>\n",
              "    <tr>\n",
              "      <th>1</th>\n",
              "      <td>2</td>\n",
              "      <td>2016-06-22</td>\n",
              "      <td>2016-06-29</td>\n",
              "      <td>337</td>\n",
              "      <td>152</td>\n",
              "      <td>grey</td>\n",
              "      <td>30</td>\n",
              "      <td>19.95</td>\n",
              "      <td>30822</td>\n",
              "      <td>Mrs</td>\n",
              "      <td>1969-04-17</td>\n",
              "      <td>Saxony</td>\n",
              "      <td>2016-06-23</td>\n",
              "      <td>0</td>\n",
              "      <td>7</td>\n",
              "    </tr>\n",
              "    <tr>\n",
              "      <th>55</th>\n",
              "      <td>56</td>\n",
              "      <td>2016-06-23</td>\n",
              "      <td>2016-06-30</td>\n",
              "      <td>5</td>\n",
              "      <td>l</td>\n",
              "      <td>white</td>\n",
              "      <td>5</td>\n",
              "      <td>69.90</td>\n",
              "      <td>30828</td>\n",
              "      <td>Mrs</td>\n",
              "      <td>1966-05-13</td>\n",
              "      <td>Lower Saxony</td>\n",
              "      <td>2016-01-21</td>\n",
              "      <td>0</td>\n",
              "      <td>7</td>\n",
              "    </tr>\n",
              "    <tr>\n",
              "      <th>63</th>\n",
              "      <td>64</td>\n",
              "      <td>2016-06-23</td>\n",
              "      <td>2016-06-30</td>\n",
              "      <td>211</td>\n",
              "      <td>40</td>\n",
              "      <td>turquoise</td>\n",
              "      <td>1</td>\n",
              "      <td>69.90</td>\n",
              "      <td>22948</td>\n",
              "      <td>Mrs</td>\n",
              "      <td>1957-03-11</td>\n",
              "      <td>Baden-Wuerttemberg</td>\n",
              "      <td>2015-02-17</td>\n",
              "      <td>0</td>\n",
              "      <td>7</td>\n",
              "    </tr>\n",
              "    <tr>\n",
              "      <th>64</th>\n",
              "      <td>65</td>\n",
              "      <td>2016-06-23</td>\n",
              "      <td>2016-06-30</td>\n",
              "      <td>55</td>\n",
              "      <td>40</td>\n",
              "      <td>purple</td>\n",
              "      <td>1</td>\n",
              "      <td>89.90</td>\n",
              "      <td>22948</td>\n",
              "      <td>Mrs</td>\n",
              "      <td>1957-03-11</td>\n",
              "      <td>Baden-Wuerttemberg</td>\n",
              "      <td>2015-02-17</td>\n",
              "      <td>0</td>\n",
              "      <td>7</td>\n",
              "    </tr>\n",
              "    <tr>\n",
              "      <th>65</th>\n",
              "      <td>66</td>\n",
              "      <td>2016-06-23</td>\n",
              "      <td>2016-06-30</td>\n",
              "      <td>74</td>\n",
              "      <td>40</td>\n",
              "      <td>pink</td>\n",
              "      <td>24</td>\n",
              "      <td>69.90</td>\n",
              "      <td>22948</td>\n",
              "      <td>Mrs</td>\n",
              "      <td>1957-03-11</td>\n",
              "      <td>Baden-Wuerttemberg</td>\n",
              "      <td>2015-02-17</td>\n",
              "      <td>0</td>\n",
              "      <td>7</td>\n",
              "    </tr>\n",
              "    <tr>\n",
              "      <th>...</th>\n",
              "      <td>...</td>\n",
              "      <td>...</td>\n",
              "      <td>...</td>\n",
              "      <td>...</td>\n",
              "      <td>...</td>\n",
              "      <td>...</td>\n",
              "      <td>...</td>\n",
              "      <td>...</td>\n",
              "      <td>...</td>\n",
              "      <td>...</td>\n",
              "      <td>...</td>\n",
              "      <td>...</td>\n",
              "      <td>...</td>\n",
              "      <td>...</td>\n",
              "      <td>...</td>\n",
              "    </tr>\n",
              "    <tr>\n",
              "      <th>99952</th>\n",
              "      <td>99953</td>\n",
              "      <td>2016-09-11</td>\n",
              "      <td>2016-09-18</td>\n",
              "      <td>1508</td>\n",
              "      <td>42</td>\n",
              "      <td>dark denim</td>\n",
              "      <td>113</td>\n",
              "      <td>59.90</td>\n",
              "      <td>48234</td>\n",
              "      <td>Mrs</td>\n",
              "      <td>1962-10-02</td>\n",
              "      <td>Hesse</td>\n",
              "      <td>2016-09-12</td>\n",
              "      <td>0</td>\n",
              "      <td>7</td>\n",
              "    </tr>\n",
              "    <tr>\n",
              "      <th>99953</th>\n",
              "      <td>99954</td>\n",
              "      <td>2016-09-11</td>\n",
              "      <td>2016-09-18</td>\n",
              "      <td>1498</td>\n",
              "      <td>42</td>\n",
              "      <td>green</td>\n",
              "      <td>6</td>\n",
              "      <td>59.90</td>\n",
              "      <td>48234</td>\n",
              "      <td>Mrs</td>\n",
              "      <td>1962-10-02</td>\n",
              "      <td>Hesse</td>\n",
              "      <td>2016-09-12</td>\n",
              "      <td>0</td>\n",
              "      <td>7</td>\n",
              "    </tr>\n",
              "    <tr>\n",
              "      <th>99954</th>\n",
              "      <td>99955</td>\n",
              "      <td>2016-09-11</td>\n",
              "      <td>2016-09-18</td>\n",
              "      <td>1412</td>\n",
              "      <td>40</td>\n",
              "      <td>blue</td>\n",
              "      <td>54</td>\n",
              "      <td>119.90</td>\n",
              "      <td>48234</td>\n",
              "      <td>Mrs</td>\n",
              "      <td>1962-10-02</td>\n",
              "      <td>Hesse</td>\n",
              "      <td>2016-09-12</td>\n",
              "      <td>0</td>\n",
              "      <td>7</td>\n",
              "    </tr>\n",
              "    <tr>\n",
              "      <th>99961</th>\n",
              "      <td>99962</td>\n",
              "      <td>2016-09-11</td>\n",
              "      <td>2016-09-18</td>\n",
              "      <td>1550</td>\n",
              "      <td>xxl</td>\n",
              "      <td>berry</td>\n",
              "      <td>117</td>\n",
              "      <td>129.90</td>\n",
              "      <td>48236</td>\n",
              "      <td>Mrs</td>\n",
              "      <td>1964-10-15</td>\n",
              "      <td>North Rhine-Westphalia</td>\n",
              "      <td>2016-09-12</td>\n",
              "      <td>0</td>\n",
              "      <td>7</td>\n",
              "    </tr>\n",
              "    <tr>\n",
              "      <th>99962</th>\n",
              "      <td>99963</td>\n",
              "      <td>2016-09-11</td>\n",
              "      <td>2016-09-18</td>\n",
              "      <td>1712</td>\n",
              "      <td>xxl</td>\n",
              "      <td>brown</td>\n",
              "      <td>42</td>\n",
              "      <td>99.90</td>\n",
              "      <td>48236</td>\n",
              "      <td>Mrs</td>\n",
              "      <td>1964-10-15</td>\n",
              "      <td>North Rhine-Westphalia</td>\n",
              "      <td>2016-09-12</td>\n",
              "      <td>0</td>\n",
              "      <td>7</td>\n",
              "    </tr>\n",
              "  </tbody>\n",
              "</table>\n",
              "<p>9318 rows × 15 columns</p>\n",
              "</div>"
            ],
            "text/plain": [
              "       order_item_id order_date delivery_date  ...  user_reg_date return difference\n",
              "1                  2 2016-06-22    2016-06-29  ...     2016-06-23      0          7\n",
              "55                56 2016-06-23    2016-06-30  ...     2016-01-21      0          7\n",
              "63                64 2016-06-23    2016-06-30  ...     2015-02-17      0          7\n",
              "64                65 2016-06-23    2016-06-30  ...     2015-02-17      0          7\n",
              "65                66 2016-06-23    2016-06-30  ...     2015-02-17      0          7\n",
              "...              ...        ...           ...  ...            ...    ...        ...\n",
              "99952          99953 2016-09-11    2016-09-18  ...     2016-09-12      0          7\n",
              "99953          99954 2016-09-11    2016-09-18  ...     2016-09-12      0          7\n",
              "99954          99955 2016-09-11    2016-09-18  ...     2016-09-12      0          7\n",
              "99961          99962 2016-09-11    2016-09-18  ...     2016-09-12      0          7\n",
              "99962          99963 2016-09-11    2016-09-18  ...     2016-09-12      0          7\n",
              "\n",
              "[9318 rows x 15 columns]"
            ]
          },
          "metadata": {
            "tags": []
          },
          "execution_count": 14
        }
      ]
    },
    {
      "cell_type": "markdown",
      "metadata": {
        "id": "yz3gKyO-CXnk"
      },
      "source": [
        "The updated variables are added back to the varibles that seemed to be ok with the expectations. As we can see below, the only column left with NAs is the one denoting the users' dates of birth."
      ]
    },
    {
      "cell_type": "code",
      "metadata": {
        "colab": {
          "base_uri": "https://localhost:8080/"
        },
        "id": "7Zxds3EnKeBs",
        "outputId": "d332211a-4f72-424c-da0e-25339ae7f9ba"
      },
      "source": [
        "df=df.append(df_na)\n",
        "pd.isna(df).sum()"
      ],
      "execution_count": null,
      "outputs": [
        {
          "output_type": "execute_result",
          "data": {
            "text/plain": [
              "order_item_id       0\n",
              "order_date          0\n",
              "delivery_date       0\n",
              "item_id             0\n",
              "item_size           0\n",
              "item_color          0\n",
              "brand_id            0\n",
              "item_price          0\n",
              "user_id             0\n",
              "user_title          0\n",
              "user_dob         8725\n",
              "user_state          0\n",
              "user_reg_date       0\n",
              "return              0\n",
              "difference          0\n",
              "dtype: int64"
            ]
          },
          "metadata": {
            "tags": []
          },
          "execution_count": 15
        }
      ]
    },
    {
      "cell_type": "markdown",
      "metadata": {
        "id": "nQan3P2ZC1Ax"
      },
      "source": [
        "Let us change the column name to a more suitable one."
      ]
    },
    {
      "cell_type": "code",
      "metadata": {
        "id": "DfmxU4b5QMwL"
      },
      "source": [
        "df[\"Time of delivery\"]=df[\"difference\"]\n"
      ],
      "execution_count": null,
      "outputs": []
    },
    {
      "cell_type": "markdown",
      "metadata": {
        "id": "6mLhDdFRDG88"
      },
      "source": [
        "### Age\n",
        "\n",
        "Next, I will calculate users age at the time of delivery. There are several NA observations. NAs and negative numbers are to be substituted by the mean. The number of days is found, which is later divided by the mean Gregorian year of 365.2425 days."
      ]
    },
    {
      "cell_type": "code",
      "metadata": {
        "colab": {
          "base_uri": "https://localhost:8080/"
        },
        "id": "Htq_wq_1L_fn",
        "outputId": "bc62fbb0-1233-48ff-bae7-42e4e00ad8ad"
      },
      "source": [
        "df['user_dob'] = pd.to_datetime(df['user_dob'], format='%Y-%m-%d')\n",
        "\n",
        "df[\"difference\"]=df[\"order_date\"]-df[\"user_dob\"]\n",
        "\n",
        "df_na = df[df['difference'].isna()]\n",
        "df = df[df['difference'].notna()]\n",
        "\n",
        "df['difference'] = df['difference'].dt.days.astype('int32')\n",
        "\n",
        "mean_age = df.loc[df['difference']>0, 'difference'].mean()\n",
        "x=int(mean_age)\n",
        "\n",
        "# the difference is in days and is to be divided by the mean Gregorian year to find the approximate\n",
        "# age of the customers' at the of the delivery\n",
        "mean_age\n"
      ],
      "execution_count": null,
      "outputs": [
        {
          "output_type": "execute_result",
          "data": {
            "text/plain": [
              "19106.913503149823"
            ]
          },
          "metadata": {
            "tags": []
          },
          "execution_count": 17
        }
      ]
    },
    {
      "cell_type": "code",
      "metadata": {
        "colab": {
          "base_uri": "https://localhost:8080/",
          "height": 557
        },
        "id": "n_kKaapSOZ2t",
        "outputId": "a1a0e56c-3e7a-4152-dc79-ac4ba099c79b"
      },
      "source": [
        "# substitute NAs and negative numbers with the mean and divide the Age column by the Gregorian year\n",
        "df=df.append(df_na)\n",
        "df['difference'] = df['difference'].fillna(mean_age)\n",
        "df.loc[df['difference']<0, 'difference']=mean_age\n",
        "df[\"Age\"]=df['difference']/365.2425\n",
        "\n",
        "# convert the timedelta to integer\n",
        "df[\"Age\"]=df[\"Age\"].astype(\"int32\")\n",
        "del df[\"difference\"]\n",
        "df"
      ],
      "execution_count": null,
      "outputs": [
        {
          "output_type": "execute_result",
          "data": {
            "text/html": [
              "<div>\n",
              "<style scoped>\n",
              "    .dataframe tbody tr th:only-of-type {\n",
              "        vertical-align: middle;\n",
              "    }\n",
              "\n",
              "    .dataframe tbody tr th {\n",
              "        vertical-align: top;\n",
              "    }\n",
              "\n",
              "    .dataframe thead th {\n",
              "        text-align: right;\n",
              "    }\n",
              "</style>\n",
              "<table border=\"1\" class=\"dataframe\">\n",
              "  <thead>\n",
              "    <tr style=\"text-align: right;\">\n",
              "      <th></th>\n",
              "      <th>order_item_id</th>\n",
              "      <th>order_date</th>\n",
              "      <th>delivery_date</th>\n",
              "      <th>item_id</th>\n",
              "      <th>item_size</th>\n",
              "      <th>item_color</th>\n",
              "      <th>brand_id</th>\n",
              "      <th>item_price</th>\n",
              "      <th>user_id</th>\n",
              "      <th>user_title</th>\n",
              "      <th>user_dob</th>\n",
              "      <th>user_state</th>\n",
              "      <th>user_reg_date</th>\n",
              "      <th>return</th>\n",
              "      <th>Time of delivery</th>\n",
              "      <th>Age</th>\n",
              "    </tr>\n",
              "  </thead>\n",
              "  <tbody>\n",
              "    <tr>\n",
              "      <th>0</th>\n",
              "      <td>1</td>\n",
              "      <td>2016-06-22</td>\n",
              "      <td>2016-06-27</td>\n",
              "      <td>643</td>\n",
              "      <td>38</td>\n",
              "      <td>navy</td>\n",
              "      <td>30</td>\n",
              "      <td>49.90</td>\n",
              "      <td>30822</td>\n",
              "      <td>Mrs</td>\n",
              "      <td>1969-04-17</td>\n",
              "      <td>Saxony</td>\n",
              "      <td>2016-06-23</td>\n",
              "      <td>0</td>\n",
              "      <td>5</td>\n",
              "      <td>47</td>\n",
              "    </tr>\n",
              "    <tr>\n",
              "      <th>2</th>\n",
              "      <td>3</td>\n",
              "      <td>2016-06-22</td>\n",
              "      <td>2016-06-27</td>\n",
              "      <td>270</td>\n",
              "      <td>xxl</td>\n",
              "      <td>grey</td>\n",
              "      <td>49</td>\n",
              "      <td>79.90</td>\n",
              "      <td>30823</td>\n",
              "      <td>Mrs</td>\n",
              "      <td>1970-04-22</td>\n",
              "      <td>Baden-Wuerttemberg</td>\n",
              "      <td>2015-03-15</td>\n",
              "      <td>1</td>\n",
              "      <td>5</td>\n",
              "      <td>46</td>\n",
              "    </tr>\n",
              "    <tr>\n",
              "      <th>3</th>\n",
              "      <td>4</td>\n",
              "      <td>2016-06-22</td>\n",
              "      <td>2016-06-27</td>\n",
              "      <td>142</td>\n",
              "      <td>xxl</td>\n",
              "      <td>grey</td>\n",
              "      <td>49</td>\n",
              "      <td>99.90</td>\n",
              "      <td>30823</td>\n",
              "      <td>Mrs</td>\n",
              "      <td>1970-04-22</td>\n",
              "      <td>Baden-Wuerttemberg</td>\n",
              "      <td>2015-03-15</td>\n",
              "      <td>0</td>\n",
              "      <td>5</td>\n",
              "      <td>46</td>\n",
              "    </tr>\n",
              "    <tr>\n",
              "      <th>4</th>\n",
              "      <td>5</td>\n",
              "      <td>2016-06-22</td>\n",
              "      <td>2016-06-27</td>\n",
              "      <td>561</td>\n",
              "      <td>xxl</td>\n",
              "      <td>grey</td>\n",
              "      <td>3</td>\n",
              "      <td>14.90</td>\n",
              "      <td>30823</td>\n",
              "      <td>Mrs</td>\n",
              "      <td>1970-04-22</td>\n",
              "      <td>Baden-Wuerttemberg</td>\n",
              "      <td>2015-03-15</td>\n",
              "      <td>1</td>\n",
              "      <td>5</td>\n",
              "      <td>46</td>\n",
              "    </tr>\n",
              "    <tr>\n",
              "      <th>5</th>\n",
              "      <td>6</td>\n",
              "      <td>2016-06-22</td>\n",
              "      <td>2016-06-27</td>\n",
              "      <td>579</td>\n",
              "      <td>xxl</td>\n",
              "      <td>grey</td>\n",
              "      <td>3</td>\n",
              "      <td>19.90</td>\n",
              "      <td>30823</td>\n",
              "      <td>Mrs</td>\n",
              "      <td>1970-04-22</td>\n",
              "      <td>Baden-Wuerttemberg</td>\n",
              "      <td>2015-03-15</td>\n",
              "      <td>1</td>\n",
              "      <td>5</td>\n",
              "      <td>46</td>\n",
              "    </tr>\n",
              "    <tr>\n",
              "      <th>...</th>\n",
              "      <td>...</td>\n",
              "      <td>...</td>\n",
              "      <td>...</td>\n",
              "      <td>...</td>\n",
              "      <td>...</td>\n",
              "      <td>...</td>\n",
              "      <td>...</td>\n",
              "      <td>...</td>\n",
              "      <td>...</td>\n",
              "      <td>...</td>\n",
              "      <td>...</td>\n",
              "      <td>...</td>\n",
              "      <td>...</td>\n",
              "      <td>...</td>\n",
              "      <td>...</td>\n",
              "      <td>...</td>\n",
              "    </tr>\n",
              "    <tr>\n",
              "      <th>99399</th>\n",
              "      <td>99400</td>\n",
              "      <td>2016-09-10</td>\n",
              "      <td>2016-09-17</td>\n",
              "      <td>1937</td>\n",
              "      <td>9+</td>\n",
              "      <td>anthracite</td>\n",
              "      <td>21</td>\n",
              "      <td>109.95</td>\n",
              "      <td>31140</td>\n",
              "      <td>Mrs</td>\n",
              "      <td>NaT</td>\n",
              "      <td>Brandenburg</td>\n",
              "      <td>2016-06-25</td>\n",
              "      <td>0</td>\n",
              "      <td>7</td>\n",
              "      <td>52</td>\n",
              "    </tr>\n",
              "    <tr>\n",
              "      <th>99400</th>\n",
              "      <td>99401</td>\n",
              "      <td>2016-09-10</td>\n",
              "      <td>2016-09-17</td>\n",
              "      <td>1568</td>\n",
              "      <td>37</td>\n",
              "      <td>red</td>\n",
              "      <td>23</td>\n",
              "      <td>149.90</td>\n",
              "      <td>31140</td>\n",
              "      <td>Mrs</td>\n",
              "      <td>NaT</td>\n",
              "      <td>Brandenburg</td>\n",
              "      <td>2016-06-25</td>\n",
              "      <td>0</td>\n",
              "      <td>7</td>\n",
              "      <td>52</td>\n",
              "    </tr>\n",
              "    <tr>\n",
              "      <th>99401</th>\n",
              "      <td>99402</td>\n",
              "      <td>2016-09-10</td>\n",
              "      <td>2016-09-17</td>\n",
              "      <td>1568</td>\n",
              "      <td>38</td>\n",
              "      <td>red</td>\n",
              "      <td>23</td>\n",
              "      <td>149.90</td>\n",
              "      <td>31140</td>\n",
              "      <td>Mrs</td>\n",
              "      <td>NaT</td>\n",
              "      <td>Brandenburg</td>\n",
              "      <td>2016-06-25</td>\n",
              "      <td>0</td>\n",
              "      <td>7</td>\n",
              "      <td>52</td>\n",
              "    </tr>\n",
              "    <tr>\n",
              "      <th>99681</th>\n",
              "      <td>99682</td>\n",
              "      <td>2016-09-10</td>\n",
              "      <td>2016-09-17</td>\n",
              "      <td>105</td>\n",
              "      <td>41</td>\n",
              "      <td>grey</td>\n",
              "      <td>45</td>\n",
              "      <td>69.90</td>\n",
              "      <td>48181</td>\n",
              "      <td>Mrs</td>\n",
              "      <td>NaT</td>\n",
              "      <td>Hamburg</td>\n",
              "      <td>2016-09-11</td>\n",
              "      <td>0</td>\n",
              "      <td>7</td>\n",
              "      <td>52</td>\n",
              "    </tr>\n",
              "    <tr>\n",
              "      <th>99701</th>\n",
              "      <td>99702</td>\n",
              "      <td>2016-09-10</td>\n",
              "      <td>2016-09-17</td>\n",
              "      <td>100</td>\n",
              "      <td>38</td>\n",
              "      <td>red</td>\n",
              "      <td>43</td>\n",
              "      <td>69.90</td>\n",
              "      <td>48184</td>\n",
              "      <td>Mrs</td>\n",
              "      <td>NaT</td>\n",
              "      <td>North Rhine-Westphalia</td>\n",
              "      <td>2016-09-11</td>\n",
              "      <td>0</td>\n",
              "      <td>7</td>\n",
              "      <td>52</td>\n",
              "    </tr>\n",
              "  </tbody>\n",
              "</table>\n",
              "<p>100000 rows × 16 columns</p>\n",
              "</div>"
            ],
            "text/plain": [
              "       order_item_id order_date delivery_date  ...  return Time of delivery Age\n",
              "0                  1 2016-06-22    2016-06-27  ...       0                5  47\n",
              "2                  3 2016-06-22    2016-06-27  ...       1                5  46\n",
              "3                  4 2016-06-22    2016-06-27  ...       0                5  46\n",
              "4                  5 2016-06-22    2016-06-27  ...       1                5  46\n",
              "5                  6 2016-06-22    2016-06-27  ...       1                5  46\n",
              "...              ...        ...           ...  ...     ...              ...  ..\n",
              "99399          99400 2016-09-10    2016-09-17  ...       0                7  52\n",
              "99400          99401 2016-09-10    2016-09-17  ...       0                7  52\n",
              "99401          99402 2016-09-10    2016-09-17  ...       0                7  52\n",
              "99681          99682 2016-09-10    2016-09-17  ...       0                7  52\n",
              "99701          99702 2016-09-10    2016-09-17  ...       0                7  52\n",
              "\n",
              "[100000 rows x 16 columns]"
            ]
          },
          "metadata": {
            "tags": []
          },
          "execution_count": 18
        }
      ]
    },
    {
      "cell_type": "markdown",
      "metadata": {
        "id": "qe6GO-BQGs5f"
      },
      "source": [
        "It seems like there is a possible oulier, where the child of the of 4 is pointed out as the user. However, the number of observations is small and the overall Age group is within reasonable limits."
      ]
    },
    {
      "cell_type": "code",
      "metadata": {
        "colab": {
          "base_uri": "https://localhost:8080/"
        },
        "id": "yu0EHBuYWnlp",
        "outputId": "87ee6c3b-3e58-44ba-c415-fd9c82a4e1e1"
      },
      "source": [
        "df['Age'].value_counts()"
      ],
      "execution_count": null,
      "outputs": [
        {
          "output_type": "execute_result",
          "data": {
            "text/plain": [
              "52     13241\n",
              "48      4462\n",
              "49      4391\n",
              "50      4391\n",
              "53      4339\n",
              "       ...  \n",
              "4          3\n",
              "86         2\n",
              "19         1\n",
              "103        1\n",
              "113        1\n",
              "Name: Age, Length: 82, dtype: int64"
            ]
          },
          "metadata": {
            "tags": []
          },
          "execution_count": 19
        }
      ]
    },
    {
      "cell_type": "code",
      "metadata": {
        "colab": {
          "base_uri": "https://localhost:8080/"
        },
        "id": "jT42oXs7HECQ",
        "outputId": "b82fbb0a-693d-4d67-8a06-acd073fd321b"
      },
      "source": [
        "print(df['Age'].min(), df['Age'].max(), sep=\"\\n\\n\")"
      ],
      "execution_count": null,
      "outputs": [
        {
          "output_type": "stream",
          "text": [
            "4\n",
            "\n",
            "115\n"
          ],
          "name": "stdout"
        }
      ]
    },
    {
      "cell_type": "markdown",
      "metadata": {
        "id": "WvcOhbrUHzwV"
      },
      "source": [
        "### Number of days registered and coversion to appropriate types\n",
        "\n",
        "Let us next calculate in the same manner the number of months the user was registered with the shop. This may be useful as it shows how long the user might have used the shop's services. My reasoning is that this may be related to a higher level of loyalty, thus prompting a loyal user not to return the item and vice versa."
      ]
    },
    {
      "cell_type": "code",
      "metadata": {
        "id": "4C2jFO2bh6Mz"
      },
      "source": [
        "df['user_reg_date'] = pd.to_datetime(df['user_reg_date'], format='%Y-%m-%d')\n",
        "\n",
        "df[\"difference\"]=df[\"order_date\"]-df[\"user_reg_date\"]\n",
        "\n",
        "df['difference'] = df['difference'].dt.days.astype('int32')\n",
        "\n",
        "# the number of days is divided by 30 days to find the total number of months during which the user was registered\n",
        "df[\"Months registered\"]=df['difference']/30\n",
        "df[\"Months registered\"]=df[\"Months registered\"].astype(\"int32\")\n",
        "del df[\"difference\"]\n"
      ],
      "execution_count": null,
      "outputs": []
    },
    {
      "cell_type": "markdown",
      "metadata": {
        "id": "Fi9kDGVTJceN"
      },
      "source": [
        "Let us then convert the variables to the most appropriate categories."
      ]
    },
    {
      "cell_type": "code",
      "metadata": {
        "id": "8mX0vPRfrcG2"
      },
      "source": [
        "df['item_color']=df['item_color'].astype(\"category\")\n",
        "df['user_state']=df['user_state'].astype(\"category\")\n",
        "df['user_title']=df['user_title'].astype(\"category\")\n",
        "df['return'] = df['return'].astype('bool')\n",
        "num_vars = df.select_dtypes(include=\"int64\").columns\n",
        "df[num_vars] = df[num_vars].astype(\"int32\")\n",
        "df[\"item_price\"]=df[\"item_price\"].astype(\"float32\")"
      ],
      "execution_count": null,
      "outputs": []
    },
    {
      "cell_type": "markdown",
      "metadata": {
        "id": "KhhTfL4TJrrx"
      },
      "source": [
        "And delete the unnecessary one."
      ]
    },
    {
      "cell_type": "code",
      "metadata": {
        "id": "k1ik9QVnOfGB"
      },
      "source": [
        "del df[\"user_dob\"]"
      ],
      "execution_count": null,
      "outputs": []
    },
    {
      "cell_type": "markdown",
      "metadata": {
        "id": "HjTn6iOuJ0IH"
      },
      "source": [
        "As we can see all the NAs were filled out. However, the is one more variable that needs to be cleaned, it being the size of an item."
      ]
    },
    {
      "cell_type": "code",
      "metadata": {
        "colab": {
          "base_uri": "https://localhost:8080/"
        },
        "id": "T_Knj5S-TcYm",
        "outputId": "b6f96623-265c-4165-8e61-276ed96eabcc"
      },
      "source": [
        "df.info()"
      ],
      "execution_count": null,
      "outputs": [
        {
          "output_type": "stream",
          "text": [
            "<class 'pandas.core.frame.DataFrame'>\n",
            "Int64Index: 100000 entries, 0 to 99701\n",
            "Data columns (total 16 columns):\n",
            " #   Column             Non-Null Count   Dtype         \n",
            "---  ------             --------------   -----         \n",
            " 0   order_item_id      100000 non-null  int32         \n",
            " 1   order_date         100000 non-null  datetime64[ns]\n",
            " 2   delivery_date      100000 non-null  datetime64[ns]\n",
            " 3   item_id            100000 non-null  int32         \n",
            " 4   item_size          100000 non-null  object        \n",
            " 5   item_color         100000 non-null  category      \n",
            " 6   brand_id           100000 non-null  int32         \n",
            " 7   item_price         100000 non-null  float32       \n",
            " 8   user_id            100000 non-null  int32         \n",
            " 9   user_title         100000 non-null  category      \n",
            " 10  user_state         100000 non-null  category      \n",
            " 11  user_reg_date      100000 non-null  datetime64[ns]\n",
            " 12  return             100000 non-null  bool          \n",
            " 13  Time of delivery   100000 non-null  int32         \n",
            " 14  Age                100000 non-null  int32         \n",
            " 15  Months registered  100000 non-null  int32         \n",
            "dtypes: bool(1), category(3), datetime64[ns](3), float32(1), int32(7), object(1)\n",
            "memory usage: 7.3+ MB\n"
          ],
          "name": "stdout"
        }
      ]
    },
    {
      "cell_type": "markdown",
      "metadata": {
        "id": "2EmtVeVIcdxo"
      },
      "source": [
        "### Size"
      ]
    },
    {
      "cell_type": "code",
      "metadata": {
        "colab": {
          "base_uri": "https://localhost:8080/"
        },
        "id": "IJPQH9GURN8h",
        "outputId": "12ada33c-b001-4b3f-b5e4-78c82a414e0f"
      },
      "source": [
        "# as we can see the size column is a mix of categorical and numerical entries, as well as some numbers with a plus\n",
        "df['item_size'].value_counts()"
      ],
      "execution_count": null,
      "outputs": [
        {
          "output_type": "execute_result",
          "data": {
            "text/plain": [
              "l       12347\n",
              "xl      10979\n",
              "m       10190\n",
              "xxl      8966\n",
              "40       7693\n",
              "        ...  \n",
              "84          1\n",
              "12+         1\n",
              "105         1\n",
              "3132        1\n",
              "49          1\n",
              "Name: item_size, Length: 102, dtype: int64"
            ]
          },
          "metadata": {
            "tags": []
          },
          "execution_count": 25
        }
      ]
    },
    {
      "cell_type": "markdown",
      "metadata": {
        "id": "WFXWO8NKKw_P"
      },
      "source": [
        "Let us split the dataset subject to the size being shown categorically or numerically via using some regular expressions."
      ]
    },
    {
      "cell_type": "code",
      "metadata": {
        "colab": {
          "base_uri": "https://localhost:8080/"
        },
        "id": "ALNIAZeztfEk",
        "outputId": "01adb9bb-87d6-41d7-e91f-d5d14a2e35e9"
      },
      "source": [
        "# creating a subset with categorical values only\n",
        "df_with_string_sizes=df[df[\"item_size\"].str.contains('[a-z]', regex=True)]\n",
        "df_with_string_sizes['item_size'].value_counts()"
      ],
      "execution_count": null,
      "outputs": [
        {
          "output_type": "execute_result",
          "data": {
            "text/plain": [
              "l          12347\n",
              "xl         10979\n",
              "m          10190\n",
              "xxl         8966\n",
              "unsized     5223\n",
              "s           3949\n",
              "xxxl          86\n",
              "xs            35\n",
              "Name: item_size, dtype: int64"
            ]
          },
          "metadata": {
            "tags": []
          },
          "execution_count": 26
        }
      ]
    },
    {
      "cell_type": "code",
      "metadata": {
        "colab": {
          "base_uri": "https://localhost:8080/"
        },
        "id": "jtPP8OU0vbZ_",
        "outputId": "644d0598-0de8-4372-a84a-f1784bebc246"
      },
      "source": [
        "# creating a subset with string values only\n",
        "df_with_numerical_sizes=df[df[\"item_size\"].str.contains('[0-9]', regex=True)]\n",
        "print(df_with_numerical_sizes['item_size'].value_counts().sum())\n",
        "print(df_with_numerical_sizes[\"item_size\"].max())"
      ],
      "execution_count": null,
      "outputs": [
        {
          "output_type": "stream",
          "text": [
            "48225\n",
            "90\n"
          ],
          "name": "stdout"
        }
      ]
    },
    {
      "cell_type": "code",
      "metadata": {
        "colab": {
          "base_uri": "https://localhost:8080/",
          "height": 574
        },
        "id": "vvgoiPli8Gmg",
        "outputId": "85685043-99c1-4a4b-db44-021f09c9710c"
      },
      "source": [
        "# is is also appropriate to subset the numerical set into the one that contains + and the one that does not\n",
        "dfplus=df_with_numerical_sizes[df_with_numerical_sizes[\"item_size\"].str.contains('\\\\+', regex=True)]\n",
        "dfplus"
      ],
      "execution_count": null,
      "outputs": [
        {
          "output_type": "execute_result",
          "data": {
            "text/html": [
              "<div>\n",
              "<style scoped>\n",
              "    .dataframe tbody tr th:only-of-type {\n",
              "        vertical-align: middle;\n",
              "    }\n",
              "\n",
              "    .dataframe tbody tr th {\n",
              "        vertical-align: top;\n",
              "    }\n",
              "\n",
              "    .dataframe thead th {\n",
              "        text-align: right;\n",
              "    }\n",
              "</style>\n",
              "<table border=\"1\" class=\"dataframe\">\n",
              "  <thead>\n",
              "    <tr style=\"text-align: right;\">\n",
              "      <th></th>\n",
              "      <th>order_item_id</th>\n",
              "      <th>order_date</th>\n",
              "      <th>delivery_date</th>\n",
              "      <th>item_id</th>\n",
              "      <th>item_size</th>\n",
              "      <th>item_color</th>\n",
              "      <th>brand_id</th>\n",
              "      <th>item_price</th>\n",
              "      <th>user_id</th>\n",
              "      <th>user_title</th>\n",
              "      <th>user_state</th>\n",
              "      <th>user_reg_date</th>\n",
              "      <th>return</th>\n",
              "      <th>Time of delivery</th>\n",
              "      <th>Age</th>\n",
              "      <th>Months registered</th>\n",
              "    </tr>\n",
              "  </thead>\n",
              "  <tbody>\n",
              "    <tr>\n",
              "      <th>23</th>\n",
              "      <td>24</td>\n",
              "      <td>2016-06-23</td>\n",
              "      <td>2016-06-26</td>\n",
              "      <td>1378</td>\n",
              "      <td>8+</td>\n",
              "      <td>black</td>\n",
              "      <td>17</td>\n",
              "      <td>99.900002</td>\n",
              "      <td>9392</td>\n",
              "      <td>Mrs</td>\n",
              "      <td>North Rhine-Westphalia</td>\n",
              "      <td>2016-03-24</td>\n",
              "      <td>True</td>\n",
              "      <td>3</td>\n",
              "      <td>54</td>\n",
              "      <td>3</td>\n",
              "    </tr>\n",
              "    <tr>\n",
              "      <th>39</th>\n",
              "      <td>40</td>\n",
              "      <td>2016-06-23</td>\n",
              "      <td>2016-06-26</td>\n",
              "      <td>780</td>\n",
              "      <td>40+</td>\n",
              "      <td>brown</td>\n",
              "      <td>1</td>\n",
              "      <td>99.900002</td>\n",
              "      <td>30826</td>\n",
              "      <td>Mrs</td>\n",
              "      <td>Baden-Wuerttemberg</td>\n",
              "      <td>2015-02-17</td>\n",
              "      <td>True</td>\n",
              "      <td>3</td>\n",
              "      <td>52</td>\n",
              "      <td>16</td>\n",
              "    </tr>\n",
              "    <tr>\n",
              "      <th>60</th>\n",
              "      <td>61</td>\n",
              "      <td>2016-06-23</td>\n",
              "      <td>2016-06-26</td>\n",
              "      <td>484</td>\n",
              "      <td>6+</td>\n",
              "      <td>ecru</td>\n",
              "      <td>19</td>\n",
              "      <td>59.900002</td>\n",
              "      <td>22948</td>\n",
              "      <td>Mrs</td>\n",
              "      <td>Baden-Wuerttemberg</td>\n",
              "      <td>2015-02-17</td>\n",
              "      <td>True</td>\n",
              "      <td>3</td>\n",
              "      <td>59</td>\n",
              "      <td>16</td>\n",
              "    </tr>\n",
              "    <tr>\n",
              "      <th>116</th>\n",
              "      <td>117</td>\n",
              "      <td>2016-06-23</td>\n",
              "      <td>2016-06-27</td>\n",
              "      <td>126</td>\n",
              "      <td>6+</td>\n",
              "      <td>black</td>\n",
              "      <td>21</td>\n",
              "      <td>79.949997</td>\n",
              "      <td>30837</td>\n",
              "      <td>Mrs</td>\n",
              "      <td>Bavaria</td>\n",
              "      <td>2016-06-24</td>\n",
              "      <td>True</td>\n",
              "      <td>4</td>\n",
              "      <td>53</td>\n",
              "      <td>0</td>\n",
              "    </tr>\n",
              "    <tr>\n",
              "      <th>160</th>\n",
              "      <td>161</td>\n",
              "      <td>2016-06-23</td>\n",
              "      <td>2016-06-26</td>\n",
              "      <td>27</td>\n",
              "      <td>7+</td>\n",
              "      <td>black</td>\n",
              "      <td>19</td>\n",
              "      <td>39.900002</td>\n",
              "      <td>22533</td>\n",
              "      <td>Mrs</td>\n",
              "      <td>Schleswig-Holstein</td>\n",
              "      <td>2015-08-08</td>\n",
              "      <td>True</td>\n",
              "      <td>3</td>\n",
              "      <td>65</td>\n",
              "      <td>10</td>\n",
              "    </tr>\n",
              "    <tr>\n",
              "      <th>...</th>\n",
              "      <td>...</td>\n",
              "      <td>...</td>\n",
              "      <td>...</td>\n",
              "      <td>...</td>\n",
              "      <td>...</td>\n",
              "      <td>...</td>\n",
              "      <td>...</td>\n",
              "      <td>...</td>\n",
              "      <td>...</td>\n",
              "      <td>...</td>\n",
              "      <td>...</td>\n",
              "      <td>...</td>\n",
              "      <td>...</td>\n",
              "      <td>...</td>\n",
              "      <td>...</td>\n",
              "      <td>...</td>\n",
              "    </tr>\n",
              "    <tr>\n",
              "      <th>48332</th>\n",
              "      <td>48333</td>\n",
              "      <td>2016-08-02</td>\n",
              "      <td>2016-08-09</td>\n",
              "      <td>1694</td>\n",
              "      <td>5+</td>\n",
              "      <td>black</td>\n",
              "      <td>12</td>\n",
              "      <td>130.000000</td>\n",
              "      <td>38899</td>\n",
              "      <td>Mrs</td>\n",
              "      <td>Schleswig-Holstein</td>\n",
              "      <td>2016-01-16</td>\n",
              "      <td>False</td>\n",
              "      <td>7</td>\n",
              "      <td>52</td>\n",
              "      <td>6</td>\n",
              "    </tr>\n",
              "    <tr>\n",
              "      <th>59206</th>\n",
              "      <td>59207</td>\n",
              "      <td>2016-08-08</td>\n",
              "      <td>2016-08-15</td>\n",
              "      <td>706</td>\n",
              "      <td>9+</td>\n",
              "      <td>black</td>\n",
              "      <td>19</td>\n",
              "      <td>69.900002</td>\n",
              "      <td>40961</td>\n",
              "      <td>Mr</td>\n",
              "      <td>Baden-Wuerttemberg</td>\n",
              "      <td>2016-08-09</td>\n",
              "      <td>False</td>\n",
              "      <td>7</td>\n",
              "      <td>52</td>\n",
              "      <td>0</td>\n",
              "    </tr>\n",
              "    <tr>\n",
              "      <th>62980</th>\n",
              "      <td>62981</td>\n",
              "      <td>2016-08-10</td>\n",
              "      <td>2016-08-17</td>\n",
              "      <td>1688</td>\n",
              "      <td>40+</td>\n",
              "      <td>blue</td>\n",
              "      <td>1</td>\n",
              "      <td>139.899994</td>\n",
              "      <td>40439</td>\n",
              "      <td>Mrs</td>\n",
              "      <td>Hesse</td>\n",
              "      <td>2016-03-21</td>\n",
              "      <td>False</td>\n",
              "      <td>7</td>\n",
              "      <td>52</td>\n",
              "      <td>4</td>\n",
              "    </tr>\n",
              "    <tr>\n",
              "      <th>85739</th>\n",
              "      <td>85740</td>\n",
              "      <td>2016-08-29</td>\n",
              "      <td>2016-09-05</td>\n",
              "      <td>1747</td>\n",
              "      <td>38+</td>\n",
              "      <td>brown</td>\n",
              "      <td>1</td>\n",
              "      <td>144.899994</td>\n",
              "      <td>24978</td>\n",
              "      <td>Mrs</td>\n",
              "      <td>North Rhine-Westphalia</td>\n",
              "      <td>2015-02-17</td>\n",
              "      <td>False</td>\n",
              "      <td>7</td>\n",
              "      <td>52</td>\n",
              "      <td>18</td>\n",
              "    </tr>\n",
              "    <tr>\n",
              "      <th>99399</th>\n",
              "      <td>99400</td>\n",
              "      <td>2016-09-10</td>\n",
              "      <td>2016-09-17</td>\n",
              "      <td>1937</td>\n",
              "      <td>9+</td>\n",
              "      <td>anthracite</td>\n",
              "      <td>21</td>\n",
              "      <td>109.949997</td>\n",
              "      <td>31140</td>\n",
              "      <td>Mrs</td>\n",
              "      <td>Brandenburg</td>\n",
              "      <td>2016-06-25</td>\n",
              "      <td>False</td>\n",
              "      <td>7</td>\n",
              "      <td>52</td>\n",
              "      <td>2</td>\n",
              "    </tr>\n",
              "  </tbody>\n",
              "</table>\n",
              "<p>2695 rows × 16 columns</p>\n",
              "</div>"
            ],
            "text/plain": [
              "       order_item_id order_date  ... Age  Months registered\n",
              "23                24 2016-06-23  ...  54                  3\n",
              "39                40 2016-06-23  ...  52                 16\n",
              "60                61 2016-06-23  ...  59                 16\n",
              "116              117 2016-06-23  ...  53                  0\n",
              "160              161 2016-06-23  ...  65                 10\n",
              "...              ...        ...  ...  ..                ...\n",
              "48332          48333 2016-08-02  ...  52                  6\n",
              "59206          59207 2016-08-08  ...  52                  0\n",
              "62980          62981 2016-08-10  ...  52                  4\n",
              "85739          85740 2016-08-29  ...  52                 18\n",
              "99399          99400 2016-09-10  ...  52                  2\n",
              "\n",
              "[2695 rows x 16 columns]"
            ]
          },
          "metadata": {
            "tags": []
          },
          "execution_count": 28
        }
      ]
    },
    {
      "cell_type": "code",
      "metadata": {
        "colab": {
          "base_uri": "https://localhost:8080/",
          "height": 283
        },
        "id": "oADrsLxx9bIL",
        "outputId": "bf07688b-b3ba-49fe-9e8a-46338252db7e"
      },
      "source": [
        "# drop the items with + sizes from the main numerical subset\n",
        "df_with_numerical_sizes = df_with_numerical_sizes[~df_with_numerical_sizes.order_item_id.isin(dfplus.order_item_id)]\n",
        "\n",
        "# convert numerical sizes to the integer type\n",
        "df_with_numerical_sizes[\"item_size\"]=df_with_numerical_sizes[\"item_size\"].astype(\"int32\")\n",
        "\n",
        "# create a boxplot for the numerical varibles to check the distribution\n",
        "df_with_numerical_sizes.boxplot([\"item_size\"])"
      ],
      "execution_count": null,
      "outputs": [
        {
          "output_type": "execute_result",
          "data": {
            "text/plain": [
              "<matplotlib.axes._subplots.AxesSubplot at 0x7ff6cd99c950>"
            ]
          },
          "metadata": {
            "tags": []
          },
          "execution_count": 29
        },
        {
          "output_type": "display_data",
          "data": {
            "image/png": "[encoded data removed]",
            "text/plain": [
              "<Figure size 432x288 with 1 Axes>"
            ]
          },
          "metadata": {
            "tags": [],
            "needs_background": "light"
          }
        }
      ]
    },
    {
      "cell_type": "code",
      "metadata": {
        "colab": {
          "base_uri": "https://localhost:8080/"
        },
        "id": "HpcpD90wB43R",
        "outputId": "7e92a334-1b78-4baa-d3da-77b47fbaec95"
      },
      "source": [
        "df_with_numerical_sizes.loc[df_with_numerical_sizes[\"item_size\"]>200, [\"item_size\"]].count()"
      ],
      "execution_count": null,
      "outputs": [
        {
          "output_type": "execute_result",
          "data": {
            "text/plain": [
              "item_size    93\n",
              "dtype: int64"
            ]
          },
          "metadata": {
            "tags": []
          },
          "execution_count": 30
        }
      ]
    },
    {
      "cell_type": "markdown",
      "metadata": {
        "id": "OzTQYpJUeowL"
      },
      "source": [
        "As we can see above, the remaining numerical have some outiers that lie in the area of 4-digits, however their number is relatively small, cinstituting only 93 items out of 100,000, thus it may be more convenient to substitute it with the most convenient string size \"l\"."
      ]
    },
    {
      "cell_type": "code",
      "metadata": {
        "id": "AKqWTz_zDhmG"
      },
      "source": [
        "# subsetting sizes over the reasonable threshold of 200, as determined by the distribution of the boxplot\n",
        "oversized=df_with_numerical_sizes.loc[df_with_numerical_sizes[\"item_size\"]>200]\n",
        "\n",
        "# dropping the \"oversized\" subset from the main numerical subset\n",
        "df_with_numerical_sizes = df_with_numerical_sizes[~df_with_numerical_sizes.order_item_id.isin(oversized.order_item_id)]"
      ],
      "execution_count": null,
      "outputs": []
    },
    {
      "cell_type": "code",
      "metadata": {
        "id": "GP23B3--HKlu"
      },
      "source": [
        "# converting all the variables in the oversized subset to the \"l\" size\n",
        "oversized[\"item_size\"]=\"l\"\n",
        "\n",
        "# appending the converted subset to the string subset\n",
        "df_with_string_sizes=df_with_string_sizes.append(oversized)"
      ],
      "execution_count": null,
      "outputs": []
    },
    {
      "cell_type": "code",
      "metadata": {
        "colab": {
          "base_uri": "https://localhost:8080/",
          "height": 283
        },
        "id": "VTwbAbW4HjWC",
        "outputId": "60d01004-289a-4b22-8d6b-bd5506c7d0a4"
      },
      "source": [
        "# see that there are no remaining outliers\n",
        "df_with_numerical_sizes.boxplot([\"item_size\"])"
      ],
      "execution_count": null,
      "outputs": [
        {
          "output_type": "execute_result",
          "data": {
            "text/plain": [
              "<matplotlib.axes._subplots.AxesSubplot at 0x7ff6cd42ba50>"
            ]
          },
          "metadata": {
            "tags": []
          },
          "execution_count": 33
        },
        {
          "output_type": "display_data",
          "data": {
            "image/png": "[encoded data removed]",
            "text/plain": [
              "<Figure size 432x288 with 1 Axes>"
            ]
          },
          "metadata": {
            "tags": [],
            "needs_background": "light"
          }
        }
      ]
    },
    {
      "cell_type": "code",
      "metadata": {
        "colab": {
          "base_uri": "https://localhost:8080/"
        },
        "id": "qtxMEgXgSFIK",
        "outputId": "131e3675-3fdd-404f-f26d-3a919cb67969"
      },
      "source": [
        "# let us inspect the sizes with pluses\n",
        "dfplus[\"item_size\"].value_counts()"
      ],
      "execution_count": null,
      "outputs": [
        {
          "output_type": "execute_result",
          "data": {
            "text/plain": [
              "6+     436\n",
              "7+     328\n",
              "5+     253\n",
              "8+     247\n",
              "39+    211\n",
              "9+     191\n",
              "40+    187\n",
              "10+    175\n",
              "38+    160\n",
              "42+    123\n",
              "41+    106\n",
              "4+      93\n",
              "37+     75\n",
              "11+     23\n",
              "36+     22\n",
              "43+     17\n",
              "46+     14\n",
              "3+      13\n",
              "44+     10\n",
              "45+      8\n",
              "2+       2\n",
              "12+      1\n",
              "Name: item_size, dtype: int64"
            ]
          },
          "metadata": {
            "tags": []
          },
          "execution_count": 34
        }
      ]
    },
    {
      "cell_type": "markdown",
      "metadata": {
        "id": "s4nxJftfPZy-"
      },
      "source": [
        "Whereas, it is impossible to know, from my perspective, which of the items were sold (jeans, hats etc.) I will delete the pluses, so that the sizes with + could be read as fully numerical."
      ]
    },
    {
      "cell_type": "code",
      "metadata": {
        "colab": {
          "base_uri": "https://localhost:8080/",
          "height": 574
        },
        "id": "IL3kS3HvXbmj",
        "outputId": "bfb83d6b-170b-40ea-8bb4-be952a263dbc"
      },
      "source": [
        "# delete the pluses\n",
        "dfplus[\"item_size\"]=dfplus[\"item_size\"].str[:-1]\n",
        "\n",
        "# append the sizes with pluses to the main numerical size subset\n",
        "df_with_numerical_sizes=df_with_numerical_sizes.append(dfplus)\n",
        "\n",
        "df_with_numerical_sizes"
      ],
      "execution_count": null,
      "outputs": [
        {
          "output_type": "execute_result",
          "data": {
            "text/html": [
              "<div>\n",
              "<style scoped>\n",
              "    .dataframe tbody tr th:only-of-type {\n",
              "        vertical-align: middle;\n",
              "    }\n",
              "\n",
              "    .dataframe tbody tr th {\n",
              "        vertical-align: top;\n",
              "    }\n",
              "\n",
              "    .dataframe thead th {\n",
              "        text-align: right;\n",
              "    }\n",
              "</style>\n",
              "<table border=\"1\" class=\"dataframe\">\n",
              "  <thead>\n",
              "    <tr style=\"text-align: right;\">\n",
              "      <th></th>\n",
              "      <th>order_item_id</th>\n",
              "      <th>order_date</th>\n",
              "      <th>delivery_date</th>\n",
              "      <th>item_id</th>\n",
              "      <th>item_size</th>\n",
              "      <th>item_color</th>\n",
              "      <th>brand_id</th>\n",
              "      <th>item_price</th>\n",
              "      <th>user_id</th>\n",
              "      <th>user_title</th>\n",
              "      <th>user_state</th>\n",
              "      <th>user_reg_date</th>\n",
              "      <th>return</th>\n",
              "      <th>Time of delivery</th>\n",
              "      <th>Age</th>\n",
              "      <th>Months registered</th>\n",
              "    </tr>\n",
              "  </thead>\n",
              "  <tbody>\n",
              "    <tr>\n",
              "      <th>0</th>\n",
              "      <td>1</td>\n",
              "      <td>2016-06-22</td>\n",
              "      <td>2016-06-27</td>\n",
              "      <td>643</td>\n",
              "      <td>38</td>\n",
              "      <td>navy</td>\n",
              "      <td>30</td>\n",
              "      <td>49.900002</td>\n",
              "      <td>30822</td>\n",
              "      <td>Mrs</td>\n",
              "      <td>Saxony</td>\n",
              "      <td>2016-06-23</td>\n",
              "      <td>False</td>\n",
              "      <td>5</td>\n",
              "      <td>47</td>\n",
              "      <td>0</td>\n",
              "    </tr>\n",
              "    <tr>\n",
              "      <th>6</th>\n",
              "      <td>7</td>\n",
              "      <td>2016-06-22</td>\n",
              "      <td>2016-06-27</td>\n",
              "      <td>72</td>\n",
              "      <td>41</td>\n",
              "      <td>grey</td>\n",
              "      <td>1</td>\n",
              "      <td>119.900002</td>\n",
              "      <td>30823</td>\n",
              "      <td>Mrs</td>\n",
              "      <td>Baden-Wuerttemberg</td>\n",
              "      <td>2015-03-15</td>\n",
              "      <td>False</td>\n",
              "      <td>5</td>\n",
              "      <td>46</td>\n",
              "      <td>15</td>\n",
              "    </tr>\n",
              "    <tr>\n",
              "      <th>7</th>\n",
              "      <td>8</td>\n",
              "      <td>2016-06-22</td>\n",
              "      <td>2016-06-27</td>\n",
              "      <td>106</td>\n",
              "      <td>50</td>\n",
              "      <td>white</td>\n",
              "      <td>6</td>\n",
              "      <td>39.900002</td>\n",
              "      <td>30823</td>\n",
              "      <td>Mrs</td>\n",
              "      <td>Baden-Wuerttemberg</td>\n",
              "      <td>2015-03-15</td>\n",
              "      <td>True</td>\n",
              "      <td>5</td>\n",
              "      <td>46</td>\n",
              "      <td>15</td>\n",
              "    </tr>\n",
              "    <tr>\n",
              "      <th>15</th>\n",
              "      <td>16</td>\n",
              "      <td>2016-06-23</td>\n",
              "      <td>2016-06-26</td>\n",
              "      <td>797</td>\n",
              "      <td>48</td>\n",
              "      <td>brown</td>\n",
              "      <td>6</td>\n",
              "      <td>69.900002</td>\n",
              "      <td>9392</td>\n",
              "      <td>Mrs</td>\n",
              "      <td>North Rhine-Westphalia</td>\n",
              "      <td>2016-03-24</td>\n",
              "      <td>True</td>\n",
              "      <td>3</td>\n",
              "      <td>54</td>\n",
              "      <td>3</td>\n",
              "    </tr>\n",
              "    <tr>\n",
              "      <th>20</th>\n",
              "      <td>21</td>\n",
              "      <td>2016-06-23</td>\n",
              "      <td>2016-06-26</td>\n",
              "      <td>734</td>\n",
              "      <td>42</td>\n",
              "      <td>blue</td>\n",
              "      <td>24</td>\n",
              "      <td>69.900002</td>\n",
              "      <td>9392</td>\n",
              "      <td>Mrs</td>\n",
              "      <td>North Rhine-Westphalia</td>\n",
              "      <td>2016-03-24</td>\n",
              "      <td>True</td>\n",
              "      <td>3</td>\n",
              "      <td>54</td>\n",
              "      <td>3</td>\n",
              "    </tr>\n",
              "    <tr>\n",
              "      <th>...</th>\n",
              "      <td>...</td>\n",
              "      <td>...</td>\n",
              "      <td>...</td>\n",
              "      <td>...</td>\n",
              "      <td>...</td>\n",
              "      <td>...</td>\n",
              "      <td>...</td>\n",
              "      <td>...</td>\n",
              "      <td>...</td>\n",
              "      <td>...</td>\n",
              "      <td>...</td>\n",
              "      <td>...</td>\n",
              "      <td>...</td>\n",
              "      <td>...</td>\n",
              "      <td>...</td>\n",
              "      <td>...</td>\n",
              "    </tr>\n",
              "    <tr>\n",
              "      <th>48332</th>\n",
              "      <td>48333</td>\n",
              "      <td>2016-08-02</td>\n",
              "      <td>2016-08-09</td>\n",
              "      <td>1694</td>\n",
              "      <td>5</td>\n",
              "      <td>black</td>\n",
              "      <td>12</td>\n",
              "      <td>130.000000</td>\n",
              "      <td>38899</td>\n",
              "      <td>Mrs</td>\n",
              "      <td>Schleswig-Holstein</td>\n",
              "      <td>2016-01-16</td>\n",
              "      <td>False</td>\n",
              "      <td>7</td>\n",
              "      <td>52</td>\n",
              "      <td>6</td>\n",
              "    </tr>\n",
              "    <tr>\n",
              "      <th>59206</th>\n",
              "      <td>59207</td>\n",
              "      <td>2016-08-08</td>\n",
              "      <td>2016-08-15</td>\n",
              "      <td>706</td>\n",
              "      <td>9</td>\n",
              "      <td>black</td>\n",
              "      <td>19</td>\n",
              "      <td>69.900002</td>\n",
              "      <td>40961</td>\n",
              "      <td>Mr</td>\n",
              "      <td>Baden-Wuerttemberg</td>\n",
              "      <td>2016-08-09</td>\n",
              "      <td>False</td>\n",
              "      <td>7</td>\n",
              "      <td>52</td>\n",
              "      <td>0</td>\n",
              "    </tr>\n",
              "    <tr>\n",
              "      <th>62980</th>\n",
              "      <td>62981</td>\n",
              "      <td>2016-08-10</td>\n",
              "      <td>2016-08-17</td>\n",
              "      <td>1688</td>\n",
              "      <td>40</td>\n",
              "      <td>blue</td>\n",
              "      <td>1</td>\n",
              "      <td>139.899994</td>\n",
              "      <td>40439</td>\n",
              "      <td>Mrs</td>\n",
              "      <td>Hesse</td>\n",
              "      <td>2016-03-21</td>\n",
              "      <td>False</td>\n",
              "      <td>7</td>\n",
              "      <td>52</td>\n",
              "      <td>4</td>\n",
              "    </tr>\n",
              "    <tr>\n",
              "      <th>85739</th>\n",
              "      <td>85740</td>\n",
              "      <td>2016-08-29</td>\n",
              "      <td>2016-09-05</td>\n",
              "      <td>1747</td>\n",
              "      <td>38</td>\n",
              "      <td>brown</td>\n",
              "      <td>1</td>\n",
              "      <td>144.899994</td>\n",
              "      <td>24978</td>\n",
              "      <td>Mrs</td>\n",
              "      <td>North Rhine-Westphalia</td>\n",
              "      <td>2015-02-17</td>\n",
              "      <td>False</td>\n",
              "      <td>7</td>\n",
              "      <td>52</td>\n",
              "      <td>18</td>\n",
              "    </tr>\n",
              "    <tr>\n",
              "      <th>99399</th>\n",
              "      <td>99400</td>\n",
              "      <td>2016-09-10</td>\n",
              "      <td>2016-09-17</td>\n",
              "      <td>1937</td>\n",
              "      <td>9</td>\n",
              "      <td>anthracite</td>\n",
              "      <td>21</td>\n",
              "      <td>109.949997</td>\n",
              "      <td>31140</td>\n",
              "      <td>Mrs</td>\n",
              "      <td>Brandenburg</td>\n",
              "      <td>2016-06-25</td>\n",
              "      <td>False</td>\n",
              "      <td>7</td>\n",
              "      <td>52</td>\n",
              "      <td>2</td>\n",
              "    </tr>\n",
              "  </tbody>\n",
              "</table>\n",
              "<p>48132 rows × 16 columns</p>\n",
              "</div>"
            ],
            "text/plain": [
              "       order_item_id order_date  ... Age  Months registered\n",
              "0                  1 2016-06-22  ...  47                  0\n",
              "6                  7 2016-06-22  ...  46                 15\n",
              "7                  8 2016-06-22  ...  46                 15\n",
              "15                16 2016-06-23  ...  54                  3\n",
              "20                21 2016-06-23  ...  54                  3\n",
              "...              ...        ...  ...  ..                ...\n",
              "48332          48333 2016-08-02  ...  52                  6\n",
              "59206          59207 2016-08-08  ...  52                  0\n",
              "62980          62981 2016-08-10  ...  52                  4\n",
              "85739          85740 2016-08-29  ...  52                 18\n",
              "99399          99400 2016-09-10  ...  52                  2\n",
              "\n",
              "[48132 rows x 16 columns]"
            ]
          },
          "metadata": {
            "tags": []
          },
          "execution_count": 35
        }
      ]
    },
    {
      "cell_type": "markdown",
      "metadata": {
        "id": "oRC-zFxnQQhR"
      },
      "source": [
        "As can be observed below, the data of string sizes is normally distributed, with the mean of \"l\" being the most common and the smallest \"xs\" and the largest \"xxxl\" being the least common. Taking this into consideration, I consider it to be reasonable, that numerical values, which roughly represent the half of the total population, are also normally distributed. I will substitute numerical sizes, based on this information, with their string counterparties, taken, once again, that it is impossible to know for sure the categories (pants, dresses etc.) of the goods sold."
      ]
    },
    {
      "cell_type": "code",
      "metadata": {
        "colab": {
          "base_uri": "https://localhost:8080/"
        },
        "id": "K1mEElwbQIEX",
        "outputId": "e24cabf3-d33c-49d1-eeb8-5dada82841c9"
      },
      "source": [
        "df_with_string_sizes[\"item_size\"].value_counts()"
      ],
      "execution_count": null,
      "outputs": [
        {
          "output_type": "execute_result",
          "data": {
            "text/plain": [
              "l          12440\n",
              "xl         10979\n",
              "m          10190\n",
              "xxl         8966\n",
              "unsized     5223\n",
              "s           3949\n",
              "xxxl          86\n",
              "xs            35\n",
              "Name: item_size, dtype: int64"
            ]
          },
          "metadata": {
            "tags": []
          },
          "execution_count": 36
        }
      ]
    },
    {
      "cell_type": "code",
      "metadata": {
        "id": "tCAj5roJKRFk"
      },
      "source": [
        "# let us get rid of the outliers using the outlier truncation function to normalize the data\n",
        "\n",
        "def outlier_truncation(x, factor=1.5):\n",
        "    x_new = x.copy()\n",
        "\n",
        "    # Calculate IQR\n",
        "    IQR = x.quantile(0.75) - x.quantile(0.25)\n",
        "\n",
        "    # Define upper/lower bound\n",
        "    upper = x.quantile(0.75) + factor*IQR\n",
        "    lower = x.quantile(0.25) - factor*IQR\n",
        "\n",
        "    # Truncation\n",
        "    x_new[x < lower] = lower\n",
        "    x_new[x > upper] = upper\n",
        "\n",
        "    return x_new"
      ],
      "execution_count": null,
      "outputs": []
    },
    {
      "cell_type": "code",
      "metadata": {
        "colab": {
          "base_uri": "https://localhost:8080/",
          "height": 316
        },
        "id": "MwQPhx0PcbJk",
        "outputId": "1e43ff21-1837-47d7-a515-a7bdbb7b1608"
      },
      "source": [
        "# apply the function\n",
        "df_with_numerical_sizes[\"item_size\"]=df_with_numerical_sizes[\"item_size\"].astype(\"int32\")\n",
        "df_with_numerical_sizes[\"item_size\"]=outlier_truncation(df_with_numerical_sizes[\"item_size\"], factor=1.5)\n",
        "df_with_numerical_sizes.hist(\"item_size\", bins = 40)"
      ],
      "execution_count": null,
      "outputs": [
        {
          "output_type": "execute_result",
          "data": {
            "text/plain": [
              "array([[<matplotlib.axes._subplots.AxesSubplot object at 0x7ff6cd3a9990>]],\n",
              "      dtype=object)"
            ]
          },
          "metadata": {
            "tags": []
          },
          "execution_count": 38
        },
        {
          "output_type": "display_data",
          "data": {
            "image/png": "[encoded data removed]",
            "text/plain": [
              "<Figure size 432x288 with 1 Axes>"
            ]
          },
          "metadata": {
            "tags": [],
            "needs_background": "light"
          }
        }
      ]
    },
    {
      "cell_type": "markdown",
      "metadata": {
        "id": "vMoMdMSpSAGB"
      },
      "source": [
        "Next, I will carry out the substitution of the numerical variables with the appropriate strings."
      ]
    },
    {
      "cell_type": "code",
      "metadata": {
        "colab": {
          "base_uri": "https://localhost:8080/",
          "height": 574
        },
        "id": "ZpNz1Q2ZHrw_",
        "outputId": "272146f9-7e71-4673-c76c-6af8250c9340"
      },
      "source": [
        "# create a proxy to refer to during the substitution\n",
        "df_with_numerical_sizes[\"item_size_proxy\"]=df_with_numerical_sizes[\"item_size\"]\n",
        "df_with_numerical_sizes"
      ],
      "execution_count": null,
      "outputs": [
        {
          "output_type": "execute_result",
          "data": {
            "text/html": [
              "<div>\n",
              "<style scoped>\n",
              "    .dataframe tbody tr th:only-of-type {\n",
              "        vertical-align: middle;\n",
              "    }\n",
              "\n",
              "    .dataframe tbody tr th {\n",
              "        vertical-align: top;\n",
              "    }\n",
              "\n",
              "    .dataframe thead th {\n",
              "        text-align: right;\n",
              "    }\n",
              "</style>\n",
              "<table border=\"1\" class=\"dataframe\">\n",
              "  <thead>\n",
              "    <tr style=\"text-align: right;\">\n",
              "      <th></th>\n",
              "      <th>order_item_id</th>\n",
              "      <th>order_date</th>\n",
              "      <th>delivery_date</th>\n",
              "      <th>item_id</th>\n",
              "      <th>item_size</th>\n",
              "      <th>item_color</th>\n",
              "      <th>brand_id</th>\n",
              "      <th>item_price</th>\n",
              "      <th>user_id</th>\n",
              "      <th>user_title</th>\n",
              "      <th>user_state</th>\n",
              "      <th>user_reg_date</th>\n",
              "      <th>return</th>\n",
              "      <th>Time of delivery</th>\n",
              "      <th>Age</th>\n",
              "      <th>Months registered</th>\n",
              "      <th>item_size_proxy</th>\n",
              "    </tr>\n",
              "  </thead>\n",
              "  <tbody>\n",
              "    <tr>\n",
              "      <th>0</th>\n",
              "      <td>1</td>\n",
              "      <td>2016-06-22</td>\n",
              "      <td>2016-06-27</td>\n",
              "      <td>643</td>\n",
              "      <td>38</td>\n",
              "      <td>navy</td>\n",
              "      <td>30</td>\n",
              "      <td>49.900002</td>\n",
              "      <td>30822</td>\n",
              "      <td>Mrs</td>\n",
              "      <td>Saxony</td>\n",
              "      <td>2016-06-23</td>\n",
              "      <td>False</td>\n",
              "      <td>5</td>\n",
              "      <td>47</td>\n",
              "      <td>0</td>\n",
              "      <td>38</td>\n",
              "    </tr>\n",
              "    <tr>\n",
              "      <th>6</th>\n",
              "      <td>7</td>\n",
              "      <td>2016-06-22</td>\n",
              "      <td>2016-06-27</td>\n",
              "      <td>72</td>\n",
              "      <td>41</td>\n",
              "      <td>grey</td>\n",
              "      <td>1</td>\n",
              "      <td>119.900002</td>\n",
              "      <td>30823</td>\n",
              "      <td>Mrs</td>\n",
              "      <td>Baden-Wuerttemberg</td>\n",
              "      <td>2015-03-15</td>\n",
              "      <td>False</td>\n",
              "      <td>5</td>\n",
              "      <td>46</td>\n",
              "      <td>15</td>\n",
              "      <td>41</td>\n",
              "    </tr>\n",
              "    <tr>\n",
              "      <th>7</th>\n",
              "      <td>8</td>\n",
              "      <td>2016-06-22</td>\n",
              "      <td>2016-06-27</td>\n",
              "      <td>106</td>\n",
              "      <td>48</td>\n",
              "      <td>white</td>\n",
              "      <td>6</td>\n",
              "      <td>39.900002</td>\n",
              "      <td>30823</td>\n",
              "      <td>Mrs</td>\n",
              "      <td>Baden-Wuerttemberg</td>\n",
              "      <td>2015-03-15</td>\n",
              "      <td>True</td>\n",
              "      <td>5</td>\n",
              "      <td>46</td>\n",
              "      <td>15</td>\n",
              "      <td>48</td>\n",
              "    </tr>\n",
              "    <tr>\n",
              "      <th>15</th>\n",
              "      <td>16</td>\n",
              "      <td>2016-06-23</td>\n",
              "      <td>2016-06-26</td>\n",
              "      <td>797</td>\n",
              "      <td>48</td>\n",
              "      <td>brown</td>\n",
              "      <td>6</td>\n",
              "      <td>69.900002</td>\n",
              "      <td>9392</td>\n",
              "      <td>Mrs</td>\n",
              "      <td>North Rhine-Westphalia</td>\n",
              "      <td>2016-03-24</td>\n",
              "      <td>True</td>\n",
              "      <td>3</td>\n",
              "      <td>54</td>\n",
              "      <td>3</td>\n",
              "      <td>48</td>\n",
              "    </tr>\n",
              "    <tr>\n",
              "      <th>20</th>\n",
              "      <td>21</td>\n",
              "      <td>2016-06-23</td>\n",
              "      <td>2016-06-26</td>\n",
              "      <td>734</td>\n",
              "      <td>42</td>\n",
              "      <td>blue</td>\n",
              "      <td>24</td>\n",
              "      <td>69.900002</td>\n",
              "      <td>9392</td>\n",
              "      <td>Mrs</td>\n",
              "      <td>North Rhine-Westphalia</td>\n",
              "      <td>2016-03-24</td>\n",
              "      <td>True</td>\n",
              "      <td>3</td>\n",
              "      <td>54</td>\n",
              "      <td>3</td>\n",
              "      <td>42</td>\n",
              "    </tr>\n",
              "    <tr>\n",
              "      <th>...</th>\n",
              "      <td>...</td>\n",
              "      <td>...</td>\n",
              "      <td>...</td>\n",
              "      <td>...</td>\n",
              "      <td>...</td>\n",
              "      <td>...</td>\n",
              "      <td>...</td>\n",
              "      <td>...</td>\n",
              "      <td>...</td>\n",
              "      <td>...</td>\n",
              "      <td>...</td>\n",
              "      <td>...</td>\n",
              "      <td>...</td>\n",
              "      <td>...</td>\n",
              "      <td>...</td>\n",
              "      <td>...</td>\n",
              "      <td>...</td>\n",
              "    </tr>\n",
              "    <tr>\n",
              "      <th>48332</th>\n",
              "      <td>48333</td>\n",
              "      <td>2016-08-02</td>\n",
              "      <td>2016-08-09</td>\n",
              "      <td>1694</td>\n",
              "      <td>32</td>\n",
              "      <td>black</td>\n",
              "      <td>12</td>\n",
              "      <td>130.000000</td>\n",
              "      <td>38899</td>\n",
              "      <td>Mrs</td>\n",
              "      <td>Schleswig-Holstein</td>\n",
              "      <td>2016-01-16</td>\n",
              "      <td>False</td>\n",
              "      <td>7</td>\n",
              "      <td>52</td>\n",
              "      <td>6</td>\n",
              "      <td>32</td>\n",
              "    </tr>\n",
              "    <tr>\n",
              "      <th>59206</th>\n",
              "      <td>59207</td>\n",
              "      <td>2016-08-08</td>\n",
              "      <td>2016-08-15</td>\n",
              "      <td>706</td>\n",
              "      <td>32</td>\n",
              "      <td>black</td>\n",
              "      <td>19</td>\n",
              "      <td>69.900002</td>\n",
              "      <td>40961</td>\n",
              "      <td>Mr</td>\n",
              "      <td>Baden-Wuerttemberg</td>\n",
              "      <td>2016-08-09</td>\n",
              "      <td>False</td>\n",
              "      <td>7</td>\n",
              "      <td>52</td>\n",
              "      <td>0</td>\n",
              "      <td>32</td>\n",
              "    </tr>\n",
              "    <tr>\n",
              "      <th>62980</th>\n",
              "      <td>62981</td>\n",
              "      <td>2016-08-10</td>\n",
              "      <td>2016-08-17</td>\n",
              "      <td>1688</td>\n",
              "      <td>40</td>\n",
              "      <td>blue</td>\n",
              "      <td>1</td>\n",
              "      <td>139.899994</td>\n",
              "      <td>40439</td>\n",
              "      <td>Mrs</td>\n",
              "      <td>Hesse</td>\n",
              "      <td>2016-03-21</td>\n",
              "      <td>False</td>\n",
              "      <td>7</td>\n",
              "      <td>52</td>\n",
              "      <td>4</td>\n",
              "      <td>40</td>\n",
              "    </tr>\n",
              "    <tr>\n",
              "      <th>85739</th>\n",
              "      <td>85740</td>\n",
              "      <td>2016-08-29</td>\n",
              "      <td>2016-09-05</td>\n",
              "      <td>1747</td>\n",
              "      <td>38</td>\n",
              "      <td>brown</td>\n",
              "      <td>1</td>\n",
              "      <td>144.899994</td>\n",
              "      <td>24978</td>\n",
              "      <td>Mrs</td>\n",
              "      <td>North Rhine-Westphalia</td>\n",
              "      <td>2015-02-17</td>\n",
              "      <td>False</td>\n",
              "      <td>7</td>\n",
              "      <td>52</td>\n",
              "      <td>18</td>\n",
              "      <td>38</td>\n",
              "    </tr>\n",
              "    <tr>\n",
              "      <th>99399</th>\n",
              "      <td>99400</td>\n",
              "      <td>2016-09-10</td>\n",
              "      <td>2016-09-17</td>\n",
              "      <td>1937</td>\n",
              "      <td>32</td>\n",
              "      <td>anthracite</td>\n",
              "      <td>21</td>\n",
              "      <td>109.949997</td>\n",
              "      <td>31140</td>\n",
              "      <td>Mrs</td>\n",
              "      <td>Brandenburg</td>\n",
              "      <td>2016-06-25</td>\n",
              "      <td>False</td>\n",
              "      <td>7</td>\n",
              "      <td>52</td>\n",
              "      <td>2</td>\n",
              "      <td>32</td>\n",
              "    </tr>\n",
              "  </tbody>\n",
              "</table>\n",
              "<p>48132 rows × 17 columns</p>\n",
              "</div>"
            ],
            "text/plain": [
              "       order_item_id order_date  ... Months registered  item_size_proxy\n",
              "0                  1 2016-06-22  ...                 0               38\n",
              "6                  7 2016-06-22  ...                15               41\n",
              "7                  8 2016-06-22  ...                15               48\n",
              "15                16 2016-06-23  ...                 3               48\n",
              "20                21 2016-06-23  ...                 3               42\n",
              "...              ...        ...  ...               ...              ...\n",
              "48332          48333 2016-08-02  ...                 6               32\n",
              "59206          59207 2016-08-08  ...                 0               32\n",
              "62980          62981 2016-08-10  ...                 4               40\n",
              "85739          85740 2016-08-29  ...                18               38\n",
              "99399          99400 2016-09-10  ...                 2               32\n",
              "\n",
              "[48132 rows x 17 columns]"
            ]
          },
          "metadata": {
            "tags": []
          },
          "execution_count": 39
        }
      ]
    },
    {
      "cell_type": "code",
      "metadata": {
        "colab": {
          "base_uri": "https://localhost:8080/",
          "height": 574
        },
        "id": "JPTQARE5dnlN",
        "outputId": "f286e985-9a04-4ff5-9ffb-4e86a483d6ef"
      },
      "source": [
        "# use the numpy.where function to set conditions for the substitution. The thresholds are based on the above normalized distribution form roughly 32\n",
        "# to 48 divided by the most common classes from s to xxxl\n",
        "df_with_numerical_sizes['item_size'] = np.where(df_with_numerical_sizes['item_size_proxy'] >=30, \"s\", df_with_numerical_sizes['item_size'])\n",
        "df_with_numerical_sizes['item_size'] = np.where(df_with_numerical_sizes['item_size_proxy'] >=35, \"m\", df_with_numerical_sizes['item_size'])\n",
        "df_with_numerical_sizes['item_size'] = np.where(df_with_numerical_sizes['item_size_proxy'] >=38, \"l\", df_with_numerical_sizes['item_size'])\n",
        "df_with_numerical_sizes['item_size'] = np.where(df_with_numerical_sizes['item_size_proxy'] >=41, \"xl\", df_with_numerical_sizes['item_size'])\n",
        "df_with_numerical_sizes['item_size'] = np.where(df_with_numerical_sizes['item_size_proxy'] >=44, \"xxl\", df_with_numerical_sizes['item_size'])\n",
        "df_with_numerical_sizes['item_size'] = np.where(df_with_numerical_sizes['item_size_proxy'] >=47, \"xxxl\", df_with_numerical_sizes['item_size'])\n",
        "del df_with_numerical_sizes['item_size_proxy']\n",
        "df_with_numerical_sizes"
      ],
      "execution_count": null,
      "outputs": [
        {
          "output_type": "execute_result",
          "data": {
            "text/html": [
              "<div>\n",
              "<style scoped>\n",
              "    .dataframe tbody tr th:only-of-type {\n",
              "        vertical-align: middle;\n",
              "    }\n",
              "\n",
              "    .dataframe tbody tr th {\n",
              "        vertical-align: top;\n",
              "    }\n",
              "\n",
              "    .dataframe thead th {\n",
              "        text-align: right;\n",
              "    }\n",
              "</style>\n",
              "<table border=\"1\" class=\"dataframe\">\n",
              "  <thead>\n",
              "    <tr style=\"text-align: right;\">\n",
              "      <th></th>\n",
              "      <th>order_item_id</th>\n",
              "      <th>order_date</th>\n",
              "      <th>delivery_date</th>\n",
              "      <th>item_id</th>\n",
              "      <th>item_size</th>\n",
              "      <th>item_color</th>\n",
              "      <th>brand_id</th>\n",
              "      <th>item_price</th>\n",
              "      <th>user_id</th>\n",
              "      <th>user_title</th>\n",
              "      <th>user_state</th>\n",
              "      <th>user_reg_date</th>\n",
              "      <th>return</th>\n",
              "      <th>Time of delivery</th>\n",
              "      <th>Age</th>\n",
              "      <th>Months registered</th>\n",
              "    </tr>\n",
              "  </thead>\n",
              "  <tbody>\n",
              "    <tr>\n",
              "      <th>0</th>\n",
              "      <td>1</td>\n",
              "      <td>2016-06-22</td>\n",
              "      <td>2016-06-27</td>\n",
              "      <td>643</td>\n",
              "      <td>l</td>\n",
              "      <td>navy</td>\n",
              "      <td>30</td>\n",
              "      <td>49.900002</td>\n",
              "      <td>30822</td>\n",
              "      <td>Mrs</td>\n",
              "      <td>Saxony</td>\n",
              "      <td>2016-06-23</td>\n",
              "      <td>False</td>\n",
              "      <td>5</td>\n",
              "      <td>47</td>\n",
              "      <td>0</td>\n",
              "    </tr>\n",
              "    <tr>\n",
              "      <th>6</th>\n",
              "      <td>7</td>\n",
              "      <td>2016-06-22</td>\n",
              "      <td>2016-06-27</td>\n",
              "      <td>72</td>\n",
              "      <td>xl</td>\n",
              "      <td>grey</td>\n",
              "      <td>1</td>\n",
              "      <td>119.900002</td>\n",
              "      <td>30823</td>\n",
              "      <td>Mrs</td>\n",
              "      <td>Baden-Wuerttemberg</td>\n",
              "      <td>2015-03-15</td>\n",
              "      <td>False</td>\n",
              "      <td>5</td>\n",
              "      <td>46</td>\n",
              "      <td>15</td>\n",
              "    </tr>\n",
              "    <tr>\n",
              "      <th>7</th>\n",
              "      <td>8</td>\n",
              "      <td>2016-06-22</td>\n",
              "      <td>2016-06-27</td>\n",
              "      <td>106</td>\n",
              "      <td>xxxl</td>\n",
              "      <td>white</td>\n",
              "      <td>6</td>\n",
              "      <td>39.900002</td>\n",
              "      <td>30823</td>\n",
              "      <td>Mrs</td>\n",
              "      <td>Baden-Wuerttemberg</td>\n",
              "      <td>2015-03-15</td>\n",
              "      <td>True</td>\n",
              "      <td>5</td>\n",
              "      <td>46</td>\n",
              "      <td>15</td>\n",
              "    </tr>\n",
              "    <tr>\n",
              "      <th>15</th>\n",
              "      <td>16</td>\n",
              "      <td>2016-06-23</td>\n",
              "      <td>2016-06-26</td>\n",
              "      <td>797</td>\n",
              "      <td>xxxl</td>\n",
              "      <td>brown</td>\n",
              "      <td>6</td>\n",
              "      <td>69.900002</td>\n",
              "      <td>9392</td>\n",
              "      <td>Mrs</td>\n",
              "      <td>North Rhine-Westphalia</td>\n",
              "      <td>2016-03-24</td>\n",
              "      <td>True</td>\n",
              "      <td>3</td>\n",
              "      <td>54</td>\n",
              "      <td>3</td>\n",
              "    </tr>\n",
              "    <tr>\n",
              "      <th>20</th>\n",
              "      <td>21</td>\n",
              "      <td>2016-06-23</td>\n",
              "      <td>2016-06-26</td>\n",
              "      <td>734</td>\n",
              "      <td>xl</td>\n",
              "      <td>blue</td>\n",
              "      <td>24</td>\n",
              "      <td>69.900002</td>\n",
              "      <td>9392</td>\n",
              "      <td>Mrs</td>\n",
              "      <td>North Rhine-Westphalia</td>\n",
              "      <td>2016-03-24</td>\n",
              "      <td>True</td>\n",
              "      <td>3</td>\n",
              "      <td>54</td>\n",
              "      <td>3</td>\n",
              "    </tr>\n",
              "    <tr>\n",
              "      <th>...</th>\n",
              "      <td>...</td>\n",
              "      <td>...</td>\n",
              "      <td>...</td>\n",
              "      <td>...</td>\n",
              "      <td>...</td>\n",
              "      <td>...</td>\n",
              "      <td>...</td>\n",
              "      <td>...</td>\n",
              "      <td>...</td>\n",
              "      <td>...</td>\n",
              "      <td>...</td>\n",
              "      <td>...</td>\n",
              "      <td>...</td>\n",
              "      <td>...</td>\n",
              "      <td>...</td>\n",
              "      <td>...</td>\n",
              "    </tr>\n",
              "    <tr>\n",
              "      <th>48332</th>\n",
              "      <td>48333</td>\n",
              "      <td>2016-08-02</td>\n",
              "      <td>2016-08-09</td>\n",
              "      <td>1694</td>\n",
              "      <td>s</td>\n",
              "      <td>black</td>\n",
              "      <td>12</td>\n",
              "      <td>130.000000</td>\n",
              "      <td>38899</td>\n",
              "      <td>Mrs</td>\n",
              "      <td>Schleswig-Holstein</td>\n",
              "      <td>2016-01-16</td>\n",
              "      <td>False</td>\n",
              "      <td>7</td>\n",
              "      <td>52</td>\n",
              "      <td>6</td>\n",
              "    </tr>\n",
              "    <tr>\n",
              "      <th>59206</th>\n",
              "      <td>59207</td>\n",
              "      <td>2016-08-08</td>\n",
              "      <td>2016-08-15</td>\n",
              "      <td>706</td>\n",
              "      <td>s</td>\n",
              "      <td>black</td>\n",
              "      <td>19</td>\n",
              "      <td>69.900002</td>\n",
              "      <td>40961</td>\n",
              "      <td>Mr</td>\n",
              "      <td>Baden-Wuerttemberg</td>\n",
              "      <td>2016-08-09</td>\n",
              "      <td>False</td>\n",
              "      <td>7</td>\n",
              "      <td>52</td>\n",
              "      <td>0</td>\n",
              "    </tr>\n",
              "    <tr>\n",
              "      <th>62980</th>\n",
              "      <td>62981</td>\n",
              "      <td>2016-08-10</td>\n",
              "      <td>2016-08-17</td>\n",
              "      <td>1688</td>\n",
              "      <td>l</td>\n",
              "      <td>blue</td>\n",
              "      <td>1</td>\n",
              "      <td>139.899994</td>\n",
              "      <td>40439</td>\n",
              "      <td>Mrs</td>\n",
              "      <td>Hesse</td>\n",
              "      <td>2016-03-21</td>\n",
              "      <td>False</td>\n",
              "      <td>7</td>\n",
              "      <td>52</td>\n",
              "      <td>4</td>\n",
              "    </tr>\n",
              "    <tr>\n",
              "      <th>85739</th>\n",
              "      <td>85740</td>\n",
              "      <td>2016-08-29</td>\n",
              "      <td>2016-09-05</td>\n",
              "      <td>1747</td>\n",
              "      <td>l</td>\n",
              "      <td>brown</td>\n",
              "      <td>1</td>\n",
              "      <td>144.899994</td>\n",
              "      <td>24978</td>\n",
              "      <td>Mrs</td>\n",
              "      <td>North Rhine-Westphalia</td>\n",
              "      <td>2015-02-17</td>\n",
              "      <td>False</td>\n",
              "      <td>7</td>\n",
              "      <td>52</td>\n",
              "      <td>18</td>\n",
              "    </tr>\n",
              "    <tr>\n",
              "      <th>99399</th>\n",
              "      <td>99400</td>\n",
              "      <td>2016-09-10</td>\n",
              "      <td>2016-09-17</td>\n",
              "      <td>1937</td>\n",
              "      <td>s</td>\n",
              "      <td>anthracite</td>\n",
              "      <td>21</td>\n",
              "      <td>109.949997</td>\n",
              "      <td>31140</td>\n",
              "      <td>Mrs</td>\n",
              "      <td>Brandenburg</td>\n",
              "      <td>2016-06-25</td>\n",
              "      <td>False</td>\n",
              "      <td>7</td>\n",
              "      <td>52</td>\n",
              "      <td>2</td>\n",
              "    </tr>\n",
              "  </tbody>\n",
              "</table>\n",
              "<p>48132 rows × 16 columns</p>\n",
              "</div>"
            ],
            "text/plain": [
              "       order_item_id order_date  ... Age  Months registered\n",
              "0                  1 2016-06-22  ...  47                  0\n",
              "6                  7 2016-06-22  ...  46                 15\n",
              "7                  8 2016-06-22  ...  46                 15\n",
              "15                16 2016-06-23  ...  54                  3\n",
              "20                21 2016-06-23  ...  54                  3\n",
              "...              ...        ...  ...  ..                ...\n",
              "48332          48333 2016-08-02  ...  52                  6\n",
              "59206          59207 2016-08-08  ...  52                  0\n",
              "62980          62981 2016-08-10  ...  52                  4\n",
              "85739          85740 2016-08-29  ...  52                 18\n",
              "99399          99400 2016-09-10  ...  52                  2\n",
              "\n",
              "[48132 rows x 16 columns]"
            ]
          },
          "metadata": {
            "tags": []
          },
          "execution_count": 40
        }
      ]
    },
    {
      "cell_type": "code",
      "metadata": {
        "colab": {
          "base_uri": "https://localhost:8080/",
          "height": 574
        },
        "id": "XS6RhTqvOT0R",
        "outputId": "56ae0036-a84d-4c50-d7b5-c2d195c9c071"
      },
      "source": [
        "# join the two chunks of the data together\n",
        "df_with_numerical_sizes=df_with_numerical_sizes.append(df_with_string_sizes)\n",
        "df=df_with_numerical_sizes\n",
        "df"
      ],
      "execution_count": null,
      "outputs": [
        {
          "output_type": "execute_result",
          "data": {
            "text/html": [
              "<div>\n",
              "<style scoped>\n",
              "    .dataframe tbody tr th:only-of-type {\n",
              "        vertical-align: middle;\n",
              "    }\n",
              "\n",
              "    .dataframe tbody tr th {\n",
              "        vertical-align: top;\n",
              "    }\n",
              "\n",
              "    .dataframe thead th {\n",
              "        text-align: right;\n",
              "    }\n",
              "</style>\n",
              "<table border=\"1\" class=\"dataframe\">\n",
              "  <thead>\n",
              "    <tr style=\"text-align: right;\">\n",
              "      <th></th>\n",
              "      <th>order_item_id</th>\n",
              "      <th>order_date</th>\n",
              "      <th>delivery_date</th>\n",
              "      <th>item_id</th>\n",
              "      <th>item_size</th>\n",
              "      <th>item_color</th>\n",
              "      <th>brand_id</th>\n",
              "      <th>item_price</th>\n",
              "      <th>user_id</th>\n",
              "      <th>user_title</th>\n",
              "      <th>user_state</th>\n",
              "      <th>user_reg_date</th>\n",
              "      <th>return</th>\n",
              "      <th>Time of delivery</th>\n",
              "      <th>Age</th>\n",
              "      <th>Months registered</th>\n",
              "    </tr>\n",
              "  </thead>\n",
              "  <tbody>\n",
              "    <tr>\n",
              "      <th>0</th>\n",
              "      <td>1</td>\n",
              "      <td>2016-06-22</td>\n",
              "      <td>2016-06-27</td>\n",
              "      <td>643</td>\n",
              "      <td>l</td>\n",
              "      <td>navy</td>\n",
              "      <td>30</td>\n",
              "      <td>49.900002</td>\n",
              "      <td>30822</td>\n",
              "      <td>Mrs</td>\n",
              "      <td>Saxony</td>\n",
              "      <td>2016-06-23</td>\n",
              "      <td>False</td>\n",
              "      <td>5</td>\n",
              "      <td>47</td>\n",
              "      <td>0</td>\n",
              "    </tr>\n",
              "    <tr>\n",
              "      <th>6</th>\n",
              "      <td>7</td>\n",
              "      <td>2016-06-22</td>\n",
              "      <td>2016-06-27</td>\n",
              "      <td>72</td>\n",
              "      <td>xl</td>\n",
              "      <td>grey</td>\n",
              "      <td>1</td>\n",
              "      <td>119.900002</td>\n",
              "      <td>30823</td>\n",
              "      <td>Mrs</td>\n",
              "      <td>Baden-Wuerttemberg</td>\n",
              "      <td>2015-03-15</td>\n",
              "      <td>False</td>\n",
              "      <td>5</td>\n",
              "      <td>46</td>\n",
              "      <td>15</td>\n",
              "    </tr>\n",
              "    <tr>\n",
              "      <th>7</th>\n",
              "      <td>8</td>\n",
              "      <td>2016-06-22</td>\n",
              "      <td>2016-06-27</td>\n",
              "      <td>106</td>\n",
              "      <td>xxxl</td>\n",
              "      <td>white</td>\n",
              "      <td>6</td>\n",
              "      <td>39.900002</td>\n",
              "      <td>30823</td>\n",
              "      <td>Mrs</td>\n",
              "      <td>Baden-Wuerttemberg</td>\n",
              "      <td>2015-03-15</td>\n",
              "      <td>True</td>\n",
              "      <td>5</td>\n",
              "      <td>46</td>\n",
              "      <td>15</td>\n",
              "    </tr>\n",
              "    <tr>\n",
              "      <th>15</th>\n",
              "      <td>16</td>\n",
              "      <td>2016-06-23</td>\n",
              "      <td>2016-06-26</td>\n",
              "      <td>797</td>\n",
              "      <td>xxxl</td>\n",
              "      <td>brown</td>\n",
              "      <td>6</td>\n",
              "      <td>69.900002</td>\n",
              "      <td>9392</td>\n",
              "      <td>Mrs</td>\n",
              "      <td>North Rhine-Westphalia</td>\n",
              "      <td>2016-03-24</td>\n",
              "      <td>True</td>\n",
              "      <td>3</td>\n",
              "      <td>54</td>\n",
              "      <td>3</td>\n",
              "    </tr>\n",
              "    <tr>\n",
              "      <th>20</th>\n",
              "      <td>21</td>\n",
              "      <td>2016-06-23</td>\n",
              "      <td>2016-06-26</td>\n",
              "      <td>734</td>\n",
              "      <td>xl</td>\n",
              "      <td>blue</td>\n",
              "      <td>24</td>\n",
              "      <td>69.900002</td>\n",
              "      <td>9392</td>\n",
              "      <td>Mrs</td>\n",
              "      <td>North Rhine-Westphalia</td>\n",
              "      <td>2016-03-24</td>\n",
              "      <td>True</td>\n",
              "      <td>3</td>\n",
              "      <td>54</td>\n",
              "      <td>3</td>\n",
              "    </tr>\n",
              "    <tr>\n",
              "      <th>...</th>\n",
              "      <td>...</td>\n",
              "      <td>...</td>\n",
              "      <td>...</td>\n",
              "      <td>...</td>\n",
              "      <td>...</td>\n",
              "      <td>...</td>\n",
              "      <td>...</td>\n",
              "      <td>...</td>\n",
              "      <td>...</td>\n",
              "      <td>...</td>\n",
              "      <td>...</td>\n",
              "      <td>...</td>\n",
              "      <td>...</td>\n",
              "      <td>...</td>\n",
              "      <td>...</td>\n",
              "      <td>...</td>\n",
              "    </tr>\n",
              "    <tr>\n",
              "      <th>69512</th>\n",
              "      <td>69513</td>\n",
              "      <td>2016-08-14</td>\n",
              "      <td>2016-09-26</td>\n",
              "      <td>2118</td>\n",
              "      <td>l</td>\n",
              "      <td>brown</td>\n",
              "      <td>39</td>\n",
              "      <td>89.900002</td>\n",
              "      <td>42822</td>\n",
              "      <td>Mr</td>\n",
              "      <td>Bavaria</td>\n",
              "      <td>2016-08-15</td>\n",
              "      <td>False</td>\n",
              "      <td>43</td>\n",
              "      <td>52</td>\n",
              "      <td>0</td>\n",
              "    </tr>\n",
              "    <tr>\n",
              "      <th>69892</th>\n",
              "      <td>69893</td>\n",
              "      <td>2016-08-15</td>\n",
              "      <td>2016-08-17</td>\n",
              "      <td>2106</td>\n",
              "      <td>l</td>\n",
              "      <td>dark denim</td>\n",
              "      <td>39</td>\n",
              "      <td>89.900002</td>\n",
              "      <td>42900</td>\n",
              "      <td>Mr</td>\n",
              "      <td>Lower Saxony</td>\n",
              "      <td>2016-08-16</td>\n",
              "      <td>False</td>\n",
              "      <td>2</td>\n",
              "      <td>52</td>\n",
              "      <td>0</td>\n",
              "    </tr>\n",
              "    <tr>\n",
              "      <th>74582</th>\n",
              "      <td>74583</td>\n",
              "      <td>2016-08-19</td>\n",
              "      <td>2016-09-26</td>\n",
              "      <td>2118</td>\n",
              "      <td>l</td>\n",
              "      <td>beige</td>\n",
              "      <td>39</td>\n",
              "      <td>89.900002</td>\n",
              "      <td>43709</td>\n",
              "      <td>Mr</td>\n",
              "      <td>Schleswig-Holstein</td>\n",
              "      <td>2016-08-20</td>\n",
              "      <td>True</td>\n",
              "      <td>38</td>\n",
              "      <td>52</td>\n",
              "      <td>0</td>\n",
              "    </tr>\n",
              "    <tr>\n",
              "      <th>75331</th>\n",
              "      <td>75332</td>\n",
              "      <td>2016-08-20</td>\n",
              "      <td>2016-08-21</td>\n",
              "      <td>2106</td>\n",
              "      <td>l</td>\n",
              "      <td>denim</td>\n",
              "      <td>39</td>\n",
              "      <td>89.900002</td>\n",
              "      <td>40348</td>\n",
              "      <td>Mr</td>\n",
              "      <td>Rhineland-Palatinate</td>\n",
              "      <td>2016-08-07</td>\n",
              "      <td>False</td>\n",
              "      <td>1</td>\n",
              "      <td>52</td>\n",
              "      <td>0</td>\n",
              "    </tr>\n",
              "    <tr>\n",
              "      <th>79030</th>\n",
              "      <td>79031</td>\n",
              "      <td>2016-08-23</td>\n",
              "      <td>2016-08-27</td>\n",
              "      <td>2106</td>\n",
              "      <td>l</td>\n",
              "      <td>denim</td>\n",
              "      <td>39</td>\n",
              "      <td>89.900002</td>\n",
              "      <td>42227</td>\n",
              "      <td>Mr</td>\n",
              "      <td>Hesse</td>\n",
              "      <td>2016-08-13</td>\n",
              "      <td>True</td>\n",
              "      <td>4</td>\n",
              "      <td>52</td>\n",
              "      <td>0</td>\n",
              "    </tr>\n",
              "  </tbody>\n",
              "</table>\n",
              "<p>100000 rows × 16 columns</p>\n",
              "</div>"
            ],
            "text/plain": [
              "       order_item_id order_date  ... Age  Months registered\n",
              "0                  1 2016-06-22  ...  47                  0\n",
              "6                  7 2016-06-22  ...  46                 15\n",
              "7                  8 2016-06-22  ...  46                 15\n",
              "15                16 2016-06-23  ...  54                  3\n",
              "20                21 2016-06-23  ...  54                  3\n",
              "...              ...        ...  ...  ..                ...\n",
              "69512          69513 2016-08-14  ...  52                  0\n",
              "69892          69893 2016-08-15  ...  52                  0\n",
              "74582          74583 2016-08-19  ...  52                  0\n",
              "75331          75332 2016-08-20  ...  52                  0\n",
              "79030          79031 2016-08-23  ...  52                  0\n",
              "\n",
              "[100000 rows x 16 columns]"
            ]
          },
          "metadata": {
            "tags": []
          },
          "execution_count": 41
        }
      ]
    },
    {
      "cell_type": "code",
      "metadata": {
        "colab": {
          "base_uri": "https://localhost:8080/"
        },
        "id": "ABsD9NER6Y5Y",
        "outputId": "d045e81e-4022-48bc-eb06-72f535edcb26"
      },
      "source": [
        "# see that only strings are left\n",
        "df['item_size'].value_counts()\n"
      ],
      "execution_count": null,
      "outputs": [
        {
          "output_type": "execute_result",
          "data": {
            "text/plain": [
              "l          32838\n",
              "xl         22461\n",
              "m          14183\n",
              "xxl        12742\n",
              "s          10656\n",
              "unsized     5223\n",
              "xxxl        1862\n",
              "xs            35\n",
              "Name: item_size, dtype: int64"
            ]
          },
          "metadata": {
            "tags": []
          },
          "execution_count": 42
        }
      ]
    },
    {
      "cell_type": "code",
      "metadata": {
        "id": "9FwO6Vb9SZ37",
        "colab": {
          "base_uri": "https://localhost:8080/"
        },
        "outputId": "dc6fa72f-ab94-42cc-a428-744d349ed794"
      },
      "source": [
        "# again check the types of the variables\n",
        "df[\"item_size\"]=df[\"item_size\"].astype(\"category\")\n",
        "df.info()\n",
        "df=df.sort_index()"
      ],
      "execution_count": null,
      "outputs": [
        {
          "output_type": "stream",
          "text": [
            "<class 'pandas.core.frame.DataFrame'>\n",
            "Int64Index: 100000 entries, 0 to 79030\n",
            "Data columns (total 16 columns):\n",
            " #   Column             Non-Null Count   Dtype         \n",
            "---  ------             --------------   -----         \n",
            " 0   order_item_id      100000 non-null  int32         \n",
            " 1   order_date         100000 non-null  datetime64[ns]\n",
            " 2   delivery_date      100000 non-null  datetime64[ns]\n",
            " 3   item_id            100000 non-null  int32         \n",
            " 4   item_size          100000 non-null  category      \n",
            " 5   item_color         100000 non-null  category      \n",
            " 6   brand_id           100000 non-null  int32         \n",
            " 7   item_price         100000 non-null  float32       \n",
            " 8   user_id            100000 non-null  int32         \n",
            " 9   user_title         100000 non-null  category      \n",
            " 10  user_state         100000 non-null  category      \n",
            " 11  user_reg_date      100000 non-null  datetime64[ns]\n",
            " 12  return             100000 non-null  bool          \n",
            " 13  Time of delivery   100000 non-null  int32         \n",
            " 14  Age                100000 non-null  int32         \n",
            " 15  Months registered  100000 non-null  int32         \n",
            "dtypes: bool(1), category(4), datetime64[ns](3), float32(1), int32(7)\n",
            "memory usage: 6.6 MB\n"
          ],
          "name": "stdout"
        }
      ]
    },
    {
      "cell_type": "code",
      "metadata": {
        "id": "OpwDlhyTqxN3"
      },
      "source": [
        "# delete unnecessary columns\n",
        "del df[\"order_date\"]\n",
        "del df[\"delivery_date\"]\n",
        "del df[\"user_reg_date\"]\n",
        "del df[\"item_id\"]\n",
        "del df[\"brand_id\"]\n",
        "del df[\"user_id\"]\n",
        "del df[\"order_item_id\"]"
      ],
      "execution_count": null,
      "outputs": []
    },
    {
      "cell_type": "markdown",
      "metadata": {
        "id": "ZYWowGVzXzbc"
      },
      "source": [
        "### Additional inspection\n",
        "\n",
        "Let us inspect the dataset a bit more after the cleaning process by producing relevant graphs and correlation."
      ]
    },
    {
      "cell_type": "code",
      "metadata": {
        "colab": {
          "base_uri": "https://localhost:8080/",
          "height": 562
        },
        "id": "PYFTn6iy1UMU",
        "outputId": "63d394e2-9cd5-431a-916f-532977afa6a9"
      },
      "source": [
        "import numpy as np\n",
        "import matplotlib.pyplot as plt\n",
        "import seaborn as sns\n",
        "\n",
        "fig, ax = plt.subplots(figsize=(9, 9))\n",
        "full_data = df\n",
        "\n",
        "corr = full_data.corr(method=\"pearson\")\n",
        "\n",
        "sns.heatmap(corr,\n",
        "            xticklabels=corr.columns.values,\n",
        "            yticklabels=corr.columns.values,\n",
        "            annot=True,\n",
        "            cmap=\"YlOrBr\");"
      ],
      "execution_count": null,
      "outputs": [
        {
          "output_type": "display_data",
          "data": {
            "image/png": "[encoded data removed]",
            "text/plain": [
              "<Figure size 648x648 with 2 Axes>"
            ]
          },
          "metadata": {
            "tags": [],
            "needs_background": "light"
          }
        }
      ]
    },
    {
      "cell_type": "code",
      "metadata": {
        "colab": {
          "base_uri": "https://localhost:8080/",
          "height": 581
        },
        "id": "nk-HAi5GfnuP",
        "outputId": "81c26da9-5ed1-468f-d98b-8211ac16ae72"
      },
      "source": [
        "df.select_dtypes(include='int32').hist(bins=30, figsize=(15, 10));"
      ],
      "execution_count": null,
      "outputs": [
        {
          "output_type": "display_data",
          "data": {
            "image/png": "[encoded data removed]",
            "text/plain": [
              "<Figure size 1080x720 with 4 Axes>"
            ]
          },
          "metadata": {
            "tags": [],
            "needs_background": "light"
          }
        }
      ]
    },
    {
      "cell_type": "code",
      "metadata": {
        "colab": {
          "base_uri": "https://localhost:8080/",
          "height": 283
        },
        "id": "kiXG1-mYxhYp",
        "outputId": "a4331e87-574d-49ef-d9cb-ffc4fde3211c"
      },
      "source": [
        "df[\"item_price\"].hist(bins=50)"
      ],
      "execution_count": null,
      "outputs": [
        {
          "output_type": "execute_result",
          "data": {
            "text/plain": [
              "<matplotlib.axes._subplots.AxesSubplot at 0x7ff6cce79c90>"
            ]
          },
          "metadata": {
            "tags": []
          },
          "execution_count": 47
        },
        {
          "output_type": "display_data",
          "data": {
            "image/png": "[encoded data removed]",
            "text/plain": [
              "<Figure size 432x288 with 1 Axes>"
            ]
          },
          "metadata": {
            "tags": [],
            "needs_background": "light"
          }
        }
      ]
    },
    {
      "cell_type": "markdown",
      "metadata": {
        "id": "r5nbzochVXUd"
      },
      "source": [
        "Out of all of the essential for the model numerical columns, only Age seems to be normally distributed.\n",
        "\n",
        "Time of delivery and price are skewed to the left, which is expected, as most of the goods take, as was figured out, up to a week to be delivered and the greatest chunk of goods was sold under 100 euros with the max price of less than 400 euros.\n",
        "\n",
        "From the Months registred, it can be derived that most of the items sold come from either new or really old ,in terms of the time being registered, customers. However, new customers take up the greatest share.\n",
        "\n",
        "The variables are so far, roughly slightly correlated with returns. The largest correlation is with the price of the item sold."
      ]
    },
    {
      "cell_type": "markdown",
      "metadata": {
        "id": "qNli27z_UjFX"
      },
      "source": [
        "## Model tuning and selection\n",
        "\n",
        "Next, let us start with the model selcetion and tuning."
      ]
    },
    {
      "cell_type": "code",
      "metadata": {
        "id": "GYPWoruLlVIc"
      },
      "source": [
        "# first split the data with dependent and independent variables\n",
        "y = df[\"return\"]\n",
        "x=df"
      ],
      "execution_count": null,
      "outputs": []
    },
    {
      "cell_type": "code",
      "metadata": {
        "colab": {
          "base_uri": "https://localhost:8080/"
        },
        "id": "u0RM51nnsOBS",
        "outputId": "993dbcf6-1d02-4c97-aeaa-9f3ebd325152"
      },
      "source": [
        "# check the shape\n",
        "print(x.shape, y.shape)\n",
        "\n",
        "# complete the split on the train and test datasets\n",
        "from sklearn.model_selection import train_test_split\n",
        "x_train, x_test, y_train, y_test = train_test_split(x, y, test_size=0.1, random_state=888)"
      ],
      "execution_count": null,
      "outputs": [
        {
          "output_type": "stream",
          "text": [
            "(100000, 9) (100000,)\n"
          ],
          "name": "stdout"
        }
      ]
    },
    {
      "cell_type": "markdown",
      "metadata": {
        "id": "HQdVnzYXZW0L"
      },
      "source": [
        "I decided to use woe instead of dummies for categorical variables encoding to avoid future overfitting.\n",
        "\n",
        "This will be done with the scorecardpy package."
      ]
    },
    {
      "cell_type": "code",
      "metadata": {
        "colab": {
          "base_uri": "https://localhost:8080/"
        },
        "id": "qugbFJei1dJi",
        "outputId": "abcf2717-d704-4ced-8567-a24ab20fa884"
      },
      "source": [
        "!pip install scorecardpy\n",
        "import scorecardpy as sc"
      ],
      "execution_count": null,
      "outputs": [
        {
          "output_type": "stream",
          "text": [
            "Requirement already satisfied: scorecardpy in /usr/local/lib/python3.7/dist-packages (0.1.9.2)\n",
            "Requirement already satisfied: scikit-learn>=0.19.1 in /usr/local/lib/python3.7/dist-packages (from scorecardpy) (0.22.2.post1)\n",
            "Requirement already satisfied: numpy in /usr/local/lib/python3.7/dist-packages (from scorecardpy) (1.19.5)\n",
            "Requirement already satisfied: pandas>=0.25.0 in /usr/local/lib/python3.7/dist-packages (from scorecardpy) (1.1.5)\n",
            "Requirement already satisfied: matplotlib in /usr/local/lib/python3.7/dist-packages (from scorecardpy) (3.2.2)\n",
            "Requirement already satisfied: scipy>=0.17.0 in /usr/local/lib/python3.7/dist-packages (from scikit-learn>=0.19.1->scorecardpy) (1.4.1)\n",
            "Requirement already satisfied: joblib>=0.11 in /usr/local/lib/python3.7/dist-packages (from scikit-learn>=0.19.1->scorecardpy) (1.0.1)\n",
            "Requirement already satisfied: python-dateutil>=2.7.3 in /usr/local/lib/python3.7/dist-packages (from pandas>=0.25.0->scorecardpy) (2.8.1)\n",
            "Requirement already satisfied: pytz>=2017.2 in /usr/local/lib/python3.7/dist-packages (from pandas>=0.25.0->scorecardpy) (2018.9)\n",
            "Requirement already satisfied: kiwisolver>=1.0.1 in /usr/local/lib/python3.7/dist-packages (from matplotlib->scorecardpy) (1.3.1)\n",
            "Requirement already satisfied: pyparsing!=2.0.4,!=2.1.2,!=2.1.6,>=2.0.1 in /usr/local/lib/python3.7/dist-packages (from matplotlib->scorecardpy) (2.4.7)\n",
            "Requirement already satisfied: cycler>=0.10 in /usr/local/lib/python3.7/dist-packages (from matplotlib->scorecardpy) (0.10.0)\n",
            "Requirement already satisfied: six>=1.5 in /usr/local/lib/python3.7/dist-packages (from python-dateutil>=2.7.3->pandas>=0.25.0->scorecardpy) (1.15.0)\n"
          ],
          "name": "stdout"
        }
      ]
    },
    {
      "cell_type": "code",
      "metadata": {
        "colab": {
          "base_uri": "https://localhost:8080/",
          "height": 294
        },
        "id": "iiCrO8Rv2PHs",
        "outputId": "622fc6b9-b831-4834-89f4-76edd4873bb3"
      },
      "source": [
        "# first check the informational value of each of the columns of the dataset subject to the prediction\n",
        "# of the return column\n",
        "sc.iv(x_train, y=\"return\", x=['item_color', \"user_title\", \"item_size\", \"user_state\",\"Time of delivery\", \"item_price\", \"Age\", \"Months registered\"])"
      ],
      "execution_count": null,
      "outputs": [
        {
          "output_type": "execute_result",
          "data": {
            "text/html": [
              "<div>\n",
              "<style scoped>\n",
              "    .dataframe tbody tr th:only-of-type {\n",
              "        vertical-align: middle;\n",
              "    }\n",
              "\n",
              "    .dataframe tbody tr th {\n",
              "        vertical-align: top;\n",
              "    }\n",
              "\n",
              "    .dataframe thead th {\n",
              "        text-align: right;\n",
              "    }\n",
              "</style>\n",
              "<table border=\"1\" class=\"dataframe\">\n",
              "  <thead>\n",
              "    <tr style=\"text-align: right;\">\n",
              "      <th></th>\n",
              "      <th>variable</th>\n",
              "      <th>info_value</th>\n",
              "    </tr>\n",
              "  </thead>\n",
              "  <tbody>\n",
              "    <tr>\n",
              "      <th>4</th>\n",
              "      <td>Time of delivery</td>\n",
              "      <td>0.432332</td>\n",
              "    </tr>\n",
              "    <tr>\n",
              "      <th>5</th>\n",
              "      <td>item_price</td>\n",
              "      <td>0.175206</td>\n",
              "    </tr>\n",
              "    <tr>\n",
              "      <th>0</th>\n",
              "      <td>item_color</td>\n",
              "      <td>0.034743</td>\n",
              "    </tr>\n",
              "    <tr>\n",
              "      <th>2</th>\n",
              "      <td>item_size</td>\n",
              "      <td>0.032988</td>\n",
              "    </tr>\n",
              "    <tr>\n",
              "      <th>6</th>\n",
              "      <td>Age</td>\n",
              "      <td>0.024642</td>\n",
              "    </tr>\n",
              "    <tr>\n",
              "      <th>7</th>\n",
              "      <td>Months registered</td>\n",
              "      <td>0.015971</td>\n",
              "    </tr>\n",
              "    <tr>\n",
              "      <th>3</th>\n",
              "      <td>user_state</td>\n",
              "      <td>0.002059</td>\n",
              "    </tr>\n",
              "    <tr>\n",
              "      <th>1</th>\n",
              "      <td>user_title</td>\n",
              "      <td>0.001701</td>\n",
              "    </tr>\n",
              "  </tbody>\n",
              "</table>\n",
              "</div>"
            ],
            "text/plain": [
              "            variable  info_value\n",
              "4   Time of delivery    0.432332\n",
              "5         item_price    0.175206\n",
              "0         item_color    0.034743\n",
              "2          item_size    0.032988\n",
              "6                Age    0.024642\n",
              "7  Months registered    0.015971\n",
              "3         user_state    0.002059\n",
              "1         user_title    0.001701"
            ]
          },
          "metadata": {
            "tags": []
          },
          "execution_count": 51
        }
      ]
    },
    {
      "cell_type": "markdown",
      "metadata": {
        "id": "zFYo-UJSZ_-5"
      },
      "source": [
        "As can be seen from above, for the present state of the data title, state and months registered bear no significance for the prediction as they are below the threshold of 0.02. I decided to subsequently exclude them and to bin the remaining columns."
      ]
    },
    {
      "cell_type": "code",
      "metadata": {
        "colab": {
          "base_uri": "https://localhost:8080/"
        },
        "id": "dzObEU1m1fLx",
        "outputId": "b5e4bb39-70bc-4858-b31f-f17d21496def"
      },
      "source": [
        "bins_regression = sc.woebin(x_train, y=\"return\", x=['item_color', \"item_size\", \"Time of delivery\", \"item_price\", \"Age\"])"
      ],
      "execution_count": null,
      "outputs": [
        {
          "output_type": "stream",
          "text": [
            "[INFO] creating woe binning ...\n",
            ">>> There are 1 variables have too many unique non-numberic values, which might cause the binning process slow. Please double check the following variables: \n",
            "item_color\n",
            ">>> Continue the binning process?\n",
            "1: yes \n",
            "2: no\n",
            "Selection: 1\n"
          ],
          "name": "stdout"
        },
        {
          "output_type": "stream",
          "text": [
            "/usr/local/lib/python3.7/dist-packages/scorecardpy/woebin.py:437: SettingWithCopyWarning: \n",
            "A value is trying to be set on a copy of a slice from a DataFrame.\n",
            "Try using .loc[row_indexer,col_indexer] = value instead\n",
            "\n",
            "See the caveats in the documentation: https://pandas.pydata.org/pandas-docs/stable/user_guide/indexing.html#returning-a-view-versus-a-copy\n",
            "  binning_1bst_brk['total_iv'] = iv_01(binning_1bst_brk.good, binning_1bst_brk.bad)\n",
            "/usr/local/lib/python3.7/dist-packages/scorecardpy/woebin.py:438: SettingWithCopyWarning: \n",
            "A value is trying to be set on a copy of a slice from a DataFrame.\n",
            "Try using .loc[row_indexer,col_indexer] = value instead\n",
            "\n",
            "See the caveats in the documentation: https://pandas.pydata.org/pandas-docs/stable/user_guide/indexing.html#returning-a-view-versus-a-copy\n",
            "  binning_1bst_brk['bstbrkp'] = [float(re.match(\"^\\[(.*),.+\", i).group(1)) for i in binning_1bst_brk['bstbin']]\n"
          ],
          "name": "stderr"
        },
        {
          "output_type": "stream",
          "text": [
            "Binning on 90000 rows and 6 columns in 00:00:49\n"
          ],
          "name": "stdout"
        }
      ]
    },
    {
      "cell_type": "code",
      "metadata": {
        "id": "yxWYV28J2I_T",
        "colab": {
          "base_uri": "https://localhost:8080/"
        },
        "outputId": "e9cd65d9-3226-404e-e9c1-247064d75dab"
      },
      "source": [
        "# scorecardpy binned numerical variables. It also performed binning for the numerical columns\n",
        "bins_regression"
      ],
      "execution_count": null,
      "outputs": [
        {
          "output_type": "execute_result",
          "data": {
            "text/plain": [
              "{'Age':   variable          bin  count  ...  total_iv  breaks  is_special_values\n",
              " 0      Age  [-inf,45.0)  17146  ...  0.010749    45.0              False\n",
              " 1      Age  [45.0,51.0)  21851  ...  0.010749    51.0              False\n",
              " 2      Age  [51.0,55.0)  23289  ...  0.010749    55.0              False\n",
              " 3      Age   [55.0,inf)  27714  ...  0.010749     inf              False\n",
              " \n",
              " [4 rows x 12 columns],\n",
              " 'Time of delivery':            variable         bin  count  ...  total_iv  breaks  is_special_values\n",
              " 0  Time of delivery  [-inf,3.0)  32186  ...  0.423153     3.0              False\n",
              " 1  Time of delivery   [3.0,7.0)  32650  ...  0.423153     7.0              False\n",
              " 2  Time of delivery   [7.0,8.0)  10436  ...  0.423153     8.0              False\n",
              " 3  Time of delivery   [8.0,inf)  14728  ...  0.423153     inf              False\n",
              " \n",
              " [4 rows x 12 columns],\n",
              " 'item_color':      variable  ... is_special_values\n",
              " 0  item_color  ...             False\n",
              " 1  item_color  ...             False\n",
              " 2  item_color  ...             False\n",
              " 3  item_color  ...             False\n",
              " \n",
              " [4 rows x 12 columns],\n",
              " 'item_price':      variable          bin  count  ...  total_iv  breaks  is_special_values\n",
              " 0  item_price  [-inf,15.0)   5038  ...  0.115767    15.0              False\n",
              " 1  item_price  [15.0,30.0)  17783  ...  0.115767    30.0              False\n",
              " 2  item_price  [30.0,55.0)  24680  ...  0.115767    55.0              False\n",
              " 3  item_price   [55.0,inf)  42499  ...  0.115767     inf              False\n",
              " \n",
              " [4 rows x 12 columns],\n",
              " 'item_size':     variable              bin  ...           breaks  is_special_values\n",
              " 0  item_size        l%,%m%,%s  ...        l%,%m%,%s              False\n",
              " 1  item_size          unsized  ...          unsized              False\n",
              " 2  item_size               xl  ...               xl              False\n",
              " 3  item_size  xs%,%xxl%,%xxxl  ...  xs%,%xxl%,%xxxl              False\n",
              " \n",
              " [4 rows x 12 columns]}"
            ]
          },
          "metadata": {
            "tags": []
          },
          "execution_count": 53
        }
      ]
    },
    {
      "cell_type": "code",
      "metadata": {
        "id": "bnzzHv8e15qL",
        "colab": {
          "base_uri": "https://localhost:8080/"
        },
        "outputId": "9d2108df-cccf-41da-b218-f29c09441f18"
      },
      "source": [
        "# substitute entries in the train and test subsets with the bins\n",
        "x_woe_train = sc.woebin_ply(x_train, bins_regression)\n",
        "x_woe_test = sc.woebin_ply(x_test, bins_regression)"
      ],
      "execution_count": null,
      "outputs": [
        {
          "output_type": "stream",
          "text": [
            "[INFO] converting into woe values ...\n"
          ],
          "name": "stdout"
        },
        {
          "output_type": "stream",
          "text": [
            "/usr/local/lib/python3.7/dist-packages/pandas/core/indexing.py:1781: SettingWithCopyWarning: \n",
            "A value is trying to be set on a copy of a slice from a DataFrame.\n",
            "Try using .loc[row_indexer,col_indexer] = value instead\n",
            "\n",
            "See the caveats in the documentation: https://pandas.pydata.org/pandas-docs/stable/user_guide/indexing.html#returning-a-view-versus-a-copy\n",
            "  self.obj[item_labels[indexer[info_axis]]] = value\n"
          ],
          "name": "stderr"
        },
        {
          "output_type": "stream",
          "text": [
            "[INFO] converting into woe values ...\n"
          ],
          "name": "stdout"
        }
      ]
    },
    {
      "cell_type": "code",
      "metadata": {
        "id": "fTmuyFFjm2EE",
        "colab": {
          "base_uri": "https://localhost:8080/",
          "height": 557
        },
        "outputId": "ba5bf58e-94be-4cab-84eb-ad27714dcfbb"
      },
      "source": [
        "# see that the bins were applied to the subset\n",
        "x_woe_train"
      ],
      "execution_count": null,
      "outputs": [
        {
          "output_type": "execute_result",
          "data": {
            "text/html": [
              "<div>\n",
              "<style scoped>\n",
              "    .dataframe tbody tr th:only-of-type {\n",
              "        vertical-align: middle;\n",
              "    }\n",
              "\n",
              "    .dataframe tbody tr th {\n",
              "        vertical-align: top;\n",
              "    }\n",
              "\n",
              "    .dataframe thead th {\n",
              "        text-align: right;\n",
              "    }\n",
              "</style>\n",
              "<table border=\"1\" class=\"dataframe\">\n",
              "  <thead>\n",
              "    <tr style=\"text-align: right;\">\n",
              "      <th></th>\n",
              "      <th>return</th>\n",
              "      <th>user_state</th>\n",
              "      <th>user_title</th>\n",
              "      <th>Months registered</th>\n",
              "      <th>Age_woe</th>\n",
              "      <th>Time of delivery_woe</th>\n",
              "      <th>item_size_woe</th>\n",
              "      <th>item_price_woe</th>\n",
              "      <th>item_color_woe</th>\n",
              "    </tr>\n",
              "  </thead>\n",
              "  <tbody>\n",
              "    <tr>\n",
              "      <th>0</th>\n",
              "      <td>False</td>\n",
              "      <td>Saxony</td>\n",
              "      <td>Mrs</td>\n",
              "      <td>0</td>\n",
              "      <td>0.067757</td>\n",
              "      <td>0.288391</td>\n",
              "      <td>0.042700</td>\n",
              "      <td>-0.050224</td>\n",
              "      <td>-0.089459</td>\n",
              "    </tr>\n",
              "    <tr>\n",
              "      <th>1</th>\n",
              "      <td>False</td>\n",
              "      <td>Saxony</td>\n",
              "      <td>Mrs</td>\n",
              "      <td>0</td>\n",
              "      <td>0.067757</td>\n",
              "      <td>-2.200177</td>\n",
              "      <td>-0.032039</td>\n",
              "      <td>-0.409709</td>\n",
              "      <td>0.010523</td>\n",
              "    </tr>\n",
              "    <tr>\n",
              "      <th>2</th>\n",
              "      <td>True</td>\n",
              "      <td>Baden-Wuerttemberg</td>\n",
              "      <td>Mrs</td>\n",
              "      <td>15</td>\n",
              "      <td>0.067757</td>\n",
              "      <td>0.288391</td>\n",
              "      <td>-0.032039</td>\n",
              "      <td>0.291923</td>\n",
              "      <td>0.010523</td>\n",
              "    </tr>\n",
              "    <tr>\n",
              "      <th>3</th>\n",
              "      <td>False</td>\n",
              "      <td>Baden-Wuerttemberg</td>\n",
              "      <td>Mrs</td>\n",
              "      <td>15</td>\n",
              "      <td>0.067757</td>\n",
              "      <td>0.288391</td>\n",
              "      <td>-0.032039</td>\n",
              "      <td>0.291923</td>\n",
              "      <td>0.010523</td>\n",
              "    </tr>\n",
              "    <tr>\n",
              "      <th>4</th>\n",
              "      <td>True</td>\n",
              "      <td>Baden-Wuerttemberg</td>\n",
              "      <td>Mrs</td>\n",
              "      <td>15</td>\n",
              "      <td>0.067757</td>\n",
              "      <td>0.288391</td>\n",
              "      <td>-0.032039</td>\n",
              "      <td>-0.916623</td>\n",
              "      <td>0.010523</td>\n",
              "    </tr>\n",
              "    <tr>\n",
              "      <th>...</th>\n",
              "      <td>...</td>\n",
              "      <td>...</td>\n",
              "      <td>...</td>\n",
              "      <td>...</td>\n",
              "      <td>...</td>\n",
              "      <td>...</td>\n",
              "      <td>...</td>\n",
              "      <td>...</td>\n",
              "      <td>...</td>\n",
              "    </tr>\n",
              "    <tr>\n",
              "      <th>99995</th>\n",
              "      <td>False</td>\n",
              "      <td>Rhineland-Palatinate</td>\n",
              "      <td>Mrs</td>\n",
              "      <td>19</td>\n",
              "      <td>-0.131186</td>\n",
              "      <td>0.162586</td>\n",
              "      <td>0.042700</td>\n",
              "      <td>-0.409709</td>\n",
              "      <td>0.080077</td>\n",
              "    </tr>\n",
              "    <tr>\n",
              "      <th>99996</th>\n",
              "      <td>False</td>\n",
              "      <td>Rhineland-Palatinate</td>\n",
              "      <td>Mrs</td>\n",
              "      <td>19</td>\n",
              "      <td>-0.131186</td>\n",
              "      <td>0.162586</td>\n",
              "      <td>0.042700</td>\n",
              "      <td>-0.409709</td>\n",
              "      <td>0.080077</td>\n",
              "    </tr>\n",
              "    <tr>\n",
              "      <th>99997</th>\n",
              "      <td>False</td>\n",
              "      <td>Hamburg</td>\n",
              "      <td>Mr</td>\n",
              "      <td>0</td>\n",
              "      <td>0.149436</td>\n",
              "      <td>-2.200177</td>\n",
              "      <td>-0.032039</td>\n",
              "      <td>-0.409709</td>\n",
              "      <td>0.080077</td>\n",
              "    </tr>\n",
              "    <tr>\n",
              "      <th>99998</th>\n",
              "      <td>False</td>\n",
              "      <td>Hamburg</td>\n",
              "      <td>Mr</td>\n",
              "      <td>0</td>\n",
              "      <td>0.149436</td>\n",
              "      <td>-2.200177</td>\n",
              "      <td>-0.032039</td>\n",
              "      <td>-0.409709</td>\n",
              "      <td>0.080077</td>\n",
              "    </tr>\n",
              "    <tr>\n",
              "      <th>99999</th>\n",
              "      <td>False</td>\n",
              "      <td>Lower Saxony</td>\n",
              "      <td>Mrs</td>\n",
              "      <td>19</td>\n",
              "      <td>0.149436</td>\n",
              "      <td>0.063052</td>\n",
              "      <td>0.042700</td>\n",
              "      <td>-0.409709</td>\n",
              "      <td>0.010523</td>\n",
              "    </tr>\n",
              "  </tbody>\n",
              "</table>\n",
              "<p>90000 rows × 9 columns</p>\n",
              "</div>"
            ],
            "text/plain": [
              "       return            user_state  ... item_price_woe  item_color_woe\n",
              "0       False                Saxony  ...      -0.050224       -0.089459\n",
              "1       False                Saxony  ...      -0.409709        0.010523\n",
              "2        True    Baden-Wuerttemberg  ...       0.291923        0.010523\n",
              "3       False    Baden-Wuerttemberg  ...       0.291923        0.010523\n",
              "4        True    Baden-Wuerttemberg  ...      -0.916623        0.010523\n",
              "...       ...                   ...  ...            ...             ...\n",
              "99995   False  Rhineland-Palatinate  ...      -0.409709        0.080077\n",
              "99996   False  Rhineland-Palatinate  ...      -0.409709        0.080077\n",
              "99997   False               Hamburg  ...      -0.409709        0.080077\n",
              "99998   False               Hamburg  ...      -0.409709        0.080077\n",
              "99999   False          Lower Saxony  ...      -0.409709        0.010523\n",
              "\n",
              "[90000 rows x 9 columns]"
            ]
          },
          "metadata": {
            "tags": []
          },
          "execution_count": 55
        }
      ]
    },
    {
      "cell_type": "code",
      "metadata": {
        "id": "MycKWu0E7e8p",
        "colab": {
          "base_uri": "https://localhost:8080/"
        },
        "outputId": "3f868add-2198-4cc3-be88-27793f87aaf6"
      },
      "source": [
        "# delete return from the subsets with independent variables\n",
        "import statsmodels.api as sm\n",
        "del x_woe_train[\"return\"]\n",
        "del x_woe_test[\"return\"]"
      ],
      "execution_count": null,
      "outputs": [
        {
          "output_type": "stream",
          "text": [
            "/usr/local/lib/python3.7/dist-packages/statsmodels/tools/_testing.py:19: FutureWarning: pandas.util.testing is deprecated. Use the functions in the public API at pandas.testing instead.\n",
            "  import pandas.util.testing as tm\n"
          ],
          "name": "stderr"
        }
      ]
    },
    {
      "cell_type": "code",
      "metadata": {
        "id": "N1MWBMc7_GEG"
      },
      "source": [
        "# delete unncessary columns\n",
        "del x_woe_train[\"user_title\"]\n",
        "del x_woe_test[\"user_title\"]\n",
        "del x_woe_train[\"user_state\"]\n",
        "del x_woe_test[\"user_state\"]\n",
        "del x_woe_train[\"Months registered\"]\n",
        "del x_woe_test[\"Months registered\"]"
      ],
      "execution_count": null,
      "outputs": []
    },
    {
      "cell_type": "markdown",
      "metadata": {
        "id": "tvBTOtoWc6P1"
      },
      "source": [
        "I decided to use logistic regression for the model due to its ease of implementation.\n",
        "\n",
        "1. I expect there to be quite a lot of noise with the dataset\n",
        "2. It is less prone to overfitting"
      ]
    },
    {
      "cell_type": "code",
      "metadata": {
        "id": "lRMEftuP9CHv",
        "colab": {
          "base_uri": "https://localhost:8080/"
        },
        "outputId": "d16cf5a8-1ac6-43ba-b25e-bf152d7cebac"
      },
      "source": [
        "# train the model without pripr setting of the parameters\n",
        "log_reg_woe = sm.Logit(y_train.sort_index(), x_woe_train.astype(float)).fit()"
      ],
      "execution_count": null,
      "outputs": [
        {
          "output_type": "stream",
          "text": [
            "Optimization terminated successfully.\n",
            "         Current function value: 0.632901\n",
            "         Iterations 6\n"
          ],
          "name": "stdout"
        }
      ]
    },
    {
      "cell_type": "code",
      "metadata": {
        "id": "cAwZMvZ8_btu",
        "colab": {
          "base_uri": "https://localhost:8080/"
        },
        "outputId": "6e5dc8c3-faea-4996-f6ce-1b2a3f3ab2a2"
      },
      "source": [
        "print(log_reg_woe.summary())"
      ],
      "execution_count": null,
      "outputs": [
        {
          "output_type": "stream",
          "text": [
            "                           Logit Regression Results                           \n",
            "==============================================================================\n",
            "Dep. Variable:                 return   No. Observations:                90000\n",
            "Model:                          Logit   Df Residuals:                    89995\n",
            "Method:                           MLE   Df Model:                            4\n",
            "Date:                Fri, 30 Apr 2021   Pseudo R-squ.:                 0.08222\n",
            "Time:                        21:09:43   Log-Likelihood:                -56961.\n",
            "converged:                       True   LL-Null:                       -62064.\n",
            "Covariance Type:            nonrobust   LLR p-value:                     0.000\n",
            "========================================================================================\n",
            "                           coef    std err          z      P>|z|      [0.025      0.975]\n",
            "----------------------------------------------------------------------------------------\n",
            "Age_woe                  1.1364      0.068     16.645      0.000       1.003       1.270\n",
            "Time of delivery_woe     0.9520      0.013     72.376      0.000       0.926       0.978\n",
            "item_size_woe            0.5817      0.041     14.171      0.000       0.501       0.662\n",
            "item_price_woe           0.9079      0.022     41.672      0.000       0.865       0.951\n",
            "item_color_woe           0.1730      0.093      1.858      0.063      -0.010       0.356\n",
            "========================================================================================\n"
          ],
          "name": "stdout"
        }
      ]
    },
    {
      "cell_type": "markdown",
      "metadata": {
        "id": "Ku1qOJVodm-8"
      },
      "source": [
        "The coefficients represent a reasonable amount of significance with a low standard error. Let us estimate auc."
      ]
    },
    {
      "cell_type": "code",
      "metadata": {
        "id": "PmowPj__WK_i"
      },
      "source": [
        "# predict y for the test subset\n",
        "from sklearn.metrics import roc_auc_score\n",
        "y_pred = log_reg_woe.predict(x_woe_test.astype(float))"
      ],
      "execution_count": null,
      "outputs": []
    },
    {
      "cell_type": "code",
      "metadata": {
        "id": "jOWWhJ2zLRmh",
        "colab": {
          "base_uri": "https://localhost:8080/"
        },
        "outputId": "6979f4ff-488a-4827-9009-1320ac6c19ec"
      },
      "source": [
        "# calculate auc\n",
        "import sklearn.metrics as metrics\n",
        "fpr_logit, tpr_logit, thresholds = metrics.roc_curve(y_test.sort_index(), y_pred)\n",
        "auc_logit = metrics.auc(fpr_logit, tpr_logit)\n",
        "auc_logit"
      ],
      "execution_count": null,
      "outputs": [
        {
          "output_type": "execute_result",
          "data": {
            "text/plain": [
              "0.6720615896181976"
            ]
          },
          "metadata": {
            "tags": []
          },
          "execution_count": 61
        }
      ]
    },
    {
      "cell_type": "markdown",
      "metadata": {
        "id": "M4ZNw2vSfhYo"
      },
      "source": [
        "Let us plot auc_roc curve for a graphical representation."
      ]
    },
    {
      "cell_type": "code",
      "metadata": {
        "id": "lW3ay9b0LlFN",
        "colab": {
          "base_uri": "https://localhost:8080/",
          "height": 295
        },
        "outputId": "46ca890a-ae83-4422-f2f9-f0f8f2a09da7"
      },
      "source": [
        "#Plot of AUC\n",
        "plt.plot(fpr_logit, tpr_logit, label=\"Logit= %0.4f\" % auc_logit, color='b')\n",
        "\n",
        "#Random benchmark\n",
        "plt.plot([0, 1], [0, 1], \"r--\");\n",
        "\n",
        "#Plot configuration\n",
        "plt.title('ROC Curve for Logit on Test Set')\n",
        "plt.ylabel(\"True Positive Rate\")\n",
        "plt.xlabel(\"False Positive Rate\")\n",
        "plt.legend(loc=\"lower right\")\n",
        "plt.show()"
      ],
      "execution_count": null,
      "outputs": [
        {
          "output_type": "display_data",
          "data": {
            "image/png": "[encoded data removed]",
            "text/plain": [
              "<Figure size 432x288 with 1 Axes>"
            ]
          },
          "metadata": {
            "tags": [],
            "needs_background": "light"
          }
        }
      ]
    },
    {
      "cell_type": "markdown",
      "metadata": {
        "id": "xPx1FETAfvPb"
      },
      "source": [
        "However, it is possile that the logistic regression does not use the most optimal parameters in its estimation. I will use Grid Search below to estimate the most appropriate tuning parameters."
      ]
    },
    {
      "cell_type": "code",
      "metadata": {
        "id": "QTqr5YUOTQG3",
        "colab": {
          "base_uri": "https://localhost:8080/"
        },
        "outputId": "d4058627-cc56-4cdd-88a4-a51b50ac1391"
      },
      "source": [
        "from sklearn.ensemble import RandomForestClassifier\n",
        "from sklearn.model_selection import GridSearchCV\n",
        "from sklearn.linear_model import LogisticRegression\n",
        "\n",
        "tuned_parameters = [{'solver': [\"lbfgs\", \"saga\", \"sag\"],\n",
        "                     'penalty': [\"l1\", \"l2\", \"elasticnet\"]}] # you could also take min_samples_split, max_features...\n",
        "\n",
        "grid_search = GridSearchCV(\n",
        "        LogisticRegression(),\n",
        "        param_grid=tuned_parameters\n",
        "        )\n",
        "grid_search.fit(x_woe_train, y_train.sort_index())"
      ],
      "execution_count": null,
      "outputs": [
        {
          "output_type": "stream",
          "text": [
            "/usr/local/lib/python3.7/dist-packages/sklearn/model_selection/_validation.py:536: FitFailedWarning: Estimator fit failed. The score on this train-test partition for these parameters will be set to nan. Details: \n",
            "ValueError: Solver lbfgs supports only 'l2' or 'none' penalties, got l1 penalty.\n",
            "\n",
            "  FitFailedWarning)\n",
            "/usr/local/lib/python3.7/dist-packages/sklearn/model_selection/_validation.py:536: FitFailedWarning: Estimator fit failed. The score on this train-test partition for these parameters will be set to nan. Details: \n",
            "ValueError: Solver sag supports only 'l2' or 'none' penalties, got l1 penalty.\n",
            "\n",
            "  FitFailedWarning)\n",
            "/usr/local/lib/python3.7/dist-packages/sklearn/model_selection/_validation.py:536: FitFailedWarning: Estimator fit failed. The score on this train-test partition for these parameters will be set to nan. Details: \n",
            "ValueError: Solver lbfgs supports only 'l2' or 'none' penalties, got elasticnet penalty.\n",
            "\n",
            "  FitFailedWarning)\n",
            "/usr/local/lib/python3.7/dist-packages/sklearn/model_selection/_validation.py:536: FitFailedWarning: Estimator fit failed. The score on this train-test partition for these parameters will be set to nan. Details: \n",
            "ValueError: l1_ratio must be between 0 and 1; got (l1_ratio=None)\n",
            "\n",
            "  FitFailedWarning)\n",
            "/usr/local/lib/python3.7/dist-packages/sklearn/model_selection/_validation.py:536: FitFailedWarning: Estimator fit failed. The score on this train-test partition for these parameters will be set to nan. Details: \n",
            "ValueError: Solver sag supports only 'l2' or 'none' penalties, got elasticnet penalty.\n",
            "\n",
            "  FitFailedWarning)\n"
          ],
          "name": "stderr"
        },
        {
          "output_type": "execute_result",
          "data": {
            "text/plain": [
              "GridSearchCV(cv=None, error_score=nan,\n",
              "             estimator=LogisticRegression(C=1.0, class_weight=None, dual=False,\n",
              "                                          fit_intercept=True,\n",
              "                                          intercept_scaling=1, l1_ratio=None,\n",
              "                                          max_iter=100, multi_class='auto',\n",
              "                                          n_jobs=None, penalty='l2',\n",
              "                                          random_state=None, solver='lbfgs',\n",
              "                                          tol=0.0001, verbose=0,\n",
              "                                          warm_start=False),\n",
              "             iid='deprecated', n_jobs=None,\n",
              "             param_grid=[{'penalty': ['l1', 'l2', 'elasticnet'],\n",
              "                          'solver': ['lbfgs', 'saga', 'sag']}],\n",
              "             pre_dispatch='2*n_jobs', refit=True, return_train_score=False,\n",
              "             scoring=None, verbose=0)"
            ]
          },
          "metadata": {
            "tags": []
          },
          "execution_count": 63
        }
      ]
    },
    {
      "cell_type": "code",
      "metadata": {
        "id": "p-r5gmmpUc0U",
        "colab": {
          "base_uri": "https://localhost:8080/"
        },
        "outputId": "818a2222-b745-4d64-e080-83af22877233"
      },
      "source": [
        "# print optimal parameters\n",
        "print(grid_search.best_params_)"
      ],
      "execution_count": null,
      "outputs": [
        {
          "output_type": "stream",
          "text": [
            "{'penalty': 'l2', 'solver': 'lbfgs'}\n"
          ],
          "name": "stdout"
        }
      ]
    },
    {
      "cell_type": "code",
      "metadata": {
        "id": "4e2Xgsm-bRBk",
        "colab": {
          "base_uri": "https://localhost:8080/"
        },
        "outputId": "825f156a-2f01-4e85-8b0a-8b94c3012866"
      },
      "source": [
        "# use the parameters to create a new model\n",
        "log= LogisticRegression(penalty=\"l2\", solver=\"lbfgs\")\n",
        "log.fit(x_woe_train.astype(float), y_train.sort_index())\n",
        "log"
      ],
      "execution_count": null,
      "outputs": [
        {
          "output_type": "execute_result",
          "data": {
            "text/plain": [
              "LogisticRegression(C=1.0, class_weight=None, dual=False, fit_intercept=True,\n",
              "                   intercept_scaling=1, l1_ratio=None, max_iter=100,\n",
              "                   multi_class='auto', n_jobs=None, penalty='l2',\n",
              "                   random_state=None, solver='lbfgs', tol=0.0001, verbose=0,\n",
              "                   warm_start=False)"
            ]
          },
          "metadata": {
            "tags": []
          },
          "execution_count": 65
        }
      ]
    },
    {
      "cell_type": "code",
      "metadata": {
        "colab": {
          "base_uri": "https://localhost:8080/"
        },
        "id": "7OMpaxrWd9Jz",
        "outputId": "6a849dec-d510-443e-cb91-6c73a884e73e"
      },
      "source": [
        "# check auc score\n",
        "yhat=log.predict_proba(x_woe_test)\n",
        "yhat = yhat[:, 1]\n",
        "fpr, tpr, thresholds = metrics.roc_curve(y_test.sort_index(), yhat)\n",
        "auc_logit = metrics.auc(fpr, tpr)\n",
        "auc_logit"
      ],
      "execution_count": null,
      "outputs": [
        {
          "output_type": "execute_result",
          "data": {
            "text/plain": [
              "0.6722083764614437"
            ]
          },
          "metadata": {
            "tags": []
          },
          "execution_count": 66
        }
      ]
    },
    {
      "cell_type": "markdown",
      "metadata": {
        "id": "DHU6rxVegas9"
      },
      "source": [
        "As we can see above, the auc score did not change that much. However, the parameters should be optimal.\n",
        "Let us, however, calculate an optimal threshold to be used for model estimation and for the prediction of the unknown data to be submitted with this notebook."
      ]
    },
    {
      "cell_type": "code",
      "metadata": {
        "colab": {
          "base_uri": "https://localhost:8080/"
        },
        "id": "jOehrG3Qh1pz",
        "outputId": "ed506770-340b-402a-b177-02cfb623033c"
      },
      "source": [
        "# calculate efficient threshold\n",
        "print(thresholds[np.argmin((1 - tpr) ** 2 + fpr ** 2)])"
      ],
      "execution_count": null,
      "outputs": [
        {
          "output_type": "stream",
          "text": [
            "0.49729490169236545\n"
          ],
          "name": "stdout"
        }
      ]
    },
    {
      "cell_type": "code",
      "metadata": {
        "id": "bSyOeDcU3QJK"
      },
      "source": [
        "# set a threshold as a delimiter between zeroes and ones\n",
        "from sklearn.linear_model import LogisticRegression\n",
        "from sklearn.metrics import accuracy_score, confusion_matrix, roc_auc_score\n",
        "THRESHOLD = 0.4972949016923658\n",
        "y_test=pd.DataFrame(y_test, columns = ['return'])\n",
        "\n",
        "y_test[\"preds\"] = log.predict_proba(x_woe_test)[:,1]\n",
        "y_test[\"preds\"] = np.where(y_test[\"preds\"] > THRESHOLD, 1, 0)"
      ],
      "execution_count": null,
      "outputs": []
    },
    {
      "cell_type": "code",
      "metadata": {
        "colab": {
          "base_uri": "https://localhost:8080/",
          "height": 415
        },
        "id": "L2pcXQ3U2ylb",
        "outputId": "79906f11-2939-4993-9aab-4f6ed9523d77"
      },
      "source": [
        "# check\n",
        "y_test"
      ],
      "execution_count": null,
      "outputs": [
        {
          "output_type": "execute_result",
          "data": {
            "text/html": [
              "<div>\n",
              "<style scoped>\n",
              "    .dataframe tbody tr th:only-of-type {\n",
              "        vertical-align: middle;\n",
              "    }\n",
              "\n",
              "    .dataframe tbody tr th {\n",
              "        vertical-align: top;\n",
              "    }\n",
              "\n",
              "    .dataframe thead th {\n",
              "        text-align: right;\n",
              "    }\n",
              "</style>\n",
              "<table border=\"1\" class=\"dataframe\">\n",
              "  <thead>\n",
              "    <tr style=\"text-align: right;\">\n",
              "      <th></th>\n",
              "      <th>return</th>\n",
              "      <th>preds</th>\n",
              "    </tr>\n",
              "  </thead>\n",
              "  <tbody>\n",
              "    <tr>\n",
              "      <th>77795</th>\n",
              "      <td>False</td>\n",
              "      <td>1</td>\n",
              "    </tr>\n",
              "    <tr>\n",
              "      <th>11189</th>\n",
              "      <td>True</td>\n",
              "      <td>0</td>\n",
              "    </tr>\n",
              "    <tr>\n",
              "      <th>84792</th>\n",
              "      <td>True</td>\n",
              "      <td>0</td>\n",
              "    </tr>\n",
              "    <tr>\n",
              "      <th>97619</th>\n",
              "      <td>False</td>\n",
              "      <td>0</td>\n",
              "    </tr>\n",
              "    <tr>\n",
              "      <th>79593</th>\n",
              "      <td>True</td>\n",
              "      <td>1</td>\n",
              "    </tr>\n",
              "    <tr>\n",
              "      <th>...</th>\n",
              "      <td>...</td>\n",
              "      <td>...</td>\n",
              "    </tr>\n",
              "    <tr>\n",
              "      <th>61582</th>\n",
              "      <td>True</td>\n",
              "      <td>1</td>\n",
              "    </tr>\n",
              "    <tr>\n",
              "      <th>580</th>\n",
              "      <td>True</td>\n",
              "      <td>1</td>\n",
              "    </tr>\n",
              "    <tr>\n",
              "      <th>3833</th>\n",
              "      <td>False</td>\n",
              "      <td>1</td>\n",
              "    </tr>\n",
              "    <tr>\n",
              "      <th>49093</th>\n",
              "      <td>True</td>\n",
              "      <td>1</td>\n",
              "    </tr>\n",
              "    <tr>\n",
              "      <th>68299</th>\n",
              "      <td>False</td>\n",
              "      <td>1</td>\n",
              "    </tr>\n",
              "  </tbody>\n",
              "</table>\n",
              "<p>10000 rows × 2 columns</p>\n",
              "</div>"
            ],
            "text/plain": [
              "       return  preds\n",
              "77795   False      1\n",
              "11189    True      0\n",
              "84792    True      0\n",
              "97619   False      0\n",
              "79593    True      1\n",
              "...       ...    ...\n",
              "61582    True      1\n",
              "580      True      1\n",
              "3833    False      1\n",
              "49093    True      1\n",
              "68299   False      1\n",
              "\n",
              "[10000 rows x 2 columns]"
            ]
          },
          "metadata": {
            "tags": []
          },
          "execution_count": 69
        }
      ]
    },
    {
      "cell_type": "markdown",
      "metadata": {
        "id": "jkHNbLifiZvP"
      },
      "source": [
        "## Model evaluation\n",
        "\n",
        "Next, I will try to evaluate the model using a set of metrics.\n",
        "\n",
        "Confusion matrix shows the distribution of exactly correcly predicted entries and incorrectly predicted ones."
      ]
    },
    {
      "cell_type": "code",
      "metadata": {
        "colab": {
          "base_uri": "https://localhost:8080/",
          "height": 141
        },
        "id": "UPqgjPQWZpNc",
        "outputId": "67676f04-47ab-4e73-f2ee-b2e0e5d6dec0"
      },
      "source": [
        "y_test[\"preds\"]=y_test[\"preds\"].astype(\"bool\")\n",
        "confusion_matrix = pd.crosstab(y_test[\"preds\"], y_test[\"return\"])\n",
        "confusion_matrix"
      ],
      "execution_count": null,
      "outputs": [
        {
          "output_type": "execute_result",
          "data": {
            "text/html": [
              "<div>\n",
              "<style scoped>\n",
              "    .dataframe tbody tr th:only-of-type {\n",
              "        vertical-align: middle;\n",
              "    }\n",
              "\n",
              "    .dataframe tbody tr th {\n",
              "        vertical-align: top;\n",
              "    }\n",
              "\n",
              "    .dataframe thead th {\n",
              "        text-align: right;\n",
              "    }\n",
              "</style>\n",
              "<table border=\"1\" class=\"dataframe\">\n",
              "  <thead>\n",
              "    <tr style=\"text-align: right;\">\n",
              "      <th>return</th>\n",
              "      <th>False</th>\n",
              "      <th>True</th>\n",
              "    </tr>\n",
              "    <tr>\n",
              "      <th>preds</th>\n",
              "      <th></th>\n",
              "      <th></th>\n",
              "    </tr>\n",
              "  </thead>\n",
              "  <tbody>\n",
              "    <tr>\n",
              "      <th>False</th>\n",
              "      <td>2485</td>\n",
              "      <td>2068</td>\n",
              "    </tr>\n",
              "    <tr>\n",
              "      <th>True</th>\n",
              "      <td>2908</td>\n",
              "      <td>2539</td>\n",
              "    </tr>\n",
              "  </tbody>\n",
              "</table>\n",
              "</div>"
            ],
            "text/plain": [
              "return  False  True \n",
              "preds               \n",
              "False    2485   2068\n",
              "True     2908   2539"
            ]
          },
          "metadata": {
            "tags": []
          },
          "execution_count": 70
        }
      ]
    },
    {
      "cell_type": "markdown",
      "metadata": {
        "id": "_uETPsMwizKV"
      },
      "source": [
        "Below the accuracy score may be seen, which is above 0.5"
      ]
    },
    {
      "cell_type": "code",
      "metadata": {
        "colab": {
          "base_uri": "https://localhost:8080/"
        },
        "id": "jKsb70KD0qJu",
        "outputId": "65b671d5-f4fc-4220-f789-fbf3a9a8397c"
      },
      "source": [
        "accuracy_score(y_test[\"preds\"], y_test[\"return\"])"
      ],
      "execution_count": null,
      "outputs": [
        {
          "output_type": "execute_result",
          "data": {
            "text/plain": [
              "0.5024"
            ]
          },
          "metadata": {
            "tags": []
          },
          "execution_count": 71
        }
      ]
    },
    {
      "cell_type": "code",
      "metadata": {
        "id": "fsUkwME8MzGF"
      },
      "source": [
        "# let us join the predictions and the actual data into a single dataframe\n",
        "x=df.loc[y_test.index]\n",
        "x=x[\"item_price\"]"
      ],
      "execution_count": null,
      "outputs": []
    },
    {
      "cell_type": "code",
      "metadata": {
        "id": "rB4TVdDoOWah"
      },
      "source": [
        "y_test=y_test.join(x)"
      ],
      "execution_count": null,
      "outputs": []
    },
    {
      "cell_type": "markdown",
      "metadata": {
        "id": "SmOZNAThjrOb"
      },
      "source": [
        "Nest, I want to calculate the cost that will be potentially born by the shop due to incorrectly predicted returns."
      ]
    },
    {
      "cell_type": "code",
      "metadata": {
        "id": "IdrkQPBzRL2H"
      },
      "source": [
        "# create a function\n",
        "def cost_function (row):\n",
        "   if (row['return'] == False) & (row['preds'] == False) :\n",
        "      return 0\n",
        "   if (row['return'] == False) & (row['preds'] == True) :\n",
        "      return row[\"item_price\"]*0.5\n",
        "   if (row['return'] == True) & (row['preds'] == True) :\n",
        "      return 0\n",
        "   if (row['return'] == True) & (row['preds'] == False) :\n",
        "      return 0.5*5*(3+row[\"item_price\"]*0.1)"
      ],
      "execution_count": null,
      "outputs": []
    },
    {
      "cell_type": "code",
      "metadata": {
        "id": "2jyexEv_XbI-"
      },
      "source": [
        "# apply the function to the dataset\n",
        "y_test[\"cost\"]=y_test.apply (lambda row: cost_function(row), axis=1)"
      ],
      "execution_count": null,
      "outputs": []
    },
    {
      "cell_type": "code",
      "metadata": {
        "colab": {
          "base_uri": "https://localhost:8080/",
          "height": 415
        },
        "id": "i8Z4gLEQX3bQ",
        "outputId": "cea2ee2c-f836-4dbb-eed0-bbddfe415a0f"
      },
      "source": [
        "# check\n",
        "y_test"
      ],
      "execution_count": null,
      "outputs": [
        {
          "output_type": "execute_result",
          "data": {
            "text/html": [
              "<div>\n",
              "<style scoped>\n",
              "    .dataframe tbody tr th:only-of-type {\n",
              "        vertical-align: middle;\n",
              "    }\n",
              "\n",
              "    .dataframe tbody tr th {\n",
              "        vertical-align: top;\n",
              "    }\n",
              "\n",
              "    .dataframe thead th {\n",
              "        text-align: right;\n",
              "    }\n",
              "</style>\n",
              "<table border=\"1\" class=\"dataframe\">\n",
              "  <thead>\n",
              "    <tr style=\"text-align: right;\">\n",
              "      <th></th>\n",
              "      <th>return</th>\n",
              "      <th>preds</th>\n",
              "      <th>item_price</th>\n",
              "      <th>cost</th>\n",
              "    </tr>\n",
              "  </thead>\n",
              "  <tbody>\n",
              "    <tr>\n",
              "      <th>77795</th>\n",
              "      <td>False</td>\n",
              "      <td>True</td>\n",
              "      <td>39.900002</td>\n",
              "      <td>19.950001</td>\n",
              "    </tr>\n",
              "    <tr>\n",
              "      <th>11189</th>\n",
              "      <td>True</td>\n",
              "      <td>False</td>\n",
              "      <td>64.900002</td>\n",
              "      <td>23.725000</td>\n",
              "    </tr>\n",
              "    <tr>\n",
              "      <th>84792</th>\n",
              "      <td>True</td>\n",
              "      <td>False</td>\n",
              "      <td>59.900002</td>\n",
              "      <td>22.475000</td>\n",
              "    </tr>\n",
              "    <tr>\n",
              "      <th>97619</th>\n",
              "      <td>False</td>\n",
              "      <td>False</td>\n",
              "      <td>169.899994</td>\n",
              "      <td>0.000000</td>\n",
              "    </tr>\n",
              "    <tr>\n",
              "      <th>79593</th>\n",
              "      <td>True</td>\n",
              "      <td>True</td>\n",
              "      <td>114.900002</td>\n",
              "      <td>0.000000</td>\n",
              "    </tr>\n",
              "    <tr>\n",
              "      <th>...</th>\n",
              "      <td>...</td>\n",
              "      <td>...</td>\n",
              "      <td>...</td>\n",
              "      <td>...</td>\n",
              "    </tr>\n",
              "    <tr>\n",
              "      <th>61582</th>\n",
              "      <td>True</td>\n",
              "      <td>True</td>\n",
              "      <td>39.900002</td>\n",
              "      <td>0.000000</td>\n",
              "    </tr>\n",
              "    <tr>\n",
              "      <th>580</th>\n",
              "      <td>True</td>\n",
              "      <td>True</td>\n",
              "      <td>69.900002</td>\n",
              "      <td>0.000000</td>\n",
              "    </tr>\n",
              "    <tr>\n",
              "      <th>3833</th>\n",
              "      <td>False</td>\n",
              "      <td>True</td>\n",
              "      <td>24.900000</td>\n",
              "      <td>12.450000</td>\n",
              "    </tr>\n",
              "    <tr>\n",
              "      <th>49093</th>\n",
              "      <td>True</td>\n",
              "      <td>True</td>\n",
              "      <td>59.900002</td>\n",
              "      <td>0.000000</td>\n",
              "    </tr>\n",
              "    <tr>\n",
              "      <th>68299</th>\n",
              "      <td>False</td>\n",
              "      <td>True</td>\n",
              "      <td>49.900002</td>\n",
              "      <td>24.950001</td>\n",
              "    </tr>\n",
              "  </tbody>\n",
              "</table>\n",
              "<p>10000 rows × 4 columns</p>\n",
              "</div>"
            ],
            "text/plain": [
              "       return  preds  item_price       cost\n",
              "77795   False   True   39.900002  19.950001\n",
              "11189    True  False   64.900002  23.725000\n",
              "84792    True  False   59.900002  22.475000\n",
              "97619   False  False  169.899994   0.000000\n",
              "79593    True   True  114.900002   0.000000\n",
              "...       ...    ...         ...        ...\n",
              "61582    True   True   39.900002   0.000000\n",
              "580      True   True   69.900002   0.000000\n",
              "3833    False   True   24.900000  12.450000\n",
              "49093    True   True   59.900002   0.000000\n",
              "68299   False   True   49.900002  24.950001\n",
              "\n",
              "[10000 rows x 4 columns]"
            ]
          },
          "metadata": {
            "tags": []
          },
          "execution_count": 76
        }
      ]
    },
    {
      "cell_type": "markdown",
      "metadata": {
        "id": "uDYpV_65kHy8"
      },
      "source": [
        "It is also possible to calculate potential earning versus the expenses to be born by the shop."
      ]
    },
    {
      "cell_type": "code",
      "metadata": {
        "colab": {
          "base_uri": "https://localhost:8080/"
        },
        "id": "h8J7T7FEYMTo",
        "outputId": "8c425c87-44eb-44c1-fa6c-edca13ae49ec"
      },
      "source": [
        "earnings=y_test[\"item_price\"].sum()\n",
        "earnings"
      ],
      "execution_count": null,
      "outputs": [
        {
          "output_type": "execute_result",
          "data": {
            "text/plain": [
              "655390.56"
            ]
          },
          "metadata": {
            "tags": []
          },
          "execution_count": 77
        }
      ]
    },
    {
      "cell_type": "code",
      "metadata": {
        "colab": {
          "base_uri": "https://localhost:8080/"
        },
        "id": "VUC7hZ94X9wh",
        "outputId": "5d6b190f-d0d3-471d-eaeb-a71f419f9ff1"
      },
      "source": [
        "expenses=y_test[\"cost\"].sum()\n",
        "expenses"
      ],
      "execution_count": null,
      "outputs": [
        {
          "output_type": "execute_result",
          "data": {
            "text/plain": [
              "139300.52290427685"
            ]
          },
          "metadata": {
            "tags": []
          },
          "execution_count": 78
        }
      ]
    },
    {
      "cell_type": "code",
      "metadata": {
        "colab": {
          "base_uri": "https://localhost:8080/"
        },
        "id": "pJKZXG8yYlt9",
        "outputId": "1420c6dd-0236-475e-d66f-ad4bdf5d720d"
      },
      "source": [
        "print(\"Total earnings equal: \",round(earnings-expenses, ndigits=2))"
      ],
      "execution_count": null,
      "outputs": [
        {
          "output_type": "stream",
          "text": [
            "Total earnings equal:  516090.04\n"
          ],
          "name": "stdout"
        }
      ]
    },
    {
      "cell_type": "markdown",
      "metadata": {
        "id": "4Ip52kOxkSvV"
      },
      "source": [
        "## Conclusions\n",
        "\n",
        "Overall, I would state that possibly the prediction model could have been created and tuned in a better way.\n",
        "\n",
        "I am sure that the size variable could have been more significant had there been a clear understanding of what is the actual nature of the item sold. Nevertheless, I it is a real-world situation where not all of the data is available and a way around should be found.\n",
        "\n",
        "There was a lot of noise in the dataset that prevented its efficient estimation.\n",
        "\n",
        "However, I am glad with my results as the course encompassed plenty of information and I believe that I was able to grasp some of it."
      ]
    }
  ]
}