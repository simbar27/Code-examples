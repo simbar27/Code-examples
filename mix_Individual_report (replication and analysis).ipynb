{
  "nbformat": 4,
  "nbformat_minor": 0,
  "metadata": {
    "colab": {
      "provenance": []
    },
    "kernelspec": {
      "name": "python3",
      "display_name": "Python 3"
    },
    "language_info": {
      "name": "python"
    }
  },
  "cells": [
    {
      "cell_type": "code",
      "execution_count": null,
      "metadata": {
        "id": "zcRr8DDmQzl9"
      },
      "outputs": [],
      "source": [
        "# Maksym Lesyk, 614228"
      ]
    },
    {
      "cell_type": "code",
      "source": [
        "# import libraries\n",
        "import pandas as pd\n",
        "import numpy as np"
      ],
      "metadata": {
        "id": "fuCvz4qKRBS-"
      },
      "execution_count": null,
      "outputs": []
    },
    {
      "cell_type": "code",
      "source": [
        "# read datasets\n",
        "comp=pd.read_csv('/content/drive/MyDrive/Accounting 2 final/comp.csv')\n",
        "fees=pd.read_csv('/content/drive/MyDrive/Accounting 2 final/fees.csv')"
      ],
      "metadata": {
        "id": "UJOHg-cORiXa"
      },
      "execution_count": null,
      "outputs": []
    },
    {
      "cell_type": "code",
      "source": [
        "# Year column\n",
        "fees['Year']=fees['AUDIT_FEE_FISCAL_YEAR_END'].str[-4:]\n",
        "# Concatenated value to create a unique distinguisher\n",
        "fees['yearISIN'] = fees['Year'] + fees['ISIN']\n",
        "# NAICS code separate on first two digits for the ease of industry classfication\n",
        "fees['Industry']=fees['NAICS_CODE_FKEY'].astype(\"str\").str[:2]\n",
        "# where network is na, substitute with values from auditor name\n",
        "fees['AUDITOR_NETWORK'] = fees['AUDITOR_NETWORK'].mask(fees['AUDITOR_NETWORK'].isna(), fees['AUDITOR_NAME'])\n",
        "# substitute two-digit NAICS encoding with industries per paper, sometimes based on own judgement and NAICS guidelines\n",
        "codes=[\"11\",\"21\",\"22\",\"23\",\"31\",\"32\",\"33\",\"42\",\"44\",\"45\",\"48\",\"49\",\"51\",\"52\",\"53\",\"54\",\"55\",\"56\",\"61\",\"62\",\"71\",\"72\",\"81\",\"92\"]\n",
        "industry=[\"Agriculture, Forestry, Fishing and Hunting\",\"Mining\",\"Transportation & Public Utilities\",\"Construction\",\"Manufacturing\",\"Manufacturing\",\"Manufacturing\",\"Wholesale Trade\",\"Retail Trade\",\"Retail Trade\",\"Transportation & Public Utilities\",\"Transportation & Public Utilities\",\"Services\",\"Finance, Insurance & Real Estate\",\"Finance, Insurance & Real Estate\",\"Services\",\"Services\",\"Services\",\"Services\",\"Services\",\"Services\",\"Services\",\"Services\",\"Public Administration\"]\n",
        "fees['Industry'] = fees['Industry'].replace(codes, industry)"
      ],
      "metadata": {
        "id": "SFM5Pkyi9b7o"
      },
      "execution_count": null,
      "outputs": []
    },
    {
      "cell_type": "code",
      "source": [
        "# sometimes joint audit is present, need to control for that with the above produced concatenated variable\n",
        "pivot=fees.pivot_table(index=['yearISIN'], aggfunc='size')\n",
        "print(pivot.sort_values(ascending=False))"
      ],
      "metadata": {
        "colab": {
          "base_uri": "https://localhost:8080/"
        },
        "id": "LFnpeb-deMuP",
        "outputId": "f9837507-363f-473d-96cc-3345805c670e"
      },
      "execution_count": null,
      "outputs": [
        {
          "output_type": "stream",
          "name": "stdout",
          "text": [
            "yearISIN\n",
            "2017FR0010436584    13\n",
            "2012FR0000064180    12\n",
            "2016FR0000045072    12\n",
            "2019SE0006256558    11\n",
            "2015FR0000072563    11\n",
            "                    ..\n",
            "2012GB00BKTRF404     1\n",
            "2015SE0008991335     1\n",
            "2012GB00BKTCLJ25     1\n",
            "2012GB00BKT6VH21     1\n",
            "2016BE0003008019     1\n",
            "Length: 63903, dtype: int64\n"
          ]
        }
      ]
    },
    {
      "cell_type": "code",
      "source": [
        "# produce columns for table 3 panel c based on table 2 from the paper\n",
        "comp[\"leverage\"]=comp[\"lt\"]/comp[\"at\"]\n",
        "comp[\"roa\"]=comp[\"nicon\"]/comp[\"at\"]\n",
        "comp['loss'] = comp.apply(lambda x : 1 if x['nicon'] < 0 else 0, axis=1)"
      ],
      "metadata": {
        "id": "h4SYTSp0u2fV"
      },
      "execution_count": null,
      "outputs": []
    },
    {
      "cell_type": "code",
      "source": [
        "# subset on our exchanges and HQ countries\n",
        "ger=fees[fees['HEADQUARTER_COUNTRY']==\"Germany\"]\n",
        "ger=ger[(ger[\"PRIMARY_EXCHANGE\"] == 'XETRA') | (ger[\"PRIMARY_EXCHANGE\"] == 'DEUTSCHE BOERSE AG')]"
      ],
      "metadata": {
        "id": "UoMsVKX5TW5r"
      },
      "execution_count": null,
      "outputs": []
    },
    {
      "cell_type": "code",
      "source": [
        "uk=fees[fees['HEADQUARTER_COUNTRY']==\"United Kingdom\"]\n",
        "uk=uk[uk['PRIMARY_EXCHANGE']==\"London Stock Exchange\"]"
      ],
      "metadata": {
        "id": "NKGtIa1IUq0F"
      },
      "execution_count": null,
      "outputs": []
    },
    {
      "cell_type": "code",
      "source": [
        "# subset on relevant submarkets. Eliminate from sample where NA\n",
        "uk_aim=uk[(uk[\"EXCHANGE_SUBMARKET_ID\"] == 'EXTP$$$AIM') | (uk[\"EXCHANGE_SUBMARKET_ID\"] == 'EX$$$$AIMX')]\n",
        "uk_mm=uk[uk['EXCHANGE_SUBMARKET_ID']==\"EXTP$$$LMM\"]\n",
        "ger_reg=ger[(ger[\"EXCHANGE_SUBMARKET_ID\"] == 'EXTP$$$XPS') | (ger[\"EXCHANGE_SUBMARKET_ID\"] == 'EXTP$$$XGS')]\n",
        "ger_nreg=ger[(ger[\"EXCHANGE_SUBMARKET_ID\"] == 'EX$$$$XETS') | (ger[\"EXCHANGE_SUBMARKET_ID\"] == 'EX$$$$FRAB') | (ger[\"EXCHANGE_SUBMARKET_ID\"] == 'EX$$$$XETB') | (ger[\"EXCHANGE_SUBMARKET_ID\"] == 'EX$$$$FRAS')]"
      ],
      "metadata": {
        "id": "UwFr4z7in6wK"
      },
      "execution_count": null,
      "outputs": []
    },
    {
      "cell_type": "code",
      "source": [
        "# merged dataset\n",
        "merged = pd.concat([uk_aim,uk_mm,ger_reg,ger_nreg])\n",
        "merged = merged.drop_duplicates(subset=['yearISIN'], keep='first')\n",
        "comp['yearISIN'] = comp['fyear'].dropna().astype(\"int\").astype(\"str\").str[:4] + comp['isin']"
      ],
      "metadata": {
        "id": "_gBuCdTOZF9v"
      },
      "execution_count": null,
      "outputs": []
    },
    {
      "cell_type": "code",
      "source": [
        "# industries in merged\n",
        "indm=merged[\"Industry\"].value_counts().rename_axis('unique_values').reset_index(name='counts')\n",
        "indm[\"Percentages\"]=indm[\"counts\"]/len(merged)*100\n",
        "print(indm)"
      ],
      "metadata": {
        "colab": {
          "base_uri": "https://localhost:8080/"
        },
        "id": "V30Hwf6xazOH",
        "outputId": "6c1ceeb2-b29f-4ae9-a5c7-7f8347abe663"
      },
      "execution_count": null,
      "outputs": [
        {
          "output_type": "stream",
          "name": "stdout",
          "text": [
            "                                unique_values  counts  Percentages\n",
            "0            Finance, Insurance & Real Estate    4988    32.813631\n",
            "1                                    Services    3730    24.537859\n",
            "2                               Manufacturing    3234    21.274916\n",
            "3                                      Mining    1183     7.782383\n",
            "4           Transportation & Public Utilities     571     3.756332\n",
            "5                                Retail Trade     571     3.756332\n",
            "6                             Wholesale Trade     430     2.828761\n",
            "7                                Construction     384     2.526150\n",
            "8  Agriculture, Forestry, Fishing and Hunting      88     0.578909\n",
            "9                       Public Administration      22     0.144727\n"
          ]
        }
      ]
    },
    {
      "cell_type": "code",
      "source": [
        "# Check for total clients and client years in comparison with the values from the paper\n",
        "# matches with the described 20 percent less if based solely on Audit Analytics, which is consistent with the paper text\n",
        "obs1=len(uk_aim['yearISIN'].unique())\n",
        "obs2=len(uk_mm['yearISIN'].unique())\n",
        "obs3=len(ger_reg['yearISIN'].unique())\n",
        "obs4=len(ger_nreg['yearISIN'].unique())\n",
        "tobs=obs1+obs2+obs3+obs4\n",
        "pobs=17649\n",
        "# Client years\n",
        "tobs/pobs"
      ],
      "metadata": {
        "colab": {
          "base_uri": "https://localhost:8080/"
        },
        "id": "BpRKXhz804SW",
        "outputId": "a3f358fd-15dd-4570-dac3-c9e4aa341614"
      },
      "execution_count": null,
      "outputs": [
        {
          "output_type": "execute_result",
          "data": {
            "text/plain": [
              "0.8612952575216726"
            ]
          },
          "metadata": {},
          "execution_count": 62
        }
      ]
    },
    {
      "cell_type": "code",
      "source": [
        "obs01=len(uk_aim['ISIN'].unique())\n",
        "obs02=len(uk_mm['ISIN'].unique())\n",
        "obs03=len(ger_reg['ISIN'].unique())\n",
        "obs04=len(ger_nreg['ISIN'].unique())\n",
        "ttobs=obs01+obs02+obs03+obs04\n",
        "ppobs=2196\n",
        "# Clients\n",
        "ttobs/ppobs"
      ],
      "metadata": {
        "colab": {
          "base_uri": "https://localhost:8080/"
        },
        "id": "Yo2cwBSo0b4q",
        "outputId": "cdc49af7-5e6e-4479-d7eb-4a9b7c732f97"
      },
      "execution_count": null,
      "outputs": [
        {
          "output_type": "execute_result",
          "data": {
            "text/plain": [
              "0.8064663023679417"
            ]
          },
          "metadata": {},
          "execution_count": 63
        }
      ]
    },
    {
      "cell_type": "code",
      "source": [
        "#Table 3 Panel A\n",
        "# UK year mm\n",
        "\n",
        "mm2011=len(uk_mm[uk_mm['Year']==\"2011\"][\"yearISIN\"].unique())\n",
        "mm2012=len(uk_mm[uk_mm['Year']==\"2012\"][\"yearISIN\"].unique())\n",
        "mm2013=len(uk_mm[uk_mm['Year']==\"2013\"][\"yearISIN\"].unique())\n",
        "mm2014=len(uk_mm[uk_mm['Year']==\"2014\"][\"yearISIN\"].unique())\n",
        "mm2015=len(uk_mm[uk_mm['Year']==\"2015\"][\"yearISIN\"].unique())\n",
        "\n",
        "mm2016=len(uk_mm[uk_mm['Year']==\"2016\"][\"yearISIN\"].unique())\n",
        "mm2017=len(uk_mm[uk_mm['Year']==\"2017\"][\"yearISIN\"].unique())\n",
        "mm2018=len(uk_mm[uk_mm['Year']==\"2018\"][\"yearISIN\"].unique())\n",
        "mm2019=len(uk_mm[uk_mm['Year']==\"2019\"][\"yearISIN\"].unique())\n",
        "mm2020=len(uk_mm[uk_mm['Year']==\"2020\"][\"yearISIN\"].unique())\n",
        "# unique clients\n",
        "uISINmm=len(uk_mm['ISIN'].unique())\n",
        "\n",
        "# UK year aim\n",
        "aim2011=len(uk_aim[uk_aim['Year']==\"2011\"][\"yearISIN\"].unique())\n",
        "aim2012=len(uk_aim[uk_aim['Year']==\"2012\"][\"yearISIN\"].unique())\n",
        "aim2013=len(uk_aim[uk_aim['Year']==\"2013\"][\"yearISIN\"].unique())\n",
        "aim2014=len(uk_aim[uk_aim['Year']==\"2014\"][\"yearISIN\"].unique())\n",
        "aim2015=len(uk_aim[uk_aim['Year']==\"2015\"][\"yearISIN\"].unique())\n",
        "\n",
        "aim2016=len(uk_aim[uk_aim['Year']==\"2016\"][\"yearISIN\"].unique())\n",
        "aim2017=len(uk_aim[uk_aim['Year']==\"2017\"][\"yearISIN\"].unique())\n",
        "aim2018=len(uk_aim[uk_aim['Year']==\"2018\"][\"yearISIN\"].unique())\n",
        "aim2019=len(uk_aim[uk_aim['Year']==\"2019\"][\"yearISIN\"].unique())\n",
        "aim2020=len(uk_aim[uk_aim['Year']==\"2020\"][\"yearISIN\"].unique())\n",
        "# unique clients\n",
        "uISINaim=len(uk_aim['ISIN'].unique())\n",
        "\n",
        "# Germany year ger_reg\n",
        "regg2011=len(ger_reg[ger_reg['Year']==\"2011\"][\"yearISIN\"].unique())\n",
        "regg2012=len(ger_reg[ger_reg['Year']==\"2012\"][\"yearISIN\"].unique())\n",
        "regg2013=len(ger_reg[ger_reg['Year']==\"2013\"][\"yearISIN\"].unique())\n",
        "regg2014=len(ger_reg[ger_reg['Year']==\"2014\"][\"yearISIN\"].unique())\n",
        "regg2015=len(ger_reg[ger_reg['Year']==\"2015\"][\"yearISIN\"].unique())\n",
        "\n",
        "regg2016=len(ger_reg[ger_reg['Year']==\"2016\"][\"yearISIN\"].unique())\n",
        "regg2017=len(ger_reg[ger_reg['Year']==\"2017\"][\"yearISIN\"].unique())\n",
        "regg2018=len(ger_reg[ger_reg['Year']==\"2018\"][\"yearISIN\"].unique())\n",
        "regg2019=len(ger_reg[ger_reg['Year']==\"2019\"][\"yearISIN\"].unique())\n",
        "regg2020=len(ger_reg[ger_reg['Year']==\"2020\"][\"yearISIN\"].unique())\n",
        "# unique clients\n",
        "uISINregg=len(ger_reg['ISIN'].unique())\n",
        "\n",
        "#Germany year ger_nreg\n",
        "nregg2011=len(ger_nreg[ger_nreg['Year']==\"2011\"][\"yearISIN\"].unique())\n",
        "nregg2012=len(ger_nreg[ger_nreg['Year']==\"2012\"][\"yearISIN\"].unique())\n",
        "nregg2013=len(ger_nreg[ger_nreg['Year']==\"2013\"][\"yearISIN\"].unique())\n",
        "nregg2014=len(ger_nreg[ger_nreg['Year']==\"2014\"][\"yearISIN\"].unique())\n",
        "nregg2015=len(ger_nreg[ger_nreg['Year']==\"2015\"][\"yearISIN\"].unique())\n",
        "\n",
        "nregg2016=len(ger_nreg[ger_nreg['Year']==\"2016\"][\"yearISIN\"].unique())\n",
        "nregg2017=len(ger_nreg[ger_nreg['Year']==\"2017\"][\"yearISIN\"].unique())\n",
        "nregg2018=len(ger_nreg[ger_nreg['Year']==\"2018\"][\"yearISIN\"].unique())\n",
        "nregg2019=len(ger_nreg[ger_nreg['Year']==\"2019\"][\"yearISIN\"].unique())\n",
        "nregg2020=len(ger_nreg[ger_nreg['Year']==\"2020\"][\"yearISIN\"].unique())\n",
        "# unique clients\n",
        "uISINnregg=len(ger_nreg['ISIN'].unique())\n",
        "\n",
        "\n",
        "# create a dataframe for Table 3 Panel A representation\n",
        "data = [['Pre-reform','2011', mm2011+aim2011+regg2011+nregg2011, mm2011+aim2011, mm2011, aim2011, regg2011+nregg2011, regg2011, nregg2011],\n",
        "        ['','2012', mm2012+aim2012+regg2012+nregg2012, mm2012+aim2012, mm2012, aim2012, regg2012+nregg2012, regg2012, nregg2012],\n",
        "        ['','2013', mm2013+aim2013+regg2013+nregg2013, mm2013+aim2013, mm2013, aim2013, regg2013+nregg2013, regg2013, nregg2013],\n",
        "        ['','2014', mm2014+aim2014+regg2014+nregg2014, mm2014+aim2014, mm2014, aim2014, regg2014+nregg2014, regg2014, nregg2014],\n",
        "        ['','2015', mm2015+aim2015+regg2015+nregg2015, mm2015+aim2015, mm2015, aim2015, regg2015+nregg2015, regg2015, nregg2015],\n",
        "        ['','Subtotal:', mm2011+aim2011+regg2011+nregg2011+mm2012+aim2012+regg2012+nregg2012+mm2013+aim2013+regg2013+nregg2013+mm2014+aim2014+regg2014+nregg2014+mm2015+aim2015+regg2015+nregg2015,\n",
        "         mm2011+aim2011+mm2012+aim2012+mm2013+aim2013+mm2014+aim2014+mm2015+aim2015, mm2011+mm2012+mm2013+mm2014+mm2015,\n",
        "         aim2011+aim2012+aim2013+aim2014+aim2015, regg2011+nregg2011+regg2012+nregg2012+regg2013+nregg2013+regg2014+nregg2014+regg2015+nregg2015,\n",
        "         regg2011+regg2012+regg2013+regg2014+regg2015, nregg2011+nregg2012+nregg2013+nregg2014+nregg2015],\n",
        "        ['Post-reform','2016', mm2016+aim2016+regg2016+nregg2016, mm2016+aim2016, mm2016, aim2016, regg2016+nregg2016, regg2016, nregg2016],\n",
        "        ['','2017', mm2017+aim2017+regg2017+nregg2017, mm2017+aim2017, mm2017, aim2017, regg2017+nregg2017, regg2017, nregg2017],\n",
        "        ['','2018', mm2018+aim2018+regg2018+nregg2018, mm2018+aim2018, mm2018, aim2018, regg2018+nregg2018, regg2018, nregg2018],\n",
        "        ['','2019', mm2019+aim2019+regg2019+nregg2019, mm2019+aim2019, mm2019, aim2019, regg2019+nregg2019, regg2019, nregg2019],\n",
        "        ['','2020', mm2020+aim2020+regg2020+nregg2020, mm2020+aim2020, mm2020, aim2020, regg2020+nregg2020, regg2020, nregg2020],\n",
        "        ['','Subtotal:', mm2016+aim2016+regg2016+nregg2016+mm2017+aim2017+regg2017+nregg2017+mm2018+aim2018+regg2018+nregg2018+mm2019+aim2019+regg2019+nregg2019+mm2020+aim2020+regg2020+nregg2020\n",
        "         , mm2016+aim2016+mm2017+aim2017+mm2018+aim2018+mm2019+aim2019+mm2020+aim2020,mm2016+mm2017+mm2018+mm2019+mm2020, aim2016+aim2017+aim2018+aim2019+aim2020,\n",
        "         regg2016+nregg2016+regg2017+nregg2017+regg2018+nregg2018+regg2019+nregg2019+regg2020+nregg2020, regg2016+regg2017+regg2018+regg2019+regg2020,\n",
        "         nregg2016+nregg2017+nregg2018+nregg2019+nregg2020],\n",
        "        ['Total','Client years:', tobs, mm2011+aim2011+mm2012+aim2012+mm2013+aim2013+mm2014+aim2014+mm2015+aim2015+mm2016+aim2016+mm2017+aim2017+mm2018+aim2018+mm2019+aim2019+mm2020+aim2020\n",
        "         , mm2016+mm2017+mm2018+mm2019+mm2020+mm2011+mm2012+mm2013+mm2014+mm2015,\n",
        "         aim2016+aim2017+aim2018+aim2019+aim2020+aim2011+aim2012+aim2013+aim2014+aim2015, regg2011+nregg2011+regg2012+nregg2012+regg2013+nregg2013+regg2014+nregg2014+regg2015+nregg2015+\n",
        "         regg2016+nregg2016+regg2017+nregg2017+regg2018+nregg2018+regg2019+nregg2019+regg2020+nregg2020, regg2016+regg2017+regg2018+regg2019+regg2020+\n",
        "         regg2011+regg2012+regg2013+regg2014+regg2015, nregg2016+nregg2017+nregg2018+nregg2019+nregg2020+nregg2011+nregg2012+nregg2013+nregg2014+nregg2015],\n",
        "        ['','Clients', ttobs, uISINmm+uISINaim, uISINmm, uISINaim, uISINregg+uISINnregg, uISINregg, uISINnregg]]\n",
        "\n",
        "# add column names\n",
        "df = pd.DataFrame(data, columns=['Period', 'Financial Year', 'Total', 'Total LSE', 'LSE MM', 'LSE AIM', 'Total FSE', 'FSE regulated', 'FSE not regulated'])\n",
        "\n",
        "# print dataframe\n",
        "print(df)"
      ],
      "metadata": {
        "colab": {
          "base_uri": "https://localhost:8080/"
        },
        "id": "e_JVdlbDAsq0",
        "outputId": "cea68b92-ff54-465c-b0ee-0804f622c90d"
      },
      "execution_count": null,
      "outputs": [
        {
          "output_type": "stream",
          "name": "stdout",
          "text": [
            "         Period Financial Year  Total  Total LSE  LSE MM  LSE AIM  Total FSE  \\\n",
            "0    Pre-reform           2011   1310       1016     572      444        294   \n",
            "1                         2012   1354       1052     582      470        302   \n",
            "2                         2013   1421       1116     603      513        305   \n",
            "3                         2014   1471       1155     619      536        316   \n",
            "4                         2015   1520       1202     637      565        318   \n",
            "5                    Subtotal:   7076       5541    3013     2528       1535   \n",
            "6   Post-reform           2016   1573       1254     667      587        319   \n",
            "7                         2017   1621       1300     690      610        321   \n",
            "8                         2018   1656       1332     706      626        324   \n",
            "9                         2019   1640       1317     714      603        323   \n",
            "10                        2020   1635       1307     699      608        328   \n",
            "11                   Subtotal:   8125       6510    3476     3034       1615   \n",
            "12        Total  Client years:  15201      12051    6489     5562       3150   \n",
            "13                     Clients   1771       1430     762      668        341   \n",
            "\n",
            "    FSE regulated  FSE not regulated  \n",
            "0             228                 66  \n",
            "1             233                 69  \n",
            "2             237                 68  \n",
            "3             241                 75  \n",
            "4             244                 74  \n",
            "5            1183                352  \n",
            "6             244                 75  \n",
            "7             247                 74  \n",
            "8             245                 79  \n",
            "9             243                 80  \n",
            "10            246                 82  \n",
            "11           1225                390  \n",
            "12           2408                742  \n",
            "13            253                 88  \n"
          ]
        }
      ]
    },
    {
      "cell_type": "code",
      "source": [
        "#Table 3 Panel B\n",
        "# specific for regulated and not regulated markets in Germany and the UK out of our sample"
      ],
      "metadata": {
        "id": "sjahMI5Uigc3"
      },
      "execution_count": null,
      "outputs": []
    },
    {
      "cell_type": "code",
      "source": [
        "# industries' comparison for regulated and not regulated markets\n",
        "uk=pd.concat([uk_mm,uk_aim])\n",
        "induk=uk[\"Industry\"].value_counts().rename_axis('unique_values').reset_index(name='counts')\n",
        "induk[\"Percentages\"]=induk[\"counts\"]/len(uk)*100\n",
        "print(induk)"
      ],
      "metadata": {
        "id": "vaRRwz-Q6IyS",
        "colab": {
          "base_uri": "https://localhost:8080/"
        },
        "outputId": "1b4ea13e-d58a-4f90-c219-3bdd6bae3b87"
      },
      "execution_count": null,
      "outputs": [
        {
          "output_type": "stream",
          "name": "stdout",
          "text": [
            "                                unique_values  counts  Percentages\n",
            "0            Finance, Insurance & Real Estate    5285    35.723942\n",
            "1                                    Services    3647    24.651886\n",
            "2                               Manufacturing    2481    16.770312\n",
            "3                                      Mining    1453     9.821549\n",
            "4                                Retail Trade     577     3.900230\n",
            "5           Transportation & Public Utilities     469     3.170204\n",
            "6                                Construction     419     2.832229\n",
            "7                             Wholesale Trade     349     2.359064\n",
            "8  Agriculture, Forestry, Fishing and Hunting      83     0.561038\n",
            "9                       Public Administration      31     0.209544\n"
          ]
        }
      ]
    },
    {
      "cell_type": "code",
      "source": [
        "germany=pd.concat([ger_reg,ger_nreg])\n",
        "indger=germany[\"Industry\"].value_counts().rename_axis('unique_values').reset_index(name='counts')\n",
        "indger[\"Percentages\"]=indger[\"counts\"]/len(germany)*100\n",
        "print(indger)"
      ],
      "metadata": {
        "colab": {
          "base_uri": "https://localhost:8080/"
        },
        "id": "Rt7tOw6Z6If1",
        "outputId": "b8c2933b-e4ec-44d5-e573-fc7a6d003d00"
      },
      "execution_count": null,
      "outputs": [
        {
          "output_type": "stream",
          "name": "stdout",
          "text": [
            "                                unique_values  counts  Percentages\n",
            "0                               Manufacturing    1422    39.676339\n",
            "1                                    Services     883    24.637277\n",
            "2            Finance, Insurance & Real Estate     666    18.582589\n",
            "3           Transportation & Public Utilities     207     5.775670\n",
            "4                             Wholesale Trade     182     5.078125\n",
            "5                                Retail Trade     112     3.125000\n",
            "6                                Construction      49     1.367188\n",
            "7  Agriculture, Forestry, Fishing and Hunting      33     0.920759\n",
            "8                                      Mining      30     0.837054\n"
          ]
        }
      ]
    },
    {
      "cell_type": "code",
      "source": [
        "indmm=uk_mm[\"Industry\"].value_counts().rename_axis('unique_values').reset_index(name='counts')\n",
        "indmm[\"Percentages\"]=indmm[\"counts\"]/len(uk_mm)*100\n",
        "print(indmm)"
      ],
      "metadata": {
        "id": "T2NduVi4gkxS",
        "colab": {
          "base_uri": "https://localhost:8080/"
        },
        "outputId": "84afc9e4-e1b0-42fb-d610-d9d408447cf1"
      },
      "execution_count": null,
      "outputs": [
        {
          "output_type": "stream",
          "name": "stdout",
          "text": [
            "                                unique_values  counts  Percentages\n",
            "0            Finance, Insurance & Real Estate    4280    53.473263\n",
            "1                                    Services    1210    15.117441\n",
            "2                               Manufacturing    1066    13.318341\n",
            "3                                      Mining     385     4.810095\n",
            "4                                Retail Trade     381     4.760120\n",
            "5           Transportation & Public Utilities     284     3.548226\n",
            "6                                Construction     268     3.348326\n",
            "7                             Wholesale Trade      89     1.111944\n",
            "8  Agriculture, Forestry, Fishing and Hunting      37     0.462269\n",
            "9                       Public Administration       4     0.049975\n"
          ]
        }
      ]
    },
    {
      "cell_type": "code",
      "source": [
        "indaim=uk_aim[\"Industry\"].value_counts().rename_axis('unique_values').reset_index(name='counts')\n",
        "indaim[\"Percentages\"]=indaim[\"counts\"]/len(uk_aim)*100\n",
        "print(indaim)"
      ],
      "metadata": {
        "id": "lXAAu_msg0jB",
        "colab": {
          "base_uri": "https://localhost:8080/"
        },
        "outputId": "2dae9275-ff0d-4ab4-eec5-7c28f205277f"
      },
      "execution_count": null,
      "outputs": [
        {
          "output_type": "stream",
          "name": "stdout",
          "text": [
            "                                unique_values  counts  Percentages\n",
            "0                                    Services    2437    35.891016\n",
            "1                               Manufacturing    1415    20.839470\n",
            "2                                      Mining    1068    15.729013\n",
            "3            Finance, Insurance & Real Estate    1005    14.801178\n",
            "4                             Wholesale Trade     260     3.829161\n",
            "5                                Retail Trade     196     2.886598\n",
            "6           Transportation & Public Utilities     185     2.724595\n",
            "7                                Construction     151     2.223859\n",
            "8  Agriculture, Forestry, Fishing and Hunting      46     0.677467\n",
            "9                       Public Administration      27     0.397644\n"
          ]
        }
      ]
    },
    {
      "cell_type": "code",
      "source": [
        "indgerr=ger_reg[\"Industry\"].value_counts().rename_axis('unique_values').reset_index(name='counts')\n",
        "indgerr[\"Percentages\"]=indgerr[\"counts\"]/len(ger_reg)*100\n",
        "print(indgerr)"
      ],
      "metadata": {
        "id": "G3gzKwVdhQAV",
        "colab": {
          "base_uri": "https://localhost:8080/"
        },
        "outputId": "6d9639b2-ef4e-418b-affc-1af901bf4b6e"
      },
      "execution_count": null,
      "outputs": [
        {
          "output_type": "stream",
          "name": "stdout",
          "text": [
            "                                unique_values  counts  Percentages\n",
            "0                               Manufacturing    1223    44.183526\n",
            "1                                    Services     720    26.011561\n",
            "2            Finance, Insurance & Real Estate     390    14.089595\n",
            "3           Transportation & Public Utilities     132     4.768786\n",
            "4                             Wholesale Trade     126     4.552023\n",
            "5                                Retail Trade     102     3.684971\n",
            "6                                Construction      32     1.156069\n",
            "7  Agriculture, Forestry, Fishing and Hunting      23     0.830925\n",
            "8                                      Mining      20     0.722543\n"
          ]
        }
      ]
    },
    {
      "cell_type": "code",
      "source": [
        "indgernr=ger_nreg[\"Industry\"].value_counts().rename_axis('unique_values').reset_index(name='counts')\n",
        "indgernr[\"Percentages\"]=indgernr[\"counts\"]/len(ger_nreg)*100\n",
        "print(indgernr)"
      ],
      "metadata": {
        "id": "DOidYUZ2hfmk",
        "colab": {
          "base_uri": "https://localhost:8080/"
        },
        "outputId": "6314c965-6005-43f9-a61b-3b7a9d7fd82a"
      },
      "execution_count": null,
      "outputs": [
        {
          "output_type": "stream",
          "name": "stdout",
          "text": [
            "                                unique_values  counts  Percentages\n",
            "0            Finance, Insurance & Real Estate     276    33.823529\n",
            "1                               Manufacturing     199    24.387255\n",
            "2                                    Services     163    19.975490\n",
            "3           Transportation & Public Utilities      75     9.191176\n",
            "4                             Wholesale Trade      56     6.862745\n",
            "5                                Construction      17     2.083333\n",
            "6                                      Mining      10     1.225490\n",
            "7                                Retail Trade      10     1.225490\n",
            "8  Agriculture, Forestry, Fishing and Hunting      10     1.225490\n"
          ]
        }
      ]
    },
    {
      "cell_type": "code",
      "source": [
        "#Table 3 Panel C\n",
        "#LSE MM\n",
        "# For all: aggregate mean on concatenated value, receive mean, then calculate median and mean, as prescribed in the paper\n",
        "#at\n",
        "uk_mmfin = pd.merge(uk_mm, comp, how=\"inner\", on=\"yearISIN\")\n",
        "# procure client count\n",
        "uk_mmfin_c=len(uk_mmfin[\"ISIN\"].unique())\n",
        "\n",
        "uk_mmfina=uk_mmfin.groupby(['ISIN'], as_index=False).agg(\n",
        "                      {'at':['mean',\"median\"]})\n",
        "uk_mmfina.columns = ['ISIN','Mean',\"Median\"]\n",
        "uk_mmfina=uk_mmfina.reindex(columns=sorted(uk_mmfina.columns))\n",
        "uk_mmfinam=uk_mmfina[\"Mean\"].mean()\n",
        "uk_mmfinam2=uk_mmfina[\"Mean\"].median()\n",
        "\n",
        "#leverage\n",
        "uk_mmfinl=uk_mmfin.groupby(['ISIN'], as_index=False).agg(\n",
        "                      {'leverage':['mean',\"median\"]})\n",
        "uk_mmfinl.columns = ['ISIN','Mean',\"Median\"]\n",
        "uk_mmfinl=uk_mmfinl.reindex(columns=sorted(uk_mmfinl.columns))\n",
        "uk_mmfinlm=uk_mmfinl[\"Mean\"].mean()*100\n",
        "uk_mmfinlm2=uk_mmfinl[\"Mean\"].median()*100\n",
        "\n",
        "#roa\n",
        "\n",
        "uk_mmfinr=uk_mmfin.groupby(['ISIN'], as_index=False).agg(\n",
        "                      {'roa':['mean',\"median\"]})\n",
        "uk_mmfinr.columns = ['ISIN','Mean',\"Median\"]\n",
        "uk_mmfinr=uk_mmfinr.reindex(columns=sorted(uk_mmfinr.columns))\n",
        "uk_mmfinrm=uk_mmfinr[\"Mean\"].mean()*100\n",
        "uk_mmfinrm2=uk_mmfinr[\"Mean\"].median()*100\n",
        "\n",
        "#loss\n",
        "\n",
        "uk_mmfinlo=uk_mmfin.groupby(['ISIN'], as_index=False).agg(\n",
        "                      {'loss':['mean',\"median\"]})\n",
        "uk_mmfinlo.columns = ['ISIN','Mean',\"Median\"]\n",
        "uk_mmfinlo=uk_mmfinlo.reindex(columns=sorted(uk_mmfinlo.columns))\n",
        "uk_mmfinlom=uk_mmfinlo[\"Mean\"].mean()*100\n",
        "uk_mmfinlom2=uk_mmfinlo[\"Mean\"].median()*100\n",
        "\n",
        "#LSE AIM\n",
        "#at\n",
        "uk_aimfin = pd.merge(uk_aim, comp, how=\"inner\", on=\"yearISIN\")\n",
        "# procure client count\n",
        "uk_aimfin_c=len(uk_aimfin[\"ISIN\"].unique())\n",
        "\n",
        "uk_aimfina=uk_aimfin.groupby(['ISIN'], as_index=False).agg(\n",
        "                      {'at':['mean',\"median\"]})\n",
        "uk_aimfina.columns = ['ISIN','Mean',\"Median\"]\n",
        "uk_aimfina=uk_aimfina.reindex(columns=sorted(uk_aimfina.columns))\n",
        "uk_aimfinam=uk_aimfina[\"Mean\"].mean()\n",
        "uk_aimfinam2=uk_aimfina[\"Mean\"].median()\n",
        "\n",
        "#leverage\n",
        "uk_aimfinl=uk_aimfin.groupby(['ISIN'], as_index=False).agg(\n",
        "                      {'leverage':['mean',\"median\"]})\n",
        "uk_aimfinl.columns = ['ISIN','Mean',\"Median\"]\n",
        "uk_aimfinl=uk_aimfinl.reindex(columns=sorted(uk_aimfinl.columns))\n",
        "uk_aimfinlm=uk_aimfinl[\"Mean\"].mean()*100\n",
        "uk_aimfinlm2=uk_aimfinl[\"Mean\"].median()*100\n",
        "\n",
        "#roa\n",
        "\n",
        "uk_aimfinr=uk_aimfin.groupby(['ISIN'], as_index=False).agg(\n",
        "                      {'roa':['mean',\"median\"]})\n",
        "uk_aimfinr.columns = ['ISIN','Mean',\"Median\"]\n",
        "uk_aimfinr=uk_aimfinr.reindex(columns=sorted(uk_aimfinr.columns))\n",
        "uk_aimfinrm=uk_aimfinr[\"Mean\"].mean()*100\n",
        "uk_aimfinrm2=uk_aimfinr[\"Mean\"].median()*100\n",
        "\n",
        "#loss\n",
        "\n",
        "uk_aimfinlo=uk_aimfin.groupby(['ISIN'], as_index=False).agg(\n",
        "                      {'loss':['mean',\"median\"]})\n",
        "uk_aimfinlo.columns = ['ISIN','Mean',\"Median\"]\n",
        "uk_aimfinlo=uk_aimfinlo.reindex(columns=sorted(uk_aimfinlo.columns))\n",
        "uk_aimfinlom=uk_aimfinlo[\"Mean\"].mean()*100\n",
        "uk_aimfinlom2=uk_aimfinlo[\"Mean\"].median()*100\n",
        "\n",
        "#Germany regulated\n",
        "#at\n",
        "ger_regfin = pd.merge(ger_reg, comp, how=\"inner\", on=\"yearISIN\")\n",
        "# procure client count\n",
        "ger_regfin_c=len(ger_regfin[\"ISIN\"].unique())\n",
        "\n",
        "ger_regfina=ger_regfin.groupby(['ISIN'], as_index=False).agg(\n",
        "                      {'at':['mean',\"median\"]})\n",
        "ger_regfina.columns = ['ISIN','Mean',\"Median\"]\n",
        "ger_regfina=ger_regfina.reindex(columns=sorted(ger_regfina.columns))\n",
        "ger_regfinam=ger_regfina[\"Mean\"].mean()\n",
        "ger_regfinam2=ger_regfina[\"Mean\"].median()\n",
        "\n",
        "#leverage\n",
        "ger_regfinl=ger_regfin.groupby(['ISIN'], as_index=False).agg(\n",
        "                      {'leverage':['mean',\"median\"]})\n",
        "ger_regfinl.columns = ['ISIN','Mean',\"Median\"]\n",
        "ger_regfinl=ger_regfinl.reindex(columns=sorted(ger_regfinl.columns))\n",
        "ger_regfinlm=ger_regfinl[\"Mean\"].mean()*100\n",
        "ger_regfinlm2=ger_regfinl[\"Mean\"].median()*100\n",
        "\n",
        "#roa\n",
        "\n",
        "ger_regfinr=ger_regfin.groupby(['ISIN'], as_index=False).agg(\n",
        "                      {'roa':['mean',\"median\"]})\n",
        "ger_regfinr.columns = ['ISIN','Mean',\"Median\"]\n",
        "ger_regfinr=ger_regfinr.reindex(columns=sorted(ger_regfinr.columns))\n",
        "ger_regfinrm=ger_regfinr[\"Mean\"].mean()*100\n",
        "ger_regfinrm2=ger_regfinr[\"Mean\"].median()*100\n",
        "\n",
        "#loss\n",
        "\n",
        "ger_regfinlo=ger_regfin.groupby(['ISIN'], as_index=False).agg(\n",
        "                      {'loss':['mean',\"median\"]})\n",
        "ger_regfinlo.columns = ['ISIN','Mean',\"Median\"]\n",
        "ger_regfinlo=ger_regfinlo.reindex(columns=sorted(ger_regfinlo.columns))\n",
        "ger_regfinlom=ger_regfinlo[\"Mean\"].mean()*100\n",
        "ger_regfinlom2=ger_regfinlo[\"Mean\"].median()*100\n",
        "\n",
        "#Germany not regulated\n",
        "#at\n",
        "ger_nregfin = pd.merge(ger_nreg, comp, how=\"inner\", on=\"yearISIN\")\n",
        "# procure client count\n",
        "ger_nregfin_c=len(ger_nregfin[\"ISIN\"].unique())\n",
        "\n",
        "ger_nregfina=ger_nregfin.groupby(['ISIN'], as_index=False).agg(\n",
        "                      {'at':['mean',\"median\"]})\n",
        "ger_nregfina.columns = ['ISIN','Mean',\"Median\"]\n",
        "ger_nregfina=ger_nregfina.reindex(columns=sorted(ger_nregfina.columns))\n",
        "ger_nregfinam=ger_nregfina[\"Mean\"].mean()\n",
        "ger_nregfinam2=ger_nregfina[\"Mean\"].median()\n",
        "\n",
        "#leverage\n",
        "ger_nregfinl=ger_nregfin.groupby(['ISIN'], as_index=False).agg(\n",
        "                      {'leverage':['mean',\"median\"]})\n",
        "ger_nregfinl.columns = ['ISIN','Mean',\"Median\"]\n",
        "ger_nregfinl=ger_nregfinl.reindex(columns=sorted(ger_nregfinl.columns))\n",
        "ger_nregfinlm=ger_nregfinl[\"Mean\"].mean()*100\n",
        "ger_nregfinlm2=ger_nregfinl[\"Mean\"].median()*100\n",
        "\n",
        "#roa\n",
        "\n",
        "ger_nregfinr=ger_nregfin.groupby(['ISIN'], as_index=False).agg(\n",
        "                      {'roa':['mean',\"median\"]})\n",
        "ger_nregfinr.columns = ['ISIN','Mean',\"Median\"]\n",
        "ger_nregfinr=ger_nregfinr.reindex(columns=sorted(ger_nregfinr.columns))\n",
        "ger_nregfinrm=ger_nregfinr[\"Mean\"].mean()*100\n",
        "ger_nregfinrm2=ger_nregfinr[\"Mean\"].median()*100\n",
        "\n",
        "#loss\n",
        "\n",
        "ger_nregfinlo=ger_nregfin.groupby(['ISIN'], as_index=False).agg(\n",
        "                      {'loss':['mean',\"median\"]})\n",
        "ger_nregfinlo.columns = ['ISIN','Mean',\"Median\"]\n",
        "ger_nregfinlo=ger_nregfinlo.reindex(columns=sorted(ger_nregfinlo.columns))\n",
        "ger_nregfinlom=ger_nregfinlo[\"Mean\"].mean()*100\n",
        "ger_nregfinlom2=ger_nregfinlo[\"Mean\"].median()*100\n",
        "\n",
        "\n",
        "\n",
        "# build dataframe\n",
        "# insert observation data\n",
        "data = [['Total assets (in m of euros)', \"Mean\",uk_mmfinam,uk_aimfinam,ger_regfinam,ger_nregfinam]\n",
        "        ,['', \"Median\",uk_mmfinam2,uk_aimfinam2,ger_regfinam2,ger_nregfinam2]\n",
        "        ,['Leverage %', \"Mean\",uk_mmfinlm,uk_aimfinlm,ger_regfinlm,ger_nregfinlm]\n",
        "        ,['', \"Median\",uk_mmfinlm2,uk_aimfinlm2,ger_regfinlm2,ger_nregfinlm2]\n",
        "        ,['Return on assets %', \"Mean\",uk_mmfinrm,uk_aimfinrm,ger_regfinrm,ger_nregfinrm]\n",
        "        ,['', \"Median\",uk_mmfinrm2,uk_aimfinrm2,ger_regfinrm2,ger_nregfinrm2]\n",
        "        ,['Loss %', \"Mean\",uk_mmfinlom,uk_aimfinlom,ger_regfinlom,ger_nregfinlom]\n",
        "        ,['', \"Median\",uk_mmfinlom2,uk_aimfinlom2,ger_regfinlom2,ger_nregfinlom2]\n",
        "        ,['Total', \"Clients\",uk_mmfin_c,uk_aimfin_c,ger_regfin_c,ger_nregfin_c]]\n",
        "\n",
        "# Create the dataframe\n",
        "df = pd.DataFrame(data, columns=['Variable', 'Metric','LSE MM', 'LSE AIM','FSE regulated', 'FSE not regulated'])\n",
        "\n",
        "# print dataframe.\n",
        "print(df)"
      ],
      "metadata": {
        "id": "r0EMVKNBe6Jq",
        "colab": {
          "base_uri": "https://localhost:8080/"
        },
        "outputId": "7fc8d4bd-ae20-453a-d4a9-5ac09cc73a59"
      },
      "execution_count": null,
      "outputs": [
        {
          "output_type": "stream",
          "name": "stdout",
          "text": [
            "                       Variable   Metric        LSE MM     LSE AIM  \\\n",
            "0  Total assets (in m of euros)     Mean  16594.858668   76.042021   \n",
            "1                                 Median    397.833333   26.109333   \n",
            "2                    Leverage %     Mean    119.718316   60.348795   \n",
            "3                                 Median     38.809673   38.226210   \n",
            "4            Return on assets %     Mean    -12.739858  -23.306976   \n",
            "5                                 Median      4.660800   -4.336751   \n",
            "6                        Loss %     Mean     21.767165   50.932625   \n",
            "7                                 Median     14.285714   50.000000   \n",
            "8                         Total  Clients    691.000000  653.000000   \n",
            "\n",
            "   FSE regulated  FSE not regulated  \n",
            "0   24702.865621        1738.631060  \n",
            "1     579.630542          80.330167  \n",
            "2      57.952611          53.877988  \n",
            "3      57.437902          56.711005  \n",
            "4       1.660741           0.985720  \n",
            "5       3.060299           2.128365  \n",
            "6      20.496416          29.638506  \n",
            "7       9.090909          20.000000  \n",
            "8     248.000000          87.000000  \n"
          ]
        }
      ]
    },
    {
      "cell_type": "code",
      "source": [
        "# counts\n",
        "print(uk_mmfin_c)\n",
        "print(uk_aimfin_c)\n",
        "print(ger_regfin_c)\n",
        "print(ger_nregfin_c)"
      ],
      "metadata": {
        "colab": {
          "base_uri": "https://localhost:8080/"
        },
        "id": "dFVzUCbUBQo-",
        "outputId": "8fd9d1f1-d7bb-40e7-ec69-fbb808da7da4"
      },
      "execution_count": null,
      "outputs": [
        {
          "output_type": "stream",
          "name": "stdout",
          "text": [
            "691\n",
            "653\n",
            "248\n",
            "87\n"
          ]
        }
      ]
    },
    {
      "cell_type": "code",
      "source": [
        "#Table 5 Panel A1, B1"
      ],
      "metadata": {
        "id": "arnkHxVlD2Rx"
      },
      "execution_count": null,
      "outputs": []
    },
    {
      "cell_type": "code",
      "source": [
        "# create pre- and post-reform datasets\n",
        "uk_mm_pre=uk_mm[(uk_mm[\"Year\"] == \"2011\") | (uk_mm[\"Year\"] == \"2012\")| (uk_mm[\"Year\"] == \"2013\")| (uk_mm[\"Year\"] == \"2014\")| (uk_mm[\"Year\"] == \"2015\")]\n",
        "uk_mm_post=uk_mm[(uk_mm[\"Year\"] == \"2016\") | (uk_mm[\"Year\"] == \"2017\")| (uk_mm[\"Year\"] == \"2018\")| (uk_mm[\"Year\"] == \"2019\")| (uk_mm[\"Year\"] == \"2020\")]\n",
        "\n",
        "ger_reg_pre=ger_reg[(ger_reg[\"Year\"] == \"2011\") | (ger_reg[\"Year\"] == \"2012\")| (ger_reg[\"Year\"] == \"2013\")| (ger_reg[\"Year\"] == \"2014\")| (ger_reg[\"Year\"] == \"2015\")]\n",
        "ger_reg_post=ger_reg[(ger_reg[\"Year\"] == \"2016\") | (ger_reg[\"Year\"] == \"2017\")| (ger_reg[\"Year\"] == \"2018\")| (ger_reg[\"Year\"] == \"2019\")| (ger_reg[\"Year\"] == \"2020\")]"
      ],
      "metadata": {
        "id": "MXEw-lBtSdwc"
      },
      "execution_count": null,
      "outputs": []
    },
    {
      "cell_type": "code",
      "source": [
        "# total sums for fees market share and counts for client market share\n",
        "agfees_uk_pre=uk_mm_pre['AUDIT_FEES_EUR'].sum()\n",
        "print(agfees_uk_pre)\n",
        "agfees_uk_post=uk_mm_post['AUDIT_FEES_EUR'].sum()\n",
        "print(agfees_uk_post)\n",
        "\n",
        "agfees_ger_pre=ger_reg_pre['AUDIT_FEES_EUR'].sum()\n",
        "print(agfees_ger_pre)\n",
        "agfees_ger_post=ger_reg_post['AUDIT_FEES_EUR'].sum()\n",
        "print(agfees_ger_post)\n",
        "\n",
        "agcl_uk_pre=uk_mm_pre['AUDITOR_NETWORK'].count()\n",
        "agcl_uk_post=uk_mm_post['AUDITOR_NETWORK'].count()\n",
        "\n",
        "agcl_ger_pre=ger_reg_pre['AUDITOR_NETWORK'].count()\n",
        "agcl_ger_post=ger_reg_post['AUDITOR_NETWORK'].count()"
      ],
      "metadata": {
        "id": "PHPAs8PdEjNc",
        "colab": {
          "base_uri": "https://localhost:8080/"
        },
        "outputId": "db8e4d36-12e9-4cf7-9f38-5fbbb4675dfb"
      },
      "execution_count": null,
      "outputs": [
        {
          "output_type": "stream",
          "name": "stdout",
          "text": [
            "4882004989.0\n",
            "6142211093.0\n",
            "2985356836.0\n",
            "3575187118.0\n"
          ]
        }
      ]
    },
    {
      "cell_type": "code",
      "source": [
        "# total auditing firms\n",
        "uk_mm_pre_audc=len(uk_mm_pre['AUDITOR_NETWORK'].unique())\n",
        "print(uk_mm_pre_audc)\n",
        "uk_mm_post_audc=len(uk_mm_post['AUDITOR_NETWORK'].unique())\n",
        "print(uk_mm_post_audc)\n",
        "ger_reg_pre_audc=len(ger_reg_pre['AUDITOR_NETWORK'].unique())\n",
        "print(ger_reg_pre_audc)\n",
        "ger_reg_post_audc=len(ger_reg_post['AUDITOR_NETWORK'].unique())\n",
        "print(ger_reg_post_audc)"
      ],
      "metadata": {
        "id": "t3W5HI03mo3P",
        "colab": {
          "base_uri": "https://localhost:8080/"
        },
        "outputId": "59ccff2a-477c-40ed-f17a-ccaa208b8fec"
      },
      "execution_count": null,
      "outputs": [
        {
          "output_type": "stream",
          "name": "stdout",
          "text": [
            "32\n",
            "37\n",
            "40\n",
            "32\n"
          ]
        }
      ]
    },
    {
      "cell_type": "code",
      "source": [
        "# individual aggreggated sums and means for fees market share and counts for client market share\n",
        "uk_mm_pre_anet=uk_mm_pre.groupby(['AUDITOR_NETWORK'], as_index=False).agg(\n",
        "                      {'AUDIT_FEES_EUR':['sum',\"mean\"]})\n",
        "uk_mm_pre_anet.columns = ['Name','Sum',\"Average\"]\n",
        "uk_mm_pre_anet=uk_mm_pre_anet.reindex(columns=sorted(uk_mm_pre_anet.columns))\n",
        "\n",
        "uk_mm_post_anet=uk_mm_post.groupby(['AUDITOR_NETWORK'], as_index=False).agg(\n",
        "                      {'AUDIT_FEES_EUR':['sum',\"mean\"]})\n",
        "uk_mm_post_anet.columns = ['Name','Sum',\"Average\"]\n",
        "uk_mm_post_anet=uk_mm_post_anet.reindex(columns=sorted(uk_mm_post_anet.columns))\n",
        "\n",
        "ger_reg_pre_anet=ger_reg_pre.groupby(['AUDITOR_NETWORK'], as_index=False).agg(\n",
        "                      {'AUDIT_FEES_EUR':['sum',\"mean\"]})\n",
        "ger_reg_pre_anet.columns = ['Name','Sum',\"Average\"]\n",
        "ger_reg_pre_anet=ger_reg_pre_anet.reindex(columns=sorted(ger_reg_pre_anet.columns))\n",
        "\n",
        "ger_reg_post_anet=ger_reg_post.groupby(['AUDITOR_NETWORK'], as_index=False).agg(\n",
        "                      {'AUDIT_FEES_EUR':['sum',\"mean\"]})\n",
        "ger_reg_post_anet.columns = ['Name','Sum',\"Average\"]\n",
        "ger_reg_post_anet=ger_reg_post_anet.reindex(columns=sorted(ger_reg_post_anet.columns))"
      ],
      "metadata": {
        "id": "MD1LYAqQLzsz"
      },
      "execution_count": null,
      "outputs": []
    },
    {
      "cell_type": "code",
      "source": [
        "uk_mm_pre_cl=uk_mm_pre.groupby(['AUDITOR_NETWORK'], as_index=False).agg(\n",
        "                      {'AUDITOR_NETWORK':['first','count']})\n",
        "uk_mm_pre_cl.columns = ['Name','Count']\n",
        "uk_mm_pre_cl=uk_mm_pre_cl.reindex(columns=sorted(uk_mm_pre_cl.columns))\n",
        "\n",
        "uk_mm_post_cl=uk_mm_post.groupby(['AUDITOR_NETWORK'], as_index=False).agg(\n",
        "                      {'AUDITOR_NETWORK':['first','count']})\n",
        "uk_mm_post_cl.columns = ['Name','Count']\n",
        "uk_mm_post_cl=uk_mm_post_cl.reindex(columns=sorted(uk_mm_post_cl.columns))\n",
        "\n",
        "ger_reg_pre_cl=ger_reg_pre.groupby(['AUDITOR_NETWORK'], as_index=False).agg(\n",
        "                      {'AUDITOR_NETWORK':['first','count']})\n",
        "ger_reg_pre_cl.columns = ['Name','Count']\n",
        "ger_reg_pre_cl=ger_reg_pre_cl.reindex(columns=sorted(ger_reg_pre_cl.columns))\n",
        "\n",
        "ger_reg_post_cl=ger_reg_post.groupby(['AUDITOR_NETWORK'], as_index=False).agg(\n",
        "                      {'AUDITOR_NETWORK':['first','count']})\n",
        "ger_reg_post_cl.columns = ['Name','Count']\n",
        "ger_reg_post_cl=ger_reg_post_cl.reindex(columns=sorted(ger_reg_post_cl.columns))"
      ],
      "metadata": {
        "id": "cF8WopvNVpZb"
      },
      "execution_count": null,
      "outputs": []
    },
    {
      "cell_type": "code",
      "source": [
        "# market concentration calculation (market share)\n",
        "uk_mm_pre_anet[\"Market Concentration (Fees)\"]=uk_mm_pre_anet[\"Sum\"]/agfees_uk_pre*100\n",
        "uk_mm_post_anet[\"Market Concentration (Fees)\"]=uk_mm_post_anet[\"Sum\"]/agfees_uk_post*100\n",
        "\n",
        "ger_reg_pre_anet[\"Market Concentration (Fees)\"]=ger_reg_pre_anet[\"Sum\"]/agfees_ger_pre*100\n",
        "ger_reg_post_anet[\"Market Concentration (Fees)\"]=ger_reg_post_anet[\"Sum\"]/agfees_ger_post*100\n",
        "\n",
        "uk_mm_pre_cl[\"Market Concentration (Clients)\"]=uk_mm_pre_cl[\"Count\"]/agcl_uk_pre*100\n",
        "uk_mm_post_cl[\"Market Concentration (Clients)\"]=uk_mm_post_cl[\"Count\"]/agcl_uk_post*100\n",
        "\n",
        "ger_reg_pre_cl[\"Market Concentration (Clients)\"]=ger_reg_pre_cl[\"Count\"]/agcl_ger_pre*100\n",
        "ger_reg_post_cl[\"Market Concentration (Clients)\"]=ger_reg_post_cl[\"Count\"]/agcl_ger_post*100"
      ],
      "metadata": {
        "id": "t0JNNadjQqJ5"
      },
      "execution_count": null,
      "outputs": []
    },
    {
      "cell_type": "code",
      "source": [
        "# HHI All\n",
        "# Squared market shares\n",
        "uk_mm_pre_anet[\"Squared share\"]=uk_mm_pre_anet[\"Market Concentration (Fees)\"]**2\n",
        "uk_mm_post_anet[\"Squared share\"]=uk_mm_post_anet[\"Market Concentration (Fees)\"]**2\n",
        "\n",
        "ger_reg_pre_anet[\"Squared share\"]=ger_reg_pre_anet[\"Market Concentration (Fees)\"]**2\n",
        "ger_reg_post_anet[\"Squared share\"]=ger_reg_post_anet[\"Market Concentration (Fees)\"]**2\n",
        "\n",
        "uk_mm_pre_cl[\"Squared share\"]=uk_mm_pre_cl[\"Market Concentration (Clients)\"]**2\n",
        "uk_mm_post_cl[\"Squared share\"]=uk_mm_post_cl[\"Market Concentration (Clients)\"]**2\n",
        "\n",
        "ger_reg_pre_cl[\"Squared share\"]=ger_reg_pre_cl[\"Market Concentration (Clients)\"]**2\n",
        "ger_reg_post_cl[\"Squared share\"]=ger_reg_post_cl[\"Market Concentration (Clients)\"]**2\n",
        "\n",
        "#Sum to receive HHI values\n",
        "uk_mm_pre_anetHHIall=uk_mm_pre_anet[\"Squared share\"].sum()\n",
        "uk_mm_post_anetHHIall=uk_mm_post_anet[\"Squared share\"].sum()\n",
        "\n",
        "ger_reg_pre_anetHHIall=ger_reg_pre_anet[\"Squared share\"].sum()\n",
        "ger_reg_post_anetHHIall=ger_reg_post_anet[\"Squared share\"].sum()\n",
        "\n",
        "uk_mm_pre_clHHIall=uk_mm_pre_cl[\"Squared share\"].sum()\n",
        "uk_mm_post_clHHIall=uk_mm_post_cl[\"Squared share\"].sum()\n",
        "\n",
        "ger_reg_pre_clHHIall=ger_reg_pre_cl[\"Squared share\"].sum()\n",
        "ger_reg_post_clHHIall=ger_reg_post_cl[\"Squared share\"].sum()"
      ],
      "metadata": {
        "id": "9CwtdixPbkTL"
      },
      "execution_count": null,
      "outputs": []
    },
    {
      "cell_type": "code",
      "source": [
        "# create a binary variable to distinguish the firms from the table\n",
        "uk_mm_pre_anet[\"Included Network\"]=uk_mm_pre_anet.apply(lambda x : 0 if x['Name'] == \"|PricewaterhouseCoopers International|\"\n",
        "                                      or x['Name'] == \"|Nexia International|\"\n",
        "                                      or x['Name'] == \"|KPMG International|\"\n",
        "                                      or x['Name'] == \"|Grant Thornton International|\"\n",
        "                                      or x['Name'] == \"|Ernst & Young Global|\"\n",
        "                                      or x['Name'] == \"|Deloitte & Touche International|\"\n",
        "                                      or x['Name'] == \"|BDO International|\"\n",
        "                                      or x['Name'] == \"|Baker Tilly International|\" else 1, axis=1)\n",
        "\n",
        "uk_mm_pre_cl[\"Included Network\"]=uk_mm_pre_cl.apply(lambda x : 0 if x['Name'] == \"|PricewaterhouseCoopers International|\"\n",
        "                                      or x['Name'] == \"|Nexia International|\"\n",
        "                                      or x['Name'] == \"|KPMG International|\"\n",
        "                                      or x['Name'] == \"|Grant Thornton International|\"\n",
        "                                      or x['Name'] == \"|Ernst & Young Global|\"\n",
        "                                      or x['Name'] == \"|Deloitte & Touche International|\"\n",
        "                                      or x['Name'] == \"|BDO International|\"\n",
        "                                      or x['Name'] == \"|Baker Tilly International|\" else 1, axis=1)"
      ],
      "metadata": {
        "id": "AEIfEuwci5RP"
      },
      "execution_count": null,
      "outputs": []
    },
    {
      "cell_type": "code",
      "source": [
        "uk_mm_post_anet[\"Included Network\"]=uk_mm_post_anet.apply(lambda x : 0 if x['Name'] == \"|PricewaterhouseCoopers International|\"\n",
        "                                      or x['Name'] == \"|Nexia International|\"\n",
        "                                      or x['Name'] == \"|KPMG International|\"\n",
        "                                      or x['Name'] == \"|Grant Thornton International|\"\n",
        "                                      or x['Name'] == \"|Ernst & Young Global|\"\n",
        "                                      or x['Name'] == \"|Deloitte & Touche International|\"\n",
        "                                      or x['Name'] == \"|BDO International|\"\n",
        "                                      or x['Name'] == \"|Baker Tilly International|\" else 1, axis=1)\n",
        "\n",
        "uk_mm_post_cl[\"Included Network\"]=uk_mm_post_cl.apply(lambda x : 0 if x['Name'] == \"|PricewaterhouseCoopers International|\"\n",
        "                                      or x['Name'] == \"|Nexia International|\"\n",
        "                                      or x['Name'] == \"|KPMG International|\"\n",
        "                                      or x['Name'] == \"|Grant Thornton International|\"\n",
        "                                      or x['Name'] == \"|Ernst & Young Global|\"\n",
        "                                      or x['Name'] == \"|Deloitte & Touche International|\"\n",
        "                                      or x['Name'] == \"|BDO International|\"\n",
        "                                      or x['Name'] == \"|Baker Tilly International|\" else 1, axis=1)"
      ],
      "metadata": {
        "id": "H9wKAULOkA-a"
      },
      "execution_count": null,
      "outputs": []
    },
    {
      "cell_type": "code",
      "source": [
        "ger_reg_pre_anet[\"Included Network\"]=ger_reg_pre_anet.apply(lambda x : 0 if x['Name'] == \"|PricewaterhouseCoopers International|\"\n",
        "                                      or x['Name'] == \"|Nexia International|\"\n",
        "                                      or x['Name'] == \"|KPMG International|\"\n",
        "                                      or x['Name'] == \"|Grant Thornton International|\"\n",
        "                                      or x['Name'] == \"|Ernst & Young Global|\"\n",
        "                                      or x['Name'] == \"|Deloitte & Touche International|\"\n",
        "                                      or x['Name'] == \"|BDO International|\"\n",
        "                                      or x['Name'] == \"|Baker Tilly International|\" else 1, axis=1)\n",
        "\n",
        "ger_reg_pre_cl[\"Included Network\"]=ger_reg_pre_cl.apply(lambda x : 0 if x['Name'] == \"|PricewaterhouseCoopers International|\"\n",
        "                                      or x['Name'] == \"|Nexia International|\"\n",
        "                                      or x['Name'] == \"|KPMG International|\"\n",
        "                                      or x['Name'] == \"|Grant Thornton International|\"\n",
        "                                      or x['Name'] == \"|Ernst & Young Global|\"\n",
        "                                      or x['Name'] == \"|Deloitte & Touche International|\"\n",
        "                                      or x['Name'] == \"|BDO International|\"\n",
        "                                      or x['Name'] == \"|Baker Tilly International|\" else 1, axis=1)"
      ],
      "metadata": {
        "id": "7GAqcLJ9kBjB"
      },
      "execution_count": null,
      "outputs": []
    },
    {
      "cell_type": "code",
      "source": [
        "ger_reg_post_anet[\"Included Network\"]=ger_reg_post_anet.apply(lambda x : 0 if x['Name'] == \"|PricewaterhouseCoopers International|\"\n",
        "                                      or x['Name'] == \"|Nexia International|\"\n",
        "                                      or x['Name'] == \"|KPMG International|\"\n",
        "                                      or x['Name'] == \"|Grant Thornton International|\"\n",
        "                                      or x['Name'] == \"|Ernst & Young Global|\"\n",
        "                                      or x['Name'] == \"|Deloitte & Touche International|\"\n",
        "                                      or x['Name'] == \"|BDO International|\"\n",
        "                                      or x['Name'] == \"|Baker Tilly International|\" else 1, axis=1)\n",
        "\n",
        "ger_reg_post_cl[\"Included Network\"]=ger_reg_post_cl.apply(lambda x : 0 if x['Name'] == \"|PricewaterhouseCoopers International|\"\n",
        "                                      or x['Name'] == \"|Nexia International|\"\n",
        "                                      or x['Name'] == \"|KPMG International|\"\n",
        "                                      or x['Name'] == \"|Grant Thornton International|\"\n",
        "                                      or x['Name'] == \"|Ernst & Young Global|\"\n",
        "                                      or x['Name'] == \"|Deloitte & Touche International|\"\n",
        "                                      or x['Name'] == \"|BDO International|\"\n",
        "                                      or x['Name'] == \"|Baker Tilly International|\" else 1, axis=1)"
      ],
      "metadata": {
        "id": "sRmjF2zukB_f"
      },
      "execution_count": null,
      "outputs": []
    },
    {
      "cell_type": "code",
      "source": [
        "# select only networks from the paper and sort descending\n",
        "uk_mm_pre_anet=uk_mm_pre_anet[uk_mm_pre_anet['Included Network']==0]\n",
        "uk_mm_pre_anet=uk_mm_pre_anet.sort_values(by=['Market Concentration (Fees)'],ascending=0)\n",
        "\n",
        "uk_mm_post_anet=uk_mm_post_anet[uk_mm_post_anet['Included Network']==0]\n",
        "uk_mm_post_anet=uk_mm_post_anet.sort_values(by=['Market Concentration (Fees)'],ascending=0)\n",
        "\n",
        "ger_reg_pre_anet=ger_reg_pre_anet[ger_reg_pre_anet['Included Network']==0]\n",
        "ger_reg_pre_anet=ger_reg_pre_anet.sort_values(by=['Market Concentration (Fees)'],ascending=0)\n",
        "\n",
        "ger_reg_post_anet=ger_reg_post_anet[ger_reg_post_anet['Included Network']==0]\n",
        "ger_reg_post_anet=ger_reg_post_anet.sort_values(by=['Market Concentration (Fees)'],ascending=0)\n",
        "####\n",
        "uk_mm_pre_cl=uk_mm_pre_cl[uk_mm_pre_cl['Included Network']==0]\n",
        "uk_mm_pre_cl=uk_mm_pre_cl.sort_values(by=['Market Concentration (Clients)'],ascending=0)\n",
        "\n",
        "uk_mm_post_cl=uk_mm_post_cl[uk_mm_post_cl['Included Network']==0]\n",
        "uk_mm_post_cl=uk_mm_post_cl.sort_values(by=['Market Concentration (Clients)'],ascending=0)\n",
        "\n",
        "ger_reg_pre_cl=ger_reg_pre_cl[ger_reg_pre_cl['Included Network']==0]\n",
        "ger_reg_pre_cl=ger_reg_pre_cl.sort_values(by=['Market Concentration (Clients)'],ascending=0)\n",
        "\n",
        "ger_reg_post_cl=ger_reg_post_cl[ger_reg_post_cl['Included Network']==0]\n",
        "ger_reg_post_cl=ger_reg_post_cl.sort_values(by=['Market Concentration (Clients)'],ascending=0)"
      ],
      "metadata": {
        "id": "RMqy97_Pah0E"
      },
      "execution_count": null,
      "outputs": []
    },
    {
      "cell_type": "code",
      "source": [
        "# delete some unnecessary columns\n",
        "del uk_mm_pre_anet[\"Included Network\"]\n",
        "del uk_mm_pre_cl[\"Included Network\"]\n",
        "del uk_mm_post_anet[\"Included Network\"]\n",
        "del uk_mm_post_cl[\"Included Network\"]\n",
        "\n",
        "del ger_reg_pre_anet[\"Included Network\"]\n",
        "del ger_reg_pre_cl[\"Included Network\"]\n",
        "del ger_reg_post_anet[\"Included Network\"]\n",
        "del ger_reg_post_cl[\"Included Network\"]"
      ],
      "metadata": {
        "id": "vzrQiBVDgrEP"
      },
      "execution_count": null,
      "outputs": []
    },
    {
      "cell_type": "code",
      "source": [
        "# replace names for readability purposes\n",
        "uk_mm_pre_anet=uk_mm_pre_anet.replace([\"|KPMG International|\",\"|Deloitte & Touche International|\",\"|Ernst & Young Global|\"\n",
        ",\"|Grant Thornton International|\",\"|BDO International|\"\n",
        ",\"|Nexia International|\",\"|Baker Tilly International|\",\"|PricewaterhouseCoopers International|\"]\n",
        ", [\"KPMG\",\"Deloitte\",\"EY\",\"Grant Thornton\",\"BDO\",\"Nexia\",\"Baker Tilly\",\"PwC\"])\n",
        "\n",
        "uk_mm_post_anet=uk_mm_post_anet.replace([\"|KPMG International|\",\"|Deloitte & Touche International|\",\"|Ernst & Young Global|\"\n",
        ",\"|Grant Thornton International|\",\"|BDO International|\"\n",
        ",\"|Nexia International|\",\"|Baker Tilly International|\",\"|PricewaterhouseCoopers International|\"]\n",
        ", [\"KPMG\",\"Deloitte\",\"EY\",\"Grant Thornton\",\"BDO\",\"Nexia\",\"Baker Tilly\",\"PwC\"])\n",
        "\n",
        "uk_mm_pre_cl=uk_mm_pre_cl.replace([\"|KPMG International|\",\"|Deloitte & Touche International|\",\"|Ernst & Young Global|\"\n",
        ",\"|Grant Thornton International|\",\"|BDO International|\"\n",
        ",\"|Nexia International|\",\"|Baker Tilly International|\",\"|PricewaterhouseCoopers International|\"]\n",
        ", [\"KPMG\",\"Deloitte\",\"EY\",\"Grant Thornton\",\"BDO\",\"Nexia\",\"Baker Tilly\",\"PwC\"])\n",
        "\n",
        "uk_mm_post_cl=uk_mm_post_cl.replace([\"|KPMG International|\",\"|Deloitte & Touche International|\",\"|Ernst & Young Global|\"\n",
        ",\"|Grant Thornton International|\",\"|BDO International|\"\n",
        ",\"|Nexia International|\",\"|Baker Tilly International|\",\"|PricewaterhouseCoopers International|\"]\n",
        ", [\"KPMG\",\"Deloitte\",\"EY\",\"Grant Thornton\",\"BDO\",\"Nexia\",\"Baker Tilly\",\"PwC\"])\n",
        "#######\n",
        "ger_reg_pre_anet=ger_reg_pre_anet.replace([\"|KPMG International|\",\"|Deloitte & Touche International|\",\"|Ernst & Young Global|\"\n",
        ",\"|Grant Thornton International|\",\"|BDO International|\"\n",
        ",\"|Nexia International|\",\"|Baker Tilly International|\",\"|PricewaterhouseCoopers International|\"]\n",
        ", [\"KPMG\",\"Deloitte\",\"EY\",\"Grant Thornton\",\"BDO\",\"Nexia\",\"Baker Tilly\",\"PwC\"])\n",
        "\n",
        "ger_reg_post_anet=ger_reg_post_anet.replace([\"|KPMG International|\",\"|Deloitte & Touche International|\",\"|Ernst & Young Global|\"\n",
        ",\"|Grant Thornton International|\",\"|BDO International|\"\n",
        ",\"|Nexia International|\",\"|Baker Tilly International|\",\"|PricewaterhouseCoopers International|\"]\n",
        ", [\"KPMG\",\"Deloitte\",\"EY\",\"Grant Thornton\",\"BDO\",\"Nexia\",\"Baker Tilly\",\"PwC\"])\n",
        "\n",
        "ger_reg_pre_cl=ger_reg_pre_cl.replace([\"|KPMG International|\",\"|Deloitte & Touche International|\",\"|Ernst & Young Global|\"\n",
        ",\"|Grant Thornton International|\",\"|BDO International|\"\n",
        ",\"|Nexia International|\",\"|Baker Tilly International|\",\"|PricewaterhouseCoopers International|\"]\n",
        ", [\"KPMG\",\"Deloitte\",\"EY\",\"Grant Thornton\",\"BDO\",\"Nexia\",\"Baker Tilly\",\"PwC\"])\n",
        "\n",
        "ger_reg_post_cl=ger_reg_post_cl.replace([\"|KPMG International|\",\"|Deloitte & Touche International|\",\"|Ernst & Young Global|\"\n",
        ",\"|Grant Thornton International|\",\"|BDO International|\"\n",
        ",\"|Nexia International|\",\"|Baker Tilly International|\",\"|PricewaterhouseCoopers International|\"]\n",
        ", [\"KPMG\",\"Deloitte\",\"EY\",\"Grant Thornton\",\"BDO\",\"Nexia\",\"Baker Tilly\",\"PwC\"])\n"
      ],
      "metadata": {
        "id": "IAnCNNrrh4a1"
      },
      "execution_count": null,
      "outputs": []
    },
    {
      "cell_type": "code",
      "source": [
        "# create a binary variable for the Big4 identification\n",
        "uk_mm_pre_cl[\"Big 4\"]=uk_mm_pre_cl.apply(lambda x : 0 if x['Name'] == \"PwC\"\n",
        "                                      or x['Name'] == \"Deloitte\"\n",
        "                                      or x['Name'] == \"EY\"\n",
        "                                      or x['Name'] == \"KPMG\" else 1, axis=1)\n",
        "uk_mm_post_cl[\"Big 4\"]=uk_mm_post_cl.apply(lambda x : 0 if x['Name'] == \"PwC\"\n",
        "                                      or x['Name'] == \"Deloitte\"\n",
        "                                      or x['Name'] == \"EY\"\n",
        "                                      or x['Name'] == \"KPMG\" else 1, axis=1)\n",
        "\n",
        "ger_reg_pre_cl[\"Big 4\"]=ger_reg_pre_cl.apply(lambda x : 0 if x['Name'] == \"PwC\"\n",
        "                                      or x['Name'] == \"Deloitte\"\n",
        "                                      or x['Name'] == \"EY\"\n",
        "                                      or x['Name'] == \"KPMG\" else 1, axis=1)\n",
        "ger_reg_post_cl[\"Big 4\"]=ger_reg_post_cl.apply(lambda x : 0 if x['Name'] == \"PwC\"\n",
        "                                      or x['Name'] == \"Deloitte\"\n",
        "                                      or x['Name'] == \"EY\"\n",
        "                                      or x['Name'] == \"KPMG\" else 1, axis=1)\n",
        "\n",
        "uk_mm_pre_anet[\"Big 4\"]=uk_mm_pre_anet.apply(lambda x : 0 if x['Name'] == \"PwC\"\n",
        "                                      or x['Name'] == \"Deloitte\"\n",
        "                                      or x['Name'] == \"EY\"\n",
        "                                      or x['Name'] == \"KPMG\" else 1, axis=1)\n",
        "uk_mm_post_anet[\"Big 4\"]=uk_mm_post_anet.apply(lambda x : 0 if x['Name'] == \"PwC\"\n",
        "                                      or x['Name'] == \"Deloitte\"\n",
        "                                      or x['Name'] == \"EY\"\n",
        "                                      or x['Name'] == \"KPMG\" else 1, axis=1)\n",
        "\n",
        "ger_reg_pre_anet[\"Big 4\"]=ger_reg_pre_anet.apply(lambda x : 0 if x['Name'] == \"PwC\"\n",
        "                                      or x['Name'] == \"Deloitte\"\n",
        "                                      or x['Name'] == \"EY\"\n",
        "                                      or x['Name'] == \"KPMG\" else 1, axis=1)\n",
        "ger_reg_post_anet[\"Big 4\"]=ger_reg_post_anet.apply(lambda x : 0 if x['Name'] == \"PwC\"\n",
        "                                      or x['Name'] == \"Deloitte\"\n",
        "                                      or x['Name'] == \"EY\"\n",
        "                                      or x['Name'] == \"KPMG\" else 1, axis=1)"
      ],
      "metadata": {
        "id": "fZ1VmV370w3H"
      },
      "execution_count": null,
      "outputs": []
    },
    {
      "cell_type": "code",
      "source": [
        "# calculate Big 4 market share\n",
        "uk_mm_pre_cl4=uk_mm_pre_cl[uk_mm_pre_cl['Big 4']==0][\"Market Concentration (Clients)\"].sum()\n",
        "uk_mm_post_cl4=uk_mm_post_cl[uk_mm_post_cl['Big 4']==0][\"Market Concentration (Clients)\"].sum()\n",
        "ger_reg_pre_cl4=ger_reg_pre_cl[ger_reg_pre_cl['Big 4']==0][\"Market Concentration (Clients)\"].sum()\n",
        "ger_reg_post_cl4=ger_reg_post_cl[ger_reg_post_cl['Big 4']==0][\"Market Concentration (Clients)\"].sum()\n",
        "\n",
        "uk_mm_pre_anet4=uk_mm_pre_anet[uk_mm_pre_anet['Big 4']==0][\"Market Concentration (Fees)\"].sum()\n",
        "uk_mm_post_anet4=uk_mm_post_anet[uk_mm_post_anet['Big 4']==0][\"Market Concentration (Fees)\"].sum()\n",
        "ger_reg_pre_anet4=ger_reg_pre_anet[ger_reg_pre_anet['Big 4']==0][\"Market Concentration (Fees)\"].sum()\n",
        "ger_reg_post_anet4=ger_reg_post_anet[ger_reg_post_anet['Big 4']==0][\"Market Concentration (Fees)\"].sum()\n",
        "\n",
        "# calculate Big4 HHI\n",
        "uk_mm_pre_anetHHI4=uk_mm_pre_anet[uk_mm_pre_anet['Big 4']==0][\"Squared share\"].sum()\n",
        "uk_mm_post_anetHHI4=uk_mm_post_anet[uk_mm_post_anet['Big 4']==0][\"Squared share\"].sum()\n",
        "\n",
        "ger_reg_pre_anetHHI4=ger_reg_pre_anet[ger_reg_pre_anet['Big 4']==0][\"Squared share\"].sum()\n",
        "ger_reg_post_anetHHI4=ger_reg_post_anet[ger_reg_post_anet['Big 4']==0][\"Squared share\"].sum()\n",
        "\n",
        "uk_mm_pre_clHHI4=uk_mm_pre_cl[uk_mm_pre_cl['Big 4']==0][\"Squared share\"].sum()\n",
        "uk_mm_post_clHHI4=uk_mm_post_cl[uk_mm_post_cl['Big 4']==0][\"Squared share\"].sum()\n",
        "\n",
        "ger_reg_pre_clHHI4=ger_reg_pre_cl[ger_reg_pre_cl['Big 4']==0][\"Squared share\"].sum()\n",
        "ger_reg_post_clHHI4=ger_reg_post_cl[ger_reg_post_cl['Big 4']==0][\"Squared share\"].sum()"
      ],
      "metadata": {
        "id": "lUtDvwjD1O9M"
      },
      "execution_count": null,
      "outputs": []
    },
    {
      "cell_type": "code",
      "source": [
        "# calculate largest 4 share\n",
        "uk_mm_pre_cll4=uk_mm_pre_cl.head(n=4)[\"Market Concentration (Clients)\"].sum()\n",
        "uk_mm_post_cll4=uk_mm_post_cl.head(n=4)[\"Market Concentration (Clients)\"].sum()\n",
        "ger_reg_pre_cll4=ger_reg_pre_cl.head(n=4)[\"Market Concentration (Clients)\"].sum()\n",
        "ger_reg_post_cll4=ger_reg_post_cl.head(n=4)[\"Market Concentration (Clients)\"].sum()\n",
        "\n",
        "uk_mm_pre_anetl4=uk_mm_pre_anet.head(n=4)[\"Market Concentration (Fees)\"].sum()\n",
        "uk_mm_post_anetl4=uk_mm_post_anet.head(n=4)[\"Market Concentration (Fees)\"].sum()\n",
        "ger_reg_pre_anetl4=ger_reg_pre_anet.head(n=4)[\"Market Concentration (Fees)\"].sum()\n",
        "ger_reg_post_anetl4=ger_reg_post_anet.head(n=4)[\"Market Concentration (Fees)\"].sum()"
      ],
      "metadata": {
        "id": "lDGrQY1uIm5B"
      },
      "execution_count": null,
      "outputs": []
    },
    {
      "cell_type": "code",
      "source": [
        "#Panel A2, B2"
      ],
      "metadata": {
        "id": "v1tg42UByHWx"
      },
      "execution_count": null,
      "outputs": []
    },
    {
      "cell_type": "code",
      "source": [
        "# merge on name, we need merged to calculate average fees\n",
        "uk_mm_pre_afpc=pd.merge(uk_mm_pre_anet, uk_mm_pre_cl, on=\"Name\")\n",
        "uk_mm_post_afpc=pd.merge(uk_mm_post_anet, uk_mm_post_cl, on=\"Name\")\n",
        "\n",
        "ger_reg_pre_afpc=pd.merge(ger_reg_pre_anet, ger_reg_pre_cl, on=\"Name\")\n",
        "ger_reg_post_afpc=pd.merge(ger_reg_post_anet, ger_reg_post_cl, on=\"Name\")"
      ],
      "metadata": {
        "id": "fAaqzaN4wqdY"
      },
      "execution_count": null,
      "outputs": []
    },
    {
      "cell_type": "code",
      "source": [
        "# calculate average fees and round on two decimal points for better presentation\n",
        "uk_mm_pre_afpc[\"Average Audit Fees per Client\"]=round(uk_mm_pre_afpc[\"Sum\"]/uk_mm_pre_afpc[\"Count\"],2)\n",
        "uk_mm_post_afpc[\"Average Audit Fees per Client\"]=round(uk_mm_post_afpc[\"Sum\"]/uk_mm_post_afpc[\"Count\"],2)\n",
        "\n",
        "ger_reg_pre_afpc[\"Average Audit Fees per Client\"]=round(ger_reg_pre_afpc[\"Sum\"]/ger_reg_pre_afpc[\"Count\"],2)\n",
        "ger_reg_post_afpc[\"Average Audit Fees per Client\"]=round(ger_reg_post_afpc[\"Sum\"]/ger_reg_post_afpc[\"Count\"],2)"
      ],
      "metadata": {
        "id": "V8wHysJaykcC"
      },
      "execution_count": null,
      "outputs": []
    },
    {
      "cell_type": "code",
      "source": [
        "# Big 4 average fees based on the binary variable produced above\n",
        "uk_mm_pre_afpc4=uk_mm_pre_afpc[uk_mm_pre_afpc['Big 4_x']==0][\"Average Audit Fees per Client\"].sum()/4\n",
        "print(uk_mm_pre_afpc4)\n",
        "uk_mm_post_afpc4=uk_mm_post_afpc[uk_mm_post_afpc['Big 4_x']==0][\"Average Audit Fees per Client\"].sum()/4\n",
        "print(uk_mm_post_afpc4)\n",
        "ger_reg_pre_afpc4=ger_reg_pre_afpc[ger_reg_pre_afpc['Big 4_x']==0][\"Average Audit Fees per Client\"].sum()/4\n",
        "print(ger_reg_pre_afpc4)\n",
        "ger_reg_post_afpc4=ger_reg_post_afpc[ger_reg_post_afpc['Big 4_x']==0][\"Average Audit Fees per Client\"].sum()/4\n",
        "print(ger_reg_post_afpc4)"
      ],
      "metadata": {
        "id": "st6CBIjEMkH5",
        "colab": {
          "base_uri": "https://localhost:8080/"
        },
        "outputId": "0060d85f-c09e-4ac8-d441-6886bb397fb3"
      },
      "execution_count": null,
      "outputs": [
        {
          "output_type": "stream",
          "name": "stdout",
          "text": [
            "1544410.2125\n",
            "1894847.4775\n",
            "2473407.185\n",
            "3072218.1225000005\n"
          ]
        }
      ]
    }
  ]
}